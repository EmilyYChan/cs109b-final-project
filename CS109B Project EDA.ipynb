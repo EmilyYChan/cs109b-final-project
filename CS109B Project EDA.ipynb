{
 "cells": [
  {
   "cell_type": "code",
   "execution_count": 1,
   "metadata": {},
   "outputs": [
    {
     "name": "stderr",
     "output_type": "stream",
     "text": [
      "[nltk_data] Downloading package punkt to /home/70960524/nltk_data...\n",
      "[nltk_data]   Package punkt is already up-to-date!\n",
      "[nltk_data] Downloading package averaged_perceptron_tagger to\n",
      "[nltk_data]     /home/70960524/nltk_data...\n",
      "[nltk_data]   Package averaged_perceptron_tagger is already up-to-\n",
      "[nltk_data]       date!\n",
      "[nltk_data] Downloading package stopwords to\n",
      "[nltk_data]     /home/70960524/nltk_data...\n",
      "[nltk_data]   Package stopwords is already up-to-date!\n",
      "[nltk_data] Downloading package wordnet to /home/70960524/nltk_data...\n",
      "[nltk_data]   Package wordnet is already up-to-date!\n"
     ]
    },
    {
     "data": {
      "text/plain": [
       "True"
      ]
     },
     "execution_count": 1,
     "metadata": {},
     "output_type": "execute_result"
    }
   ],
   "source": [
    "from IPython.display import Image\n",
    "\n",
    "import lzma, json\n",
    "import numpy as np\n",
    "import matplotlib.pyplot as plt\n",
    "import pandas as pd\n",
    "from bs4 import BeautifulSoup\n",
    "import pickle\n",
    "import string\n",
    "\n",
    "%config InlineBackend.figure_format = 'retina'\n",
    "import nltk\n",
    "from nltk.tokenize import sent_tokenize, word_tokenize\n",
    "from nltk.corpus import stopwords\n",
    "from nltk import ngrams, FreqDist\n",
    "nltk.download('punkt')\n",
    "nltk.download('averaged_perceptron_tagger')\n",
    "nltk.download('stopwords')\n",
    "nltk.download('wordnet')"
   ]
  },
  {
   "cell_type": "markdown",
   "metadata": {},
   "source": [
    "# Project C EDA \n",
    "\n",
    "The three questions we kept in mind while doing EDA were:\n",
    "\n",
    "1) Given everything you have learned, if you faced this data set in the wild, how would you proceed? \n",
    "\n",
    "2) What are the important measures? \n",
    "\n",
    "3) What are the right questions to ask, and how can the data answer them?\n",
    "\n",
    "Before beginning EDA, we decided to first read up on the current uses of the data, and why Harvard decided to publish it. Currently, the data is used to examine how the usage of words/topics changes over time (e.g. \"abortion\", \"bear arms\", etc.). It seems that the questions we'd like to investigate through this EDA are:\n",
    "\n",
    "What are the important characteristics of these cases? What are they about? How do they differ between states? How do they change over time?\n",
    "\n",
    "We may not be able to answer all of these questions through our EDA, but it is good to keep them in mind. It seems like the most important aspect of our data will be the case body, as measures such as pages, docket number, volume, etc. probably don't matter too much for our purposes. We explored the data using both NLP and non-NLP methods. For the NLP, we only included our work for a single state, New Mexico, because our code is quite repetitive and we felt a single state was representative. In addition, we faced computational difficulties with some of the other states (Illinois was too large and crashed Jupyterhub)."
   ]
  },
  {
   "cell_type": "markdown",
   "metadata": {},
   "source": [
    "# Importing the Data"
   ]
  },
  {
   "cell_type": "markdown",
   "metadata": {},
   "source": [
    "In order to parse our data into a useful form, we read the file and then convert the data into nested dictionaries."
   ]
  },
  {
   "cell_type": "code",
   "execution_count": 2,
   "metadata": {},
   "outputs": [],
   "source": [
    "# reading the data into a list\n",
    "cases = []\n",
    "with lzma.open(\"New Mexico-20200302-text/data/data.jsonl.xz\") as in_file:\n",
    "    for line in in_file:\n",
    "        case = json.loads(str(line, 'utf8'))\n",
    "        cases.append(case)"
   ]
  },
  {
   "cell_type": "code",
   "execution_count": 3,
   "metadata": {},
   "outputs": [],
   "source": [
    "# parse list into dictionary \n",
    "case_data = {}\n",
    "for k,v in [(key,d[key]) for d in cases for key in d]:\n",
    "    if k not in case_data: case_data[k]=[v]\n",
    "    else: case_data[k].append(v)"
   ]
  },
  {
   "cell_type": "code",
   "execution_count": 4,
   "metadata": {},
   "outputs": [],
   "source": [
    "# get casebody, ignore attributes like volume, url, id, etc.\n",
    "casebody = case_data['casebody']\n",
    "case_text = {}\n",
    "for k,v in [(key,d[key]) for d in casebody for key in d]:\n",
    "    if k not in case_text: case_text[k]=[v]\n",
    "    else: case_text[k].append(v)"
   ]
  },
  {
   "cell_type": "code",
   "execution_count": 5,
   "metadata": {},
   "outputs": [],
   "source": [
    "# get data from casebody, ignore attributes like judges\n",
    "casetemp = case_text['data']\n",
    "case_pre = {}\n",
    "for k,v in [(key,d[key]) for d in casetemp for key in d]:\n",
    "    if k not in case_pre: case_pre[k]=[v]\n",
    "    else: case_pre[k].append(v)"
   ]
  },
  {
   "cell_type": "code",
   "execution_count": 6,
   "metadata": {},
   "outputs": [],
   "source": [
    "# get actual case text \n",
    "case_almost = case_pre['opinions']\n",
    "text_final = {}\n",
    "for i in range(len(case_almost)):\n",
    "    for k,v in [(key,d[key]) for d in case_almost[i] for key in d]:\n",
    "        if k not in text_final: text_final[k]=[v]\n",
    "        else: text_final[k].append(v)"
   ]
  },
  {
   "cell_type": "code",
   "execution_count": 7,
   "metadata": {},
   "outputs": [],
   "source": [
    "case_texts = text_final['text']"
   ]
  },
  {
   "cell_type": "code",
   "execution_count": 8,
   "metadata": {},
   "outputs": [
    {
     "data": {
      "text/plain": [
       "21061"
      ]
     },
     "execution_count": 8,
     "metadata": {},
     "output_type": "execute_result"
    }
   ],
   "source": [
    "len(case_texts)"
   ]
  },
  {
   "cell_type": "markdown",
   "metadata": {},
   "source": [
    "This is the number of cases in the New Mexico dataset, which is the smallest, with 21,061. We now have case_texts, which is a list of case brief strings."
   ]
  },
  {
   "cell_type": "markdown",
   "metadata": {},
   "source": []
  },
  {
   "cell_type": "markdown",
   "metadata": {},
   "source": [
    "# Cleaning the Data for NLP"
   ]
  },
  {
   "cell_type": "markdown",
   "metadata": {},
   "source": [
    "First, we'd like to clean and prepare the data for NLP analysis, which requires us to separate our sentences into individual words. We use NLTK's stopwords corpus to strip out uninformative words like \"the\", \"a\", etc."
   ]
  },
  {
   "cell_type": "code",
   "execution_count": 9,
   "metadata": {},
   "outputs": [],
   "source": [
    "def clean_words(fname):\n",
    "    text = fname\n",
    "    text = text.rstrip()\n",
    "    words = text.split()\n",
    "    stop_words = set(stopwords.words('english'))\n",
    "    words_clean = [w for w in words if not w in stop_words]\n",
    "    return words_clean"
   ]
  },
  {
   "cell_type": "code",
   "execution_count": 10,
   "metadata": {},
   "outputs": [],
   "source": [
    "the_clean_text = []\n",
    "for i in range(len(case_texts)):\n",
    "    the_clean_text.append(clean_words(fname = case_texts[i]))\n",
    "the_clean_texts= np.array(the_clean_text)"
   ]
  },
  {
   "cell_type": "markdown",
   "metadata": {},
   "source": [
    "We now have a list of lists of words, where the_clean_text[0] is the list of words for the first case."
   ]
  },
  {
   "cell_type": "markdown",
   "metadata": {},
   "source": [
    "# Visualizing Word Frequency\n",
    "Now, out first step is look at the distribution of words used in the briefs."
   ]
  },
  {
   "cell_type": "code",
   "execution_count": 11,
   "metadata": {},
   "outputs": [],
   "source": [
    "#get most common words from clean texts\n",
    "most_common_words = []\n",
    "fdist = []\n",
    "\n",
    "for i in range(len(the_clean_text)):\n",
    "    fdist1 = FreqDist(the_clean_text[i])\n",
    "    most_common = fdist1.most_common(20)\n",
    "    fdist.append(fdist1)\n",
    "    most_common_words.append(most_common)"
   ]
  },
  {
   "cell_type": "code",
   "execution_count": 12,
   "metadata": {},
   "outputs": [
    {
     "data": {
      "text/plain": [
       "[('The', 317270),\n",
       " ('v.', 238052),\n",
       " ('court', 196248),\n",
       " ('N.M.', 143341),\n",
       " ('P.2d', 125471),\n",
       " ('trial', 91731),\n",
       " ('State', 88841),\n",
       " ('evidence', 69481),\n",
       " ('Defendant', 69380),\n",
       " ('*', 68454),\n",
       " ('defendant', 60265),\n",
       " ('district', 56660),\n",
       " ('upon', 45772),\n",
       " ('In', 43410),\n",
       " ('would', 41032),\n",
       " ('Section', 40953),\n",
       " ('jury', 35461),\n",
       " ('said', 34996),\n",
       " ('We', 34558),\n",
       " ('case', 31329)]"
      ]
     },
     "execution_count": 12,
     "metadata": {},
     "output_type": "execute_result"
    }
   ],
   "source": [
    "filter_s = []\n",
    "\n",
    "for most_common_words[0] in most_common_words:\n",
    "    for w in most_common_words[0]: \n",
    "        filter_s.append(w) \n",
    "        \n",
    "def Sort_Tuple(tup):\n",
    "    d = {x:0 for x, _ in tup} \n",
    "    for name, num in tup: d[name] += num \n",
    "  \n",
    "    Output = list(map(tuple, d.items())) \n",
    "    return(sorted(Output, key = lambda Output: Output[1],reverse = True))\n",
    "  \n",
    "sorted_words=Sort_Tuple(filter_s)\n",
    "sorted_words[:20]"
   ]
  },
  {
   "cell_type": "code",
   "execution_count": 16,
   "metadata": {},
   "outputs": [
    {
     "data": {
      "text/plain": [
       "Text(0.5, 1.0, 'Frequency of Top 50 Words in New Mexico Case Law Briefs')"
      ]
     },
     "execution_count": 16,
     "metadata": {},
     "output_type": "execute_result"
    },
    {
     "data": {
      "image/png": "[encoded data removed]",
      "text/plain": [
       "<Figure size 1440x504 with 1 Axes>"
      ]
     },
     "metadata": {
      "image/png": {
       "height": 504,
       "width": 1189
      },
      "needs_background": "light"
     },
     "output_type": "display_data"
    }
   ],
   "source": [
    "testList2 = [(elem1, elem2) for elem1, elem2 in sorted_words]\n",
    "plt.figure(figsize=(20,7))\n",
    "plt.xticks(rotation=90,fontsize=12)\n",
    "plt.scatter(*zip(*testList2[:50]))\n",
    "plt.xlabel('Word in Case Brief')\n",
    "plt.ylabel('Frequency')\n",
    "plt.title('Frequency of Top 50 Words in New Mexico Case Law Briefs')"
   ]
  },
  {
   "cell_type": "markdown",
   "metadata": {},
   "source": [
    "We can see that we probably still want to do additional cleaning of the data, to remove symbols and other extraneous words. Since this frequency plot is not terribly informative, we tried a few other ways of visualizing the frequency of words in the data. "
   ]
  },
  {
   "cell_type": "code",
   "execution_count": 27,
   "metadata": {},
   "outputs": [
    {
     "data": {
      "image/png": "[encoded data removed]",
      "text/plain": [
       "<PIL.Image.Image image mode=RGB size=400x200 at 0x7FA12D559810>"
      ]
     },
     "execution_count": 27,
     "metadata": {},
     "output_type": "execute_result"
    }
   ],
   "source": [
    "from wordcloud import WordCloud\n",
    "total_string = ','.join([','.join(i) for i in the_clean_text])\n",
    "wordcloud = WordCloud(background_color=\"white\", max_words=5000, contour_width=3, contour_color='steelblue')\n",
    "wordcloud.generate(total_string)\n",
    "wordcloud.to_image()"
   ]
  },
  {
   "cell_type": "markdown",
   "metadata": {},
   "source": [
    "Using a word cloud to visulaize the words used not only is more intuitive to understand, but the wordcloud package also removes symbols/extraneous words and puts together bi-grams (e.g. \"New Mexico\", \"trial court\"), which is helpful. However, simply analyzing the frequency of words still doesn't provide much insight into the content of the cases, so we decided to try some topic modelling to see what the topics are actually about. "
   ]
  },
  {
   "cell_type": "markdown",
   "metadata": {},
   "source": [
    "# Topic Modelling \n",
    "We arbitrarily chose 10 topics to group by at first--ideally, we would try grouping by several different numbers of topics, but due to computational limits, we could only run it once for each state. For this section, we used NLTK's wordnet to find the meaning of words, Gensim to perform LDA, and pyLDAvis to visualize our topics\n",
    "\n",
    "https://towardsdatascience.com/topic-modelling-in-python-with-nltk-and-gensim-4ef03213cd21\n",
    "\n",
    "First, we have to clean the data further by lemmatizing--i.e. turning all forms of a word with the same meaning into the root word. "
   ]
  },
  {
   "cell_type": "code",
   "execution_count": 52,
   "metadata": {},
   "outputs": [],
   "source": [
    "import spacy\n",
    "from spacy.lang.en import English\n",
    "parser = English()\n",
    "\n",
    "def tokenize(text):\n",
    "    lda_tokens = []\n",
    "    tokens = parser(text)\n",
    "    for token in tokens:\n",
    "        if token.orth_.isspace():\n",
    "            continue\n",
    "        elif token.like_url:\n",
    "            lda_tokens.append('URL')\n",
    "        elif token.orth_.startswith('@'):\n",
    "            lda_tokens.append('SCREEN_NAME')\n",
    "        else:\n",
    "            lda_tokens.append(token.lower_)\n",
    "    return lda_tokens"
   ]
  },
  {
   "cell_type": "code",
   "execution_count": 31,
   "metadata": {},
   "outputs": [],
   "source": [
    "from nltk.corpus import wordnet as wn\n",
    "def get_lemma(word):\n",
    "    lemma = wn.morphy(word)\n",
    "    if lemma is None:\n",
    "        return word\n",
    "    else:\n",
    "        return lemma"
   ]
  },
  {
   "cell_type": "code",
   "execution_count": 53,
   "metadata": {},
   "outputs": [
    {
     "name": "stderr",
     "output_type": "stream",
     "text": [
      "[nltk_data] Downloading package stopwords to\n",
      "[nltk_data]     /home/70960524/nltk_data...\n",
      "[nltk_data]   Package stopwords is already up-to-date!\n"
     ]
    }
   ],
   "source": [
    "en_stop = set(nltk.corpus.stopwords.words('english'))"
   ]
  },
  {
   "cell_type": "code",
   "execution_count": 54,
   "metadata": {},
   "outputs": [],
   "source": [
    "def prepare_text_for_lda(text):\n",
    "    tokens = tokenize(text)\n",
    "    tokens = [token for token in tokens if len(token) > 4]\n",
    "    tokens = [token for token in tokens if token not in en_stop]\n",
    "    tokens = [get_lemma(token) for token in tokens]\n",
    "    return tokens"
   ]
  },
  {
   "cell_type": "code",
   "execution_count": 55,
   "metadata": {},
   "outputs": [],
   "source": [
    "text_data = []\n",
    "for case in case_texts:\n",
    "    tokens = prepare_text_for_lda(case)\n",
    "    text_data.append(tokens)"
   ]
  },
  {
   "cell_type": "code",
   "execution_count": 56,
   "metadata": {},
   "outputs": [],
   "source": [
    "from gensim import corpora\n",
    "dictionary = corpora.Dictionary(text_data)"
   ]
  },
  {
   "cell_type": "code",
   "execution_count": 57,
   "metadata": {},
   "outputs": [],
   "source": [
    "corpus = [dictionary.doc2bow(text) for text in text_data]"
   ]
  },
  {
   "cell_type": "code",
   "execution_count": 58,
   "metadata": {},
   "outputs": [],
   "source": [
    "import pickle\n",
    "pickle.dump(corpus, open('corpus.pkl', 'wb'))\n",
    "dictionary.save('dictionary.gensim')"
   ]
  },
  {
   "cell_type": "code",
   "execution_count": 60,
   "metadata": {
    "collapsed": true
   },
   "outputs": [],
   "source": [
    "import gensim\n",
    "NUM_TOPICS = 10\n",
    "ldamodel = gensim.models.ldamodel.LdaModel(corpus, num_topics = NUM_TOPICS, id2word=dictionary, passes=15)\n",
    "ldamodel.save('model10.gensim')"
   ]
  },
  {
   "cell_type": "markdown",
   "metadata": {},
   "source": [
    "Now that we've created our model, we can take a look at how our LDA model decided to group our topics. We print the top four most relevant words for each topic group. "
   ]
  },
  {
   "cell_type": "code",
   "execution_count": 61,
   "metadata": {},
   "outputs": [
    {
     "name": "stdout",
     "output_type": "stream",
     "text": [
      "(0, '0.052*\"defendant\" + 0.029*\"state\" + 0.018*\"evidence\" + 0.017*\"court\"')\n",
      "(1, '0.024*\"property\" + 0.014*\"interest\" + 0.013*\"court\" + 0.012*\"estate\"')\n",
      "(2, '0.067*\"court\" + 0.026*\"district\" + 0.021*\"appeal\" + 0.020*\"order\"')\n",
      "(3, '0.031*\"defendant\" + 0.030*\"officer\" + 0.020*\"state\" + 0.013*\"search\"')\n",
      "(4, '0.016*\"property\" + 0.015*\"water\" + 0.013*\"state\" + 0.010*\"right\"')\n",
      "(5, '0.021*\"plaintiff\" + 0.021*\"appellant\" + 0.020*\"court\" + 0.019*\"defendant\"')\n",
      "(6, '0.031*\"state\" + 0.022*\"section\" + 0.020*\"statute\" + 0.013*\"court\"')\n",
      "(7, '0.023*\"plaintiff\" + 0.016*\"claim\" + 0.015*\"court\" + 0.010*\"policy\"')\n",
      "(8, '0.058*\"child\" + 0.021*\"court\" + 0.014*\"father\" + 0.012*\"mother\"')\n",
      "(9, '0.022*\"injury\" + 0.021*\"worker\" + 0.017*\"compensation\" + 0.017*\"employer\"')\n"
     ]
    }
   ],
   "source": [
    "topics = ldamodel.print_topics(num_words=4)\n",
    "for topic in topics:\n",
    "    print(topic)"
   ]
  },
  {
   "cell_type": "markdown",
   "metadata": {},
   "source": [
    "We can see that the topics actually do appear to be distinct. These topics can be contrasted with topics from other states, such as North Carolina and Arkansas, respectively.\n",
    "\n",
    "<img src=\"NC_topics.png\" alt=\"Drawing\" style=\"width: 500px;\"/>\n",
    "<img src=\"AK_topics.png\" alt=\"Drawing\" style=\"width: 500px;\"/>\n",
    "\n",
    "For example, New Mexico is the only state that has worker's compensation as a significant portion of the cases, which makes sense because New Mexico is a more agricultural area than Arkansas or North Carolina. Arkansas has more cases related to estates, inheritance, and insurance, while North Carolina's topics are somewhat less distinct. "
   ]
  },
  {
   "cell_type": "code",
   "execution_count": 62,
   "metadata": {},
   "outputs": [],
   "source": [
    "dictionary = gensim.corpora.Dictionary.load('dictionary.gensim')\n",
    "corpus = pickle.load(open('corpus.pkl', 'rb'))\n",
    "lda = gensim.models.ldamodel.LdaModel.load('model10.gensim')"
   ]
  },
  {
   "cell_type": "markdown",
   "metadata": {},
   "source": [
    "Finally, we use pyLDAvis to do a more comprehensive visualization of our topics."
   ]
  },
  {
   "cell_type": "code",
   "execution_count": 64,
   "metadata": {
    "scrolled": false
   },
   "outputs": [
    {
     "name": "stderr",
     "output_type": "stream",
     "text": [
      "/usr/share/anaconda3/lib/python3.7/site-packages/pyLDAvis/_prepare.py:257: FutureWarning: Sorting because non-concatenation axis is not aligned. A future version\n",
      "of pandas will change to not sort by default.\n",
      "\n",
      "To accept the future behavior, pass 'sort=False'.\n",
      "\n",
      "To retain the current behavior and silence the warning, pass 'sort=True'.\n",
      "\n",
      "  return pd.concat([default_term_info] + list(topic_dfs))\n"
     ]
    },
    {
     "data": {
      "text/html": [
       "\n",
       "<link rel=\"stylesheet\" type=\"text/css\" href=\"https://cdn.rawgit.com/bmabey/pyLDAvis/files/ldavis.v1.0.0.css\">\n",
       "\n",
       "\n",
       "<div id=\"ldavis_el279531403295721883689470631444\"></div>\n",
       "<script type=\"text/javascript\">\n",
       "\n",
       "var ldavis_el279531403295721883689470631444_data = {\"mdsDat\": {\"x\": [0.14826975953743615, -0.19238553955640772, 0.012487775008149368, 0.16256203867702898, -0.12245523795801033, -0.03195306763413996, -0.04824241777271965, -0.003280068675486605, 0.06133950103743763, 0.013657257336712955], \"y\": [-0.04864757695415153, -0.0410665436379762, 0.04851630673129323, -0.026121045746981195, 0.04353624716692115, -0.15881205878810056, 0.11380701137491507, -0.007558524276597791, 0.16006687170569478, -0.08372068757501656], \"topics\": [1, 2, 3, 4, 5, 6, 7, 8, 9, 10], \"cluster\": [1, 1, 1, 1, 1, 1, 1, 1, 1, 1], \"Freq\": [16.677183151245117, 8.532548904418945, 12.726527214050293, 6.267317295074463, 6.888271331787109, 14.814275741577148, 12.319662094116211, 10.89222526550293, 4.605008602142334, 6.276980876922607]}, \"tinfo\": {\"Category\": [\"Default\", \"Default\", \"Default\", \"Default\", \"Default\", \"Default\", \"Default\", \"Default\", \"Default\", \"Default\", \"Default\", \"Default\", \"Default\", \"Default\", \"Default\", \"Default\", \"Default\", \"Default\", \"Default\", \"Default\", \"Default\", \"Default\", \"Default\", \"Default\", \"Default\", \"Default\", \"Default\", \"Default\", \"Default\", \"Default\", \"Topic1\", \"Topic1\", \"Topic1\", \"Topic1\", \"Topic1\", \"Topic1\", \"Topic1\", \"Topic1\", \"Topic1\", \"Topic1\", \"Topic1\", \"Topic1\", \"Topic1\", \"Topic1\", \"Topic1\", \"Topic1\", \"Topic1\", \"Topic1\", \"Topic1\", \"Topic1\", \"Topic1\", \"Topic1\", \"Topic1\", \"Topic1\", \"Topic1\", \"Topic1\", \"Topic1\", \"Topic1\", \"Topic1\", \"Topic1\", \"Topic1\", \"Topic1\", \"Topic1\", \"Topic1\", \"Topic1\", \"Topic1\", \"Topic1\", \"Topic1\", \"Topic1\", \"Topic1\", \"Topic1\", \"Topic1\", \"Topic1\", \"Topic1\", \"Topic1\", \"Topic1\", \"Topic1\", \"Topic1\", \"Topic1\", \"Topic1\", \"Topic1\", \"Topic1\", \"Topic1\", \"Topic1\", \"Topic1\", \"Topic1\", \"Topic1\", \"Topic1\", \"Topic1\", \"Topic1\", \"Topic1\", \"Topic1\", \"Topic1\", \"Topic1\", \"Topic1\", \"Topic1\", \"Topic1\", \"Topic1\", \"Topic1\", \"Topic1\", \"Topic1\", \"Topic1\", \"Topic1\", \"Topic1\", \"Topic1\", \"Topic1\", \"Topic1\", \"Topic1\", \"Topic1\", \"Topic1\", \"Topic1\", \"Topic1\", \"Topic1\", \"Topic2\", \"Topic2\", \"Topic2\", \"Topic2\", \"Topic2\", \"Topic2\", \"Topic2\", \"Topic2\", \"Topic2\", \"Topic2\", \"Topic2\", \"Topic2\", \"Topic2\", \"Topic2\", \"Topic2\", \"Topic2\", \"Topic2\", \"Topic2\", \"Topic2\", \"Topic2\", \"Topic2\", \"Topic2\", \"Topic2\", \"Topic2\", \"Topic2\", \"Topic2\", \"Topic2\", \"Topic2\", \"Topic2\", \"Topic2\", \"Topic2\", \"Topic2\", \"Topic2\", \"Topic2\", \"Topic2\", \"Topic2\", \"Topic2\", \"Topic2\", \"Topic2\", \"Topic2\", \"Topic2\", \"Topic2\", \"Topic2\", \"Topic2\", \"Topic2\", \"Topic2\", \"Topic2\", \"Topic2\", \"Topic2\", \"Topic2\", \"Topic2\", \"Topic2\", \"Topic2\", \"Topic2\", \"Topic2\", \"Topic2\", \"Topic2\", \"Topic2\", \"Topic2\", \"Topic2\", \"Topic2\", \"Topic2\", \"Topic2\", \"Topic2\", \"Topic2\", \"Topic2\", \"Topic2\", \"Topic2\", \"Topic2\", \"Topic2\", \"Topic2\", \"Topic2\", \"Topic2\", \"Topic2\", \"Topic2\", \"Topic2\", \"Topic2\", \"Topic2\", \"Topic2\", \"Topic2\", \"Topic2\", \"Topic2\", \"Topic2\", \"Topic2\", \"Topic2\", \"Topic3\", \"Topic3\", \"Topic3\", \"Topic3\", \"Topic3\", \"Topic3\", \"Topic3\", \"Topic3\", \"Topic3\", \"Topic3\", \"Topic3\", \"Topic3\", \"Topic3\", \"Topic3\", \"Topic3\", \"Topic3\", \"Topic3\", \"Topic3\", \"Topic3\", \"Topic3\", \"Topic3\", \"Topic3\", \"Topic3\", \"Topic3\", \"Topic3\", \"Topic3\", \"Topic3\", \"Topic3\", \"Topic3\", \"Topic3\", \"Topic3\", \"Topic3\", \"Topic3\", \"Topic3\", \"Topic3\", \"Topic3\", \"Topic3\", \"Topic3\", \"Topic3\", \"Topic3\", \"Topic3\", \"Topic3\", \"Topic3\", \"Topic3\", \"Topic3\", \"Topic3\", \"Topic3\", \"Topic3\", \"Topic3\", \"Topic3\", \"Topic3\", \"Topic3\", \"Topic3\", \"Topic3\", \"Topic3\", \"Topic3\", \"Topic3\", \"Topic3\", \"Topic3\", \"Topic3\", \"Topic3\", \"Topic3\", \"Topic3\", \"Topic3\", \"Topic3\", \"Topic3\", \"Topic3\", \"Topic3\", \"Topic3\", \"Topic3\", \"Topic3\", \"Topic3\", \"Topic3\", \"Topic3\", \"Topic3\", \"Topic3\", \"Topic3\", \"Topic3\", \"Topic3\", \"Topic3\", \"Topic3\", \"Topic3\", \"Topic3\", \"Topic3\", \"Topic3\", \"Topic3\", \"Topic3\", \"Topic3\", \"Topic4\", \"Topic4\", \"Topic4\", \"Topic4\", \"Topic4\", \"Topic4\", \"Topic4\", \"Topic4\", \"Topic4\", \"Topic4\", \"Topic4\", \"Topic4\", \"Topic4\", \"Topic4\", \"Topic4\", \"Topic4\", \"Topic4\", \"Topic4\", \"Topic4\", \"Topic4\", \"Topic4\", \"Topic4\", \"Topic4\", \"Topic4\", \"Topic4\", \"Topic4\", \"Topic4\", \"Topic4\", \"Topic4\", \"Topic4\", \"Topic4\", \"Topic4\", \"Topic4\", \"Topic4\", \"Topic4\", \"Topic4\", \"Topic4\", \"Topic4\", \"Topic4\", \"Topic4\", \"Topic4\", \"Topic4\", \"Topic4\", \"Topic4\", \"Topic4\", \"Topic4\", \"Topic4\", \"Topic4\", \"Topic4\", \"Topic4\", \"Topic4\", \"Topic4\", \"Topic4\", \"Topic4\", \"Topic4\", \"Topic4\", \"Topic4\", \"Topic4\", \"Topic4\", \"Topic4\", \"Topic4\", \"Topic4\", \"Topic4\", \"Topic4\", \"Topic4\", \"Topic4\", \"Topic4\", \"Topic4\", \"Topic4\", \"Topic4\", \"Topic4\", \"Topic4\", \"Topic4\", \"Topic4\", \"Topic4\", \"Topic4\", \"Topic4\", \"Topic4\", \"Topic4\", \"Topic4\", \"Topic4\", \"Topic4\", \"Topic4\", \"Topic4\", \"Topic4\", \"Topic5\", \"Topic5\", \"Topic5\", \"Topic5\", \"Topic5\", \"Topic5\", \"Topic5\", \"Topic5\", \"Topic5\", \"Topic5\", \"Topic5\", \"Topic5\", \"Topic5\", \"Topic5\", \"Topic5\", \"Topic5\", \"Topic5\", \"Topic5\", \"Topic5\", \"Topic5\", \"Topic5\", \"Topic5\", \"Topic5\", \"Topic5\", \"Topic5\", \"Topic5\", \"Topic5\", \"Topic5\", \"Topic5\", \"Topic5\", \"Topic5\", \"Topic5\", \"Topic5\", \"Topic5\", \"Topic5\", \"Topic5\", \"Topic5\", \"Topic5\", \"Topic5\", \"Topic5\", \"Topic5\", \"Topic5\", \"Topic5\", \"Topic5\", \"Topic5\", \"Topic5\", \"Topic5\", \"Topic5\", \"Topic5\", \"Topic5\", \"Topic5\", \"Topic5\", \"Topic5\", \"Topic5\", \"Topic5\", \"Topic5\", \"Topic5\", \"Topic5\", \"Topic5\", \"Topic5\", \"Topic5\", \"Topic5\", \"Topic5\", \"Topic5\", \"Topic5\", \"Topic5\", \"Topic5\", \"Topic5\", \"Topic5\", \"Topic5\", \"Topic5\", \"Topic5\", \"Topic5\", \"Topic5\", \"Topic5\", \"Topic5\", \"Topic5\", \"Topic5\", \"Topic5\", \"Topic5\", \"Topic5\", \"Topic5\", \"Topic5\", \"Topic5\", \"Topic5\", \"Topic5\", \"Topic5\", \"Topic5\", \"Topic5\", \"Topic5\", \"Topic5\", \"Topic6\", \"Topic6\", \"Topic6\", \"Topic6\", \"Topic6\", \"Topic6\", \"Topic6\", \"Topic6\", \"Topic6\", \"Topic6\", \"Topic6\", \"Topic6\", \"Topic6\", \"Topic6\", \"Topic6\", \"Topic6\", \"Topic6\", \"Topic6\", \"Topic6\", \"Topic6\", \"Topic6\", \"Topic6\", \"Topic6\", \"Topic6\", \"Topic6\", \"Topic6\", \"Topic6\", \"Topic6\", \"Topic6\", \"Topic6\", \"Topic6\", \"Topic6\", \"Topic6\", \"Topic6\", \"Topic6\", \"Topic6\", \"Topic6\", \"Topic6\", \"Topic6\", \"Topic6\", \"Topic6\", \"Topic6\", \"Topic6\", \"Topic6\", \"Topic6\", \"Topic6\", \"Topic6\", \"Topic6\", \"Topic6\", \"Topic6\", \"Topic6\", \"Topic6\", \"Topic6\", \"Topic6\", \"Topic6\", \"Topic6\", \"Topic6\", \"Topic6\", \"Topic6\", \"Topic6\", \"Topic6\", \"Topic6\", \"Topic6\", \"Topic6\", \"Topic6\", \"Topic6\", \"Topic6\", \"Topic6\", \"Topic6\", \"Topic6\", \"Topic6\", \"Topic6\", \"Topic6\", \"Topic6\", \"Topic6\", \"Topic6\", \"Topic6\", \"Topic6\", \"Topic6\", \"Topic6\", \"Topic6\", \"Topic6\", \"Topic6\", \"Topic6\", \"Topic6\", \"Topic6\", \"Topic6\", \"Topic6\", \"Topic6\", \"Topic6\", \"Topic6\", \"Topic6\", \"Topic6\", \"Topic6\", \"Topic6\", \"Topic6\", \"Topic7\", \"Topic7\", \"Topic7\", \"Topic7\", \"Topic7\", \"Topic7\", \"Topic7\", \"Topic7\", \"Topic7\", \"Topic7\", \"Topic7\", \"Topic7\", \"Topic7\", \"Topic7\", \"Topic7\", \"Topic7\", \"Topic7\", \"Topic7\", \"Topic7\", \"Topic7\", \"Topic7\", \"Topic7\", \"Topic7\", \"Topic7\", \"Topic7\", \"Topic7\", \"Topic7\", \"Topic7\", \"Topic7\", \"Topic7\", \"Topic7\", \"Topic7\", \"Topic7\", \"Topic7\", \"Topic7\", \"Topic7\", \"Topic7\", \"Topic7\", \"Topic7\", \"Topic7\", \"Topic7\", \"Topic7\", \"Topic7\", \"Topic7\", \"Topic7\", \"Topic7\", \"Topic7\", \"Topic7\", \"Topic7\", \"Topic7\", \"Topic7\", \"Topic7\", \"Topic7\", \"Topic7\", \"Topic7\", \"Topic7\", \"Topic7\", \"Topic7\", \"Topic7\", \"Topic7\", \"Topic7\", \"Topic7\", \"Topic7\", \"Topic7\", \"Topic7\", \"Topic7\", \"Topic7\", \"Topic7\", \"Topic7\", \"Topic7\", \"Topic7\", \"Topic7\", \"Topic7\", \"Topic7\", \"Topic7\", \"Topic7\", \"Topic7\", \"Topic7\", \"Topic7\", \"Topic7\", \"Topic7\", \"Topic7\", \"Topic7\", \"Topic7\", \"Topic8\", \"Topic8\", \"Topic8\", \"Topic8\", \"Topic8\", \"Topic8\", \"Topic8\", \"Topic8\", \"Topic8\", \"Topic8\", \"Topic8\", \"Topic8\", \"Topic8\", \"Topic8\", \"Topic8\", \"Topic8\", \"Topic8\", \"Topic8\", \"Topic8\", \"Topic8\", \"Topic8\", \"Topic8\", \"Topic8\", \"Topic8\", \"Topic8\", \"Topic8\", \"Topic8\", \"Topic8\", \"Topic8\", \"Topic8\", \"Topic8\", \"Topic8\", \"Topic8\", \"Topic8\", \"Topic8\", \"Topic8\", \"Topic8\", \"Topic8\", \"Topic8\", \"Topic8\", \"Topic8\", \"Topic8\", \"Topic8\", \"Topic8\", \"Topic8\", \"Topic8\", \"Topic8\", \"Topic8\", \"Topic8\", \"Topic8\", \"Topic8\", \"Topic8\", \"Topic8\", \"Topic8\", \"Topic8\", \"Topic8\", \"Topic8\", \"Topic8\", \"Topic8\", \"Topic8\", \"Topic8\", \"Topic8\", \"Topic8\", \"Topic8\", \"Topic8\", \"Topic8\", \"Topic8\", \"Topic8\", \"Topic8\", \"Topic8\", \"Topic8\", \"Topic8\", \"Topic8\", \"Topic8\", \"Topic8\", \"Topic8\", \"Topic8\", \"Topic8\", \"Topic8\", \"Topic8\", \"Topic8\", \"Topic8\", \"Topic8\", \"Topic9\", \"Topic9\", \"Topic9\", \"Topic9\", \"Topic9\", \"Topic9\", \"Topic9\", \"Topic9\", \"Topic9\", \"Topic9\", \"Topic9\", \"Topic9\", \"Topic9\", \"Topic9\", \"Topic9\", \"Topic9\", \"Topic9\", \"Topic9\", \"Topic9\", \"Topic9\", \"Topic9\", \"Topic9\", \"Topic9\", \"Topic9\", \"Topic9\", \"Topic9\", \"Topic9\", \"Topic9\", \"Topic9\", \"Topic9\", \"Topic9\", \"Topic9\", \"Topic9\", \"Topic9\", \"Topic9\", \"Topic9\", \"Topic9\", \"Topic9\", \"Topic9\", \"Topic9\", \"Topic9\", \"Topic9\", \"Topic9\", \"Topic9\", \"Topic9\", \"Topic9\", \"Topic9\", \"Topic9\", \"Topic9\", \"Topic9\", \"Topic9\", \"Topic9\", \"Topic9\", \"Topic9\", \"Topic9\", \"Topic9\", \"Topic9\", \"Topic9\", \"Topic9\", \"Topic9\", \"Topic9\", \"Topic9\", \"Topic9\", \"Topic9\", \"Topic9\", \"Topic9\", \"Topic9\", \"Topic9\", \"Topic9\", \"Topic9\", \"Topic9\", \"Topic9\", \"Topic9\", \"Topic9\", \"Topic9\", \"Topic10\", \"Topic10\", \"Topic10\", \"Topic10\", \"Topic10\", \"Topic10\", \"Topic10\", \"Topic10\", \"Topic10\", \"Topic10\", \"Topic10\", \"Topic10\", \"Topic10\", \"Topic10\", \"Topic10\", \"Topic10\", \"Topic10\", \"Topic10\", \"Topic10\", \"Topic10\", \"Topic10\", \"Topic10\", \"Topic10\", \"Topic10\", \"Topic10\", \"Topic10\", \"Topic10\", \"Topic10\", \"Topic10\", \"Topic10\", \"Topic10\", \"Topic10\", \"Topic10\", \"Topic10\", \"Topic10\", \"Topic10\", \"Topic10\", \"Topic10\", \"Topic10\", \"Topic10\", \"Topic10\", \"Topic10\", \"Topic10\", \"Topic10\", \"Topic10\", \"Topic10\", \"Topic10\", \"Topic10\", \"Topic10\", \"Topic10\", \"Topic10\", \"Topic10\", \"Topic10\", \"Topic10\", \"Topic10\", \"Topic10\", \"Topic10\", \"Topic10\", \"Topic10\", \"Topic10\", \"Topic10\", \"Topic10\", \"Topic10\", \"Topic10\", \"Topic10\", \"Topic10\", \"Topic10\", \"Topic10\", \"Topic10\", \"Topic10\", \"Topic10\", \"Topic10\", \"Topic10\", \"Topic10\", \"Topic10\", \"Topic10\", \"Topic10\", \"Topic10\", \"Topic10\", \"Topic10\", \"Topic10\", \"Topic10\", \"Topic10\", \"Topic10\", \"Topic10\"], \"Freq\": [309624.0, 54073.0, 132787.0, 48168.0, 69683.0, 427029.0, 65620.0, 292366.0, 35626.0, 122844.0, 26963.0, 51289.0, 98754.0, 59452.0, 23056.0, 140474.0, 80784.0, 133520.0, 23494.0, 21584.0, 91540.0, 37162.0, 84819.0, 88537.0, 23183.0, 47107.0, 36161.0, 28731.0, 17080.0, 27583.0, 13630.294921875, 8760.3525390625, 7768.93798828125, 2656.44140625, 2613.14404296875, 1867.0135498046875, 1323.9591064453125, 1550.8460693359375, 1091.433349609375, 994.1481323242188, 888.7374267578125, 805.1762084960938, 776.4371337890625, 727.376708984375, 676.0196533203125, 671.5787353515625, 667.0569458007812, 606.1700439453125, 599.1070556640625, 597.0638427734375, 571.0139770507812, 550.1502075195312, 541.1879272460938, 507.5390930175781, 507.43707275390625, 498.44769287109375, 464.5867614746094, 449.7688293457031, 2563.09814453125, 373.5514831542969, 18615.80859375, 5749.4853515625, 2844.5517578125, 11663.4208984375, 26453.40234375, 2541.7568359375, 7089.24267578125, 1932.14501953125, 3646.541748046875, 2103.613037109375, 3863.6240234375, 3656.76708984375, 1019.4624633789062, 9492.4599609375, 3028.014404296875, 17953.361328125, 1416.1494140625, 5404.6640625, 3856.08984375, 24702.337890625, 17962.3125, 4374.32080078125, 6656.74365234375, 11888.470703125, 6191.58642578125, 6168.2802734375, 12624.5751953125, 3990.09033203125, 176117.109375, 24270.568359375, 15487.517578125, 17473.279296875, 8200.919921875, 4175.8837890625, 23961.869140625, 12571.4189453125, 26601.08984375, 17741.31640625, 61999.33203125, 20222.83203125, 98266.09375, 52923.7109375, 18186.12890625, 8790.2578125, 15235.7705078125, 57384.33203125, 15838.8505859375, 17601.58984375, 19442.3828125, 11042.9736328125, 13720.8251953125, 12692.744140625, 11428.9677734375, 4557.6513671875, 2695.33935546875, 2063.124755859375, 1787.15966796875, 1454.0106201171875, 1414.5362548828125, 1225.8548583984375, 1162.1033935546875, 1092.104736328125, 2293.852783203125, 840.074462890625, 789.6161499023438, 773.9672241210938, 717.52197265625, 662.5971069335938, 580.0592651367188, 573.4210815429688, 560.110595703125, 553.8521118164062, 423.80230712890625, 335.0435791015625, 319.5037536621094, 312.11444091796875, 303.08184814453125, 301.46722412109375, 299.8666076660156, 296.94976806640625, 287.732666015625, 286.64617919921875, 275.19927978515625, 9493.689453125, 3513.8779296875, 1647.6583251953125, 1105.5489501953125, 887.656005859375, 1774.3131103515625, 3235.145751953125, 20992.126953125, 11784.23828125, 702.3976440429688, 11406.5595703125, 2239.24609375, 2635.262451171875, 5254.787109375, 3380.397216796875, 2997.7177734375, 5235.63671875, 1899.00146484375, 18605.818359375, 4362.97216796875, 1608.2730712890625, 3382.3125, 9565.0869140625, 4387.50439453125, 41062.1171875, 4091.7490234375, 3312.691162109375, 5036.24853515625, 9449.501953125, 25017.126953125, 5350.1552734375, 5864.33544921875, 19336.443359375, 8835.2890625, 13098.916015625, 7296.353515625, 20929.009765625, 6475.654296875, 6769.2578125, 5557.39599609375, 4760.91943359375, 13022.41796875, 17237.01953125, 7611.986328125, 22968.890625, 7581.46728515625, 9006.037109375, 8846.75390625, 8128.01025390625, 8035.89013671875, 6928.5390625, 7054.1376953125, 6094.61376953125, 6249.1435546875, 6108.52001953125, 800.8319091796875, 761.9583740234375, 432.3699645996094, 412.6649475097656, 390.54180908203125, 351.333984375, 295.5027770996094, 279.3533935546875, 262.14276123046875, 242.15835571289062, 241.578125, 223.9954376220703, 208.19967651367188, 197.89175415039062, 192.4437713623047, 180.15509033203125, 165.10948181152344, 163.1257781982422, 162.26434326171875, 159.39527893066406, 142.23927307128906, 134.58749389648438, 127.72884368896484, 125.23374938964844, 112.73699188232422, 102.64109802246094, 101.86820983886719, 100.42546844482422, 99.51718139648438, 98.01810455322266, 3113.726806640625, 1617.8619384765625, 693.425048828125, 1123.7310791015625, 1278.7891845703125, 1226.024169921875, 1239.7386474609375, 4732.26904296875, 10630.8173828125, 9098.103515625, 556.7388305664062, 7401.2021484375, 1891.4915771484375, 2351.883056640625, 530.1809692382812, 30801.21875, 4343.41650390625, 41269.88671875, 4549.44580078125, 1017.4739990234375, 15416.3525390625, 3865.257080078125, 1799.7081298828125, 10415.6611328125, 25290.525390625, 54892.84375, 23287.0390625, 50714.6640625, 67303.3515625, 13044.6044921875, 8951.1044921875, 172676.1875, 10882.689453125, 3191.63037109375, 17360.859375, 21847.408203125, 16559.8515625, 8822.4228515625, 7825.37353515625, 32285.603515625, 42072.765625, 6006.51953125, 10579.15234375, 18702.39453125, 25727.337890625, 12059.6806640625, 21656.701171875, 14595.1494140625, 13136.2353515625, 14661.609375, 39357.03515625, 16106.599609375, 18705.330078125, 11776.70703125, 12755.69140625, 20533.529296875, 14285.5634765625, 11425.6796875, 1728.29931640625, 1144.8284912109375, 933.6271362304688, 915.5563354492188, 749.1614990234375, 711.9600219726562, 686.509033203125, 429.73443603515625, 384.60247802734375, 384.48382568359375, 372.0907897949219, 370.8181457519531, 355.79937744140625, 300.8505859375, 268.8299255371094, 264.2714538574219, 238.47865295410156, 238.75799560546875, 224.63052368164062, 217.62603759765625, 213.9991912841797, 211.69969177246094, 209.0186004638672, 208.55247497558594, 208.40565490722656, 196.8279266357422, 196.76002502441406, 195.76316833496094, 194.28501892089844, 193.48223876953125, 4222.2001953125, 16543.7265625, 1297.1138916015625, 1821.84716796875, 865.0194091796875, 543.0028076171875, 4790.44677734375, 1621.118896484375, 455.45684814453125, 400.53338623046875, 5425.73388671875, 2910.197021484375, 4697.16650390625, 1444.5169677734375, 2597.206298828125, 2013.4437255859375, 6379.5947265625, 15455.126953125, 38682.7578125, 5266.00634765625, 2561.6796875, 3669.449951171875, 2074.700927734375, 10777.1708984375, 2160.015869140625, 12108.4462890625, 3206.08984375, 4595.33935546875, 2796.415771484375, 8592.9638671875, 2486.111572265625, 2415.490478515625, 2307.854736328125, 10891.9375, 3459.766845703125, 39739.703125, 3683.377685546875, 25996.779296875, 12873.4560546875, 2974.104248046875, 5480.09375, 14836.45703125, 7662.27587890625, 6166.23388671875, 3800.004150390625, 5122.59912109375, 5415.74169921875, 3925.47314453125, 3912.934814453125, 5020.2412109375, 4968.390625, 4319.65234375, 4147.52099609375, 4043.018798828125, 3984.368896484375, 5954.99853515625, 2626.795654296875, 1109.3944091796875, 968.9939575195312, 693.7090454101562, 686.387451171875, 629.376220703125, 594.8552856445312, 456.91876220703125, 442.6867370605469, 426.41717529296875, 361.8625793457031, 351.1089782714844, 337.5296630859375, 323.1750183105469, 321.3417053222656, 313.337158203125, 288.3526306152344, 287.10040283203125, 275.95904541015625, 270.9105224609375, 261.2726745605469, 257.2694091796875, 253.6297607421875, 244.84803771972656, 244.649169921875, 237.93373107910156, 236.56077575683594, 225.75160217285156, 221.09133911132812, 21401.486328125, 6631.43212890625, 5958.51611328125, 2591.7255859375, 1476.0133056640625, 4272.091796875, 1253.1767578125, 811.4237670898438, 1265.7777099609375, 682.025634765625, 838.4220581054688, 2855.48828125, 2946.109375, 1460.4176025390625, 2883.9267578125, 3507.08740234375, 2911.0927734375, 2061.982177734375, 1585.4989013671875, 2154.41455078125, 2623.181884765625, 1003.6328125, 4916.6806640625, 3405.49658203125, 1256.1944580078125, 14079.1923828125, 3881.538818359375, 6967.08154296875, 1729.1488037109375, 3052.109375, 6166.16455078125, 3304.890869140625, 2416.091552734375, 2870.559814453125, 3628.98046875, 22252.49609375, 4219.0283203125, 6921.232421875, 7441.89404296875, 5577.0751953125, 9684.2548828125, 14547.0205078125, 5883.30810546875, 18633.6171875, 3955.211181640625, 7317.50830078125, 5766.26806640625, 7437.17822265625, 6310.05322265625, 4468.05126953125, 4823.21826171875, 5899.33251953125, 6922.9150390625, 6688.47021484375, 6355.25732421875, 6843.171875, 6054.6376953125, 6543.6259765625, 5275.95458984375, 4996.39306640625, 4904.4814453125, 3029.773681640625, 2331.815673828125, 1416.625244140625, 1136.960693359375, 1065.50634765625, 845.40771484375, 587.072998046875, 474.20556640625, 440.1307067871094, 353.2259521484375, 337.4107666015625, 337.0963134765625, 333.5327453613281, 283.51885986328125, 281.875732421875, 276.0856018066406, 269.02508544921875, 269.04803466796875, 250.5574493408203, 241.6146240234375, 223.3233642578125, 209.81906127929688, 208.58160400390625, 203.51390075683594, 193.51124572753906, 187.49758911132812, 173.32806396484375, 171.6776123046875, 170.60525512695312, 168.16647338867188, 23046.2421875, 62122.94921875, 1490.9552001953125, 217.34681701660156, 1889.2293701171875, 1528.2913818359375, 3743.94921875, 380.5977783203125, 7108.267578125, 297.3978271484375, 2319.033935546875, 665.414794921875, 4029.873779296875, 1789.1087646484375, 3176.218994140625, 1240.039794921875, 5839.51416015625, 957.1657104492188, 646.4541015625, 906.926025390625, 2440.709716796875, 8493.84375, 720.0465087890625, 3402.79150390625, 3889.6650390625, 64355.6796875, 16144.9853515625, 7439.162109375, 3090.41845703125, 1722.32373046875, 1673.6917724609375, 11569.646484375, 9832.236328125, 5863.2177734375, 15293.078125, 13896.982421875, 27095.7421875, 17180.39453125, 6908.02001953125, 27716.32421875, 7851.671875, 8916.0380859375, 19328.5546875, 11802.1513671875, 11697.6337890625, 57011.203125, 9348.3408203125, 30070.1796875, 59864.9140625, 14453.1826171875, 22404.021484375, 16308.021484375, 11788.994140625, 8585.74609375, 21126.732421875, 17218.95703125, 11812.572265625, 11982.337890625, 9305.345703125, 12711.70703125, 11208.923828125, 10286.8623046875, 11495.8017578125, 9977.576171875, 11726.5830078125, 10055.197265625, 3726.948974609375, 7997.8984375, 3143.296875, 2791.505126953125, 2523.974365234375, 2306.892333984375, 1632.1839599609375, 1051.002197265625, 1037.4095458984375, 1037.5225830078125, 974.0948486328125, 918.4732666015625, 827.5193481445312, 717.4912109375, 703.9764404296875, 660.8772583007812, 655.0191040039062, 650.9436645507812, 621.0504760742188, 606.0701904296875, 457.6515808105469, 407.4609680175781, 387.87774658203125, 378.5600891113281, 345.3572692871094, 344.8333740234375, 340.8642578125, 337.37353515625, 329.7751770019531, 328.0752868652344, 2267.035400390625, 1657.2659912109375, 928.000732421875, 2538.1669921875, 3144.8681640625, 3791.78857421875, 9121.572265625, 26294.767578125, 10713.7333984375, 4664.89892578125, 5728.416015625, 2086.512939453125, 12604.4765625, 1546.1502685546875, 2588.39599609375, 2782.886474609375, 2517.027587890625, 19709.755859375, 2658.068115234375, 1552.322265625, 13535.224609375, 50250.5703125, 8114.99560546875, 17146.95703125, 55206.45703125, 8313.83203125, 21816.109375, 21005.00390625, 22312.8671875, 9761.45703125, 6309.8173828125, 9171.435546875, 76725.2421875, 10691.8896484375, 11200.5341796875, 22815.263671875, 21784.611328125, 6748.52978515625, 8620.9189453125, 11769.5009765625, 12040.7265625, 8814.591796875, 11516.798828125, 10319.3427734375, 11078.2119140625, 12992.845703125, 33642.0390625, 12081.9091796875, 15215.1884765625, 16154.287109375, 11575.09375, 12129.7216796875, 10784.216796875, 10323.4365234375, 9499.0087890625, 8276.150390625, 1929.793212890625, 1793.9705810546875, 1480.9154052734375, 1370.8843994140625, 1090.91357421875, 1021.6871948242188, 755.4086303710938, 3408.80322265625, 701.4457397460938, 698.4359741210938, 532.634521484375, 506.743408203125, 470.57623291015625, 454.9869689941406, 454.61346435546875, 452.6126708984375, 417.358642578125, 386.5909729003906, 386.5889587402344, 382.7994079589844, 370.0665588378906, 364.3053894042969, 338.2236328125, 335.87890625, 319.5466003417969, 307.3870849609375, 998.2091064453125, 295.468505859375, 9440.232421875, 4792.5126953125, 1887.7996826171875, 504.87005615234375, 2883.212646484375, 1612.842529296875, 564.0580444335938, 1115.62548828125, 1558.532470703125, 1190.367919921875, 14167.9609375, 22445.8828125, 14382.3408203125, 1369.25732421875, 14093.1240234375, 2836.0947265625, 4969.32666015625, 19762.50390625, 1762.391357421875, 7576.67529296875, 4682.8427734375, 2248.13037109375, 2832.5830078125, 50496.5859375, 35639.85546875, 21278.8046875, 2197.45654296875, 6045.26904296875, 9734.98828125, 21049.634765625, 12426.5078125, 8227.173828125, 4912.52587890625, 16043.5380859375, 4259.2939453125, 7220.16845703125, 7063.57763671875, 15728.646484375, 8202.4248046875, 5500.2421875, 32904.36328125, 13744.4892578125, 13718.810546875, 9465.8828125, 6613.53076171875, 12013.04296875, 15784.15234375, 11276.9453125, 8309.00390625, 9166.1728515625, 11633.197265625, 8317.0712890625, 7678.47412109375, 3482.56396484375, 2345.4951171875, 1600.708984375, 1463.5369873046875, 1283.1328125, 54028.01171875, 855.0440063476562, 850.53515625, 839.2667846679688, 776.6600341796875, 695.1531982421875, 665.3324584960938, 609.0070190429688, 594.0009765625, 547.12109375, 502.7720642089844, 482.3620910644531, 477.0682067871094, 458.3277282714844, 440.0793151855469, 431.8742370605469, 392.2000732421875, 368.46441650390625, 336.9984436035156, 335.3556213378906, 332.4281311035156, 327.3941650390625, 296.583740234375, 280.7291564941406, 276.7775573730469, 10242.30859375, 969.4797973632812, 11528.162109375, 563.1271362304688, 8292.0810546875, 12950.3916015625, 3124.37158203125, 973.7702026367188, 2381.5263671875, 2815.73828125, 994.4000854492188, 7346.50048828125, 1009.3096923828125, 2720.299560546875, 3818.675537109375, 1418.7623291015625, 2346.37890625, 1343.3314208984375, 944.6373291015625, 6589.98095703125, 4069.4970703125, 3012.33203125, 2482.165771484375, 3229.656494140625, 3353.10693359375, 3725.615966796875, 5714.2646484375, 6841.52783203125, 8726.990234375, 2781.8076171875, 8670.892578125, 19583.59375, 3156.529541015625, 8425.0615234375, 6532.62939453125, 5815.0439453125, 6224.1220703125, 5684.36669921875, 4115.46337890625, 3658.601318359375, 4415.72900390625, 4093.569091796875, 3874.308349609375, 3903.543212890625, 3417.1865234375, 6932.51318359375, 736.5208740234375, 617.169921875, 468.6612548828125, 737.9072265625, 330.7622985839844, 291.9407653808594, 280.1587219238281, 271.30780029296875, 248.6558380126953, 242.4632110595703, 230.84385681152344, 221.57640075683594, 201.6845245361328, 198.91488647460938, 197.18930053710938, 192.85830688476562, 186.71316528320312, 179.85891723632812, 661.8248291015625, 166.15927124023438, 161.07595825195312, 160.0266571044922, 158.4737548828125, 157.9999542236328, 157.3723907470703, 155.63011169433594, 154.09291076660156, 148.55259704589844, 147.0917510986328, 26699.01171875, 8652.0927734375, 680.0921630859375, 404.7354431152344, 21525.8359375, 4774.37939453125, 21609.5859375, 1739.2354736328125, 14972.232421875, 1478.6064453125, 437.6292724609375, 5147.896484375, 2522.534423828125, 1474.3433837890625, 302.88946533203125, 5037.2568359375, 2032.0858154296875, 6746.40673828125, 28347.4609375, 1081.5655517578125, 836.3893432617188, 1783.4453125, 1147.2869873046875, 1246.7060546875, 12988.55859375, 10706.896484375, 6545.33447265625, 2635.599365234375, 11439.0478515625, 1665.8372802734375, 13154.595703125, 10354.009765625, 4398.56201171875, 2004.8319091796875, 3836.103759765625, 4076.71435546875, 6685.94970703125, 3818.429443359375, 17840.419921875, 9380.3359375, 4763.90673828125, 5618.84814453125, 4569.953125, 8923.78515625, 10679.6611328125, 3543.25439453125, 7493.9970703125, 7123.36181640625, 5814.45361328125, 5442.59619140625, 5404.35595703125, 6625.23095703125, 5594.06103515625, 5492.39111328125, 5410.353515625], \"Term\": [\"defendant\", \"child\", \"plaintiff\", \"officer\", \"property\", \"court\", \"appellant\", \"state\", \"injury\", \"district\", \"worker\", \"contract\", \"section\", \"motion\", \"employer\", \"evidence\", \"statute\", \"trial\", \"compensation\", \"water\", \"appeal\", \"hearing\", \"judgment\", \"order\", \"estate\", \"interest\", \"agreement\", \"legislature\", \"search\", \"damages\", \"murder\", \"juror\", \"prosecutor\", \"manslaughter\", \"homicide\", \"penetration\", \"acquittal\", \"larceny\", \"prosecutorial\", \"deprave\", \"swafford\", \"polygraph\", \"provocation\", \"swick\", \"alibi\", \"404(b\", \"40a-29\", \"accomplice\", \"prosecutrix\", \"paredez\", \"apprendi\", \"40a-16\", \"trustworthiness\", \"blockburger\", \"presentence\", \"bullcoming\", \"fingerprint\", \"efendant\", \"mistrial\", \"interlock\", \"victim\", \"jeopardy\", \"robbery\", \"felony\", \"conviction\", \"kidnapping\", \"indictment\", \"tampering\", \"confrontation\", \"habitual\", \"guilt\", \"shooting\", \"acquit\", \"convict\", \"killing\", \"offense\", \"innocence\", \"accused\", \"hearsay\", \"sentence\", \"crime\", \"assault\", \"grand\", \"guilty\", \"aggravate\", \"sexual\", \"degree\", \"battery\", \"defendant\", \"witness\", \"instruction\", \"criminal\", \"prosecution\", \"interview\", \"charge\", \"commit\", \"testimony\", \"defense\", \"evidence\", \"statement\", \"state\", \"trial\", \"testify\", \"count\", \"counsel\", \"court\", \"error\", \"whether\", \"would\", \"intent\", \"first\", \"could\", \"issue\", \"creditor\", \"debtor\", \"redemption\", \"testator\", \"alimony\", \"tenancy\", \"undivided\", \"mortgagee\", \"assignee\", \"debt\", \"gregoria\", \"negotiable\", \"testamentary\", \"mortgagor\", \"payee\", \"insolvent\", \"pendens\", \"repurchase\", \"testament\", \"smock\", \"ruggles\", \"codicil\", \"bequest\", \"cotenant\", \"executrix\", \"bankrupt\", \"devisee\", \"depositor\", \"encumbrance\", \"legatee\", \"mortgage\", \"foreclosure\", \"executor\", \"redeem\", \"escrow\", \"promissory\", \"assets\", \"estate\", \"trust\", \"quitclaim\", \"husband\", \"grantor\", \"heir\", \"purchaser\", \"spouse\", \"tenant\", \"probate\", \"broker\", \"payment\", \"trustee\", \"lien\", \"partnership\", \"lease\", \"proceeds\", \"property\", \"divorce\", \"conveyance\", \"instrument\", \"money\", \"interest\", \"execute\", \"security\", \"agreement\", \"purchase\", \"title\", \"community\", \"contract\", \"fraud\", \"account\", \"check\", \"share\", \"amount\", \"party\", \"value\", \"court\", \"receive\", \"right\", \"would\", \"judgment\", \"claim\", \"statute\", \"trial\", \"agree\", \"provide\", \"support\", \"appealable\", \"2009-nmsc-038\", \"060(b\", \"eller\", \"s.a.1953\", \"derringer\", \"wakeland\", \"coram\", \"nobis\", \"affordable\", \"redistricting\", \"praecipe\", \"refiled\", \"heinsen\", \"060(b)(1\", \"060(b)(6\", \"savedra\", \"returnable\", \"059(e\", \"downzoning\", \"refiling\", \"cherryhomes\", \"ferri\", \"weddle\", \"heckathorn\", \"201(d\", \"201(a)(2\", \"041(e)(2\", \"devon\", \"blueher\", \"contempt\", \"cartel\", \"helena\", \"finality\", \"disqualification\", \"untimely\", \"deadline\", \"speedy\", \"delay\", \"filing\", \"recuse\", \"dismissal\", \"interlocutory\", \"docket\", \"timeliness\", \"file\", \"timely\", \"motion\", \"pending\", \"aggrieve\", \"dismiss\", \"magistrate\", \"disqualify\", \"final\", \"attorney\", \"appeal\", \"hearing\", \"order\", \"district\", \"proceedings\", \"proceeding\", \"court\", \"petition\", \"certiorari\", \"notice\", \"judge\", \"jurisdiction\", \"procedure\", \"petitioner\", \"judgment\", \"trial\", \"appellate\", \"rule\", \"record\", \"issue\", \"request\", \"party\", \"grant\", \"counsel\", \"review\", \"state\", \"action\", \"right\", \"deny\", \"decision\", \"defendant\", \"claim\", \"enter\", \"warrantless\", \"exigent\", \"surveillance\", \"patrol\", \"checkpoint\", \"contraband\", \"sobriety\", \"charley\", \"brakes\", \"leyva\", \"roadblock\", \"curtilage\", \"muqqddin\", \"lane\", \"2000-nmsc-018\", \"arrestee\", \"lookout\", \"granville\", \"2011-nmsc-009\", \"sarna\", \"compartment\", \"median\", \"hunch\", \"seatbelt\", \"amphetamine\", \"dedman\", \"bloodshot\", \"intoxilyzer\", \"frisk\", \"calibration\", \"seizure\", \"search\", \"sergeant\", \"breath\", \"investigatory\", \"articulable\", \"suspicion\", \"methamphetamine\", \"speeding\", \"ignition\", \"traffic\", \"marijuana\", \"suppress\", \"informant\", \"privacy\", \"suppression\", \"driver\", \"vehicle\", \"officer\", \"driving\", \"seize\", \"alcohol\", \"speed\", \"arrest\", \"passenger\", \"police\", \"deputy\", \"probable\", \"drug\", \"warrant\", \"suspect\", \"intoxicate\", \"detention\", \"reasonable\", \"truck\", \"defendant\", \"fourth\", \"state\", \"evidence\", \"motor\", \"circumstances\", \"court\", \"whether\", \"person\", \"consent\", \"fact\", \"cause\", \"amendment\", \"possession\", \"would\", \"district\", \"appeal\", \"support\", \"conclude\", \"issue\", \"easement\", \"zoning\", \"lottery\", \"moongate\", \"annexation\", \"appurtenant\", \"prescriptive\", \"artesian\", \"abut\", \"groundwater\", \"appropriator\", \"egress\", \"ingress\", \"primetime\", \"intrastate\", \"unappropriated\", \"consumptive\", \"kmart\", \"bookseller\", \"reclamation\", \"aquifer\", \"trademark\", \"renewable\", \"geothermal\", \"anima\", \"navigable\", \"servient\", \"tariff\", \"rezoning\", \"acequias\", \"water\", \"taxpayer\", \"engineer\", \"waters\", \"stream\", \"utility\", \"nuisance\", \"drainage\", \"basin\", \"landfill\", \"protestant\", \"rates\", \"receipts\", \"diversion\", \"surface\", \"valuation\", \"ditch\", \"irrigation\", \"condemnation\", \"assessor\", \"river\", \"taxable\", \"assessment\", \"taxation\", \"landowner\", \"commission\", \"boundary\", \"land\", \"waste\", \"mineral\", \"tax\", \"revenue\", \"subdivision\", \"gross\", \"tract\", \"property\", \"highway\", \"owner\", \"value\", \"regulation\", \"public\", \"right\", \"business\", \"state\", \"commissioner\", \"purpose\", \"permit\", \"mexico\", \"grant\", \"service\", \"application\", \"determine\", \"would\", \"section\", \"order\", \"evidence\", \"district\", \"court\", \"require\", \"whether\", \"provide\", \"demurrer\", \"sadler\", \"bickley\", \"brice\", \"sheep\", \"defamatory\", \"hudspeth\", \"orator\", \"l.r.a.,n.s.\", \"demur\", \"r.c.l.\", \"fleetwood\", \"parallelism\", \"gertz\", \"libelous\", \"assumpsit\", \"mcfie\", \"calf\", \"liggett\", \"yucca\", \"crutcher\", \"lyster\", \"pellee\", \"weststar\", \"waldo\", \"c.c.a.\", \"acoma\", \"bratton\", \"akins\", \"tomas\", \"appellee\", \"appellant\", \"mcghee\", \"paddock\", \"aforesaid\", \"pray\", \"cattle\", \"kiker\", \"appellees\", \"raynolds\", \"parker\", \"ejectment\", \"a.l.r.\", \"thereupon\", \"compton\", \"brand\", \"deceased\", \"replevin\", \"libel\", \"interpose\", \"complainant\", \"sustain\", \"hanna\", \"thereto\", \"furnish\", \"plaintiff\", \"company\", \"thereof\", \"thereon\", \"horse\", \"moise\", \"answer\", \"show\", \"think\", \"point\", \"follow\", \"question\", \"error\", \"ground\", \"judgment\", \"proof\", \"possession\", \"cause\", \"complaint\", \"allege\", \"defendant\", \"verdict\", \"evidence\", \"court\", \"fact\", \"would\", \"action\", \"supra\", \"take\", \"trial\", \"claim\", \"without\", \"record\", \"appear\", \"party\", \"could\", \"matter\", \"right\", \"case\", \"state\", \"testimony\", \"governor\", \"indian\", \"tribe\", \"tribal\", \"voter\", \"ballot\", \"voting\", \"treaty\", \"elector\", \"photography\", \"gaming\", \"elane\", \"sorna\", \"sovereignty\", \"warranto\", \"senate\", \"republican\", \"comity\", \"partisan\", \"canvassing\", \"nmtca\", \"sectarian\", \"email\", \"frezza\", \"venetie\", \"glucksberg\", \"democratic\", \"appointee\", \"legislator\", \"guild\", \"political\", \"candidate\", \"vacancy\", \"vote\", \"pueblo\", \"legislation\", \"election\", \"legislature\", \"legislative\", \"congress\", \"enact\", \"teacher\", \"school\", \"religious\", \"sovereign\", \"repeal\", \"enactment\", \"board\", \"executive\", \"relator\", \"constitution\", \"statute\", \"government\", \"power\", \"section\", \"article\", \"county\", \"public\", \"shall\", \"constitutional\", \"ordinance\", \"office\", \"state\", \"provisions\", \"statutory\", \"mexico\", \"provide\", \"license\", \"provision\", \"authority\", \"jurisdiction\", \"amendment\", \"unite\", \"language\", \"general\", \"person\", \"court\", \"purpose\", \"right\", \"district\", \"within\", \"require\", \"apply\", \"would\", \"arbitration\", \"insured\", \"tortfeasor\", \"uninsured\", \"indemnification\", \"arbitrate\", \"unconscionability\", \"antitrust\", \"afscme\", \"allstate\", \"consortium\", \"retaliatory\", \"chevron\", \"kehoe\", \"012(b)(6\", \"underinsured\", \"uribe\", \"vicarious\", \"flemma\", \"59a-16\", \"rosette\", \"devaney\", \"internet\", \"indemnitee\", \"deutsche\", \"reule\", \"eyeglass\", \"erisa\", \"defamation\", \"treble\", \"coverage\", \"punitive\", \"arbitrator\", \"subcontract\", \"premium\", \"compensatory\", \"halliburton\", \"subcontractor\", \"bargaining\", \"stack\", \"insurance\", \"policy\", \"summary\", \"unconscionable\", \"liability\", \"restatement\", \"insurer\", \"damages\", \"tort\", \"breach\", \"contractor\", \"contractual\", \"lawsuit\", \"plaintiff\", \"claim\", \"contract\", \"genuine\", \"class\", \"employee\", \"party\", \"agreement\", \"award\", \"settlement\", \"action\", \"corp.\", \"internal\", \"marks\", \"issue\", \"omit\", \"dispute\", \"court\", \"whether\", \"judgment\", \"argue\", \"quotation\", \"district\", \"defendant\", \"would\", \"apply\", \"mexico\", \"state\", \"require\", \"provide\", \"parental\", \"disciplinary\", \"32a-2\", \"32a-4\", \"visitation\", \"child\", \"youthful\", \"probationer\", \"grandparent\", \"vanzi\", \"paternity\", \"probationary\", \"32a-5\", \"litem\", \"adoptive\", \"hanisee\", \"amenability\", \"emancipation\", \"qwest\", \"nicole\", \"kinship\", \"reunification\", \"caregiver\", \"uccjea\", \"gardu\\u00f1o\", \"parentage\", \"chatterjee\", \"emancipate\", \"clinesmith\", \"dispositional\", \"parent\", \"biological\", \"mother\", \"retardation\", \"probation\", \"father\", \"adult\", \"grandmother\", \"juvenile\", \"guardian\", \"guardianship\", \"custody\", \"youth\", \"revocation\", \"neglect\", \"placement\", \"parole\", \"discipline\", \"endangerment\", \"respondent\", \"family\", \"minor\", \"revoke\", \"adoption\", \"termination\", \"treatment\", \"department\", \"abuse\", \"hearing\", \"client\", \"support\", \"court\", \"relationship\", \"right\", \"district\", \"order\", \"evidence\", \"section\", \"interest\", \"conduct\", \"would\", \"provide\", \"require\", \"state\", \"whether\", \"workman\", \"surgical\", \"dahlgren\", \"loquitur\", \"yedidag\", \"disablement\", \"lupus\", \"cervical\", \"spine\", \"muscle\", \"lumbar\", \"payday\", \"2001-nmsc-034\", \"hernia\", \"gainful\", \"kidney\", \"fumes\", \"waymire\", \"benzene\", \"overtime\", \"crusher\", \"clower\", \"fusion\", \"myelogram\", \"orthopedic\", \"ailment\", \"breen\", \"degenerative\", \"antibiotic\", \"neurosis\", \"worker\", \"disability\", \"surgeon\", \"medically\", \"employer\", \"physician\", \"compensation\", \"disabled\", \"medical\", \"surgery\", \"modifier\", \"doctor\", \"causation\", \"compensable\", \"undocumented\", \"patient\", \"accidental\", \"hospital\", \"injury\", \"weekly\", \"larson\", \"disease\", \"unemployment\", \"causal\", \"accident\", \"employment\", \"claimant\", \"proximate\", \"negligence\", \"wages\", \"benefit\", \"employee\", \"injure\", \"provider\", \"suffer\", \"decedent\", \"death\", \"health\", \"plaintiff\", \"result\", \"expert\", \"award\", \"condition\", \"cause\", \"evidence\", \"treatment\", \"would\", \"section\", \"testimony\", \"opinion\", \"support\", \"court\", \"whether\", \"trial\", \"claim\"], \"Total\": [309624.0, 54073.0, 132787.0, 48168.0, 69683.0, 427029.0, 65620.0, 292366.0, 35626.0, 122844.0, 26963.0, 51289.0, 98754.0, 59452.0, 23056.0, 140474.0, 80784.0, 133520.0, 23494.0, 21584.0, 91540.0, 37162.0, 84819.0, 88537.0, 23183.0, 47107.0, 36161.0, 28731.0, 17080.0, 27583.0, 13631.1240234375, 8761.181640625, 7769.765625, 2657.26904296875, 2613.9716796875, 1867.8411865234375, 1324.7867431640625, 1551.921875, 1092.260986328125, 994.9757690429688, 889.5652465820312, 806.0038452148438, 777.2648315429688, 728.205078125, 676.8472900390625, 672.4063110351562, 667.8844604492188, 606.9976806640625, 599.9346923828125, 597.8914794921875, 571.8416748046875, 550.9779052734375, 542.0159301757812, 508.3666687011719, 508.2649230957031, 499.275390625, 465.4143981933594, 450.5992431640625, 2568.069091796875, 374.38079833984375, 18947.27734375, 5790.9052734375, 2853.970947265625, 11878.6337890625, 27184.5859375, 2558.974853515625, 7212.78271484375, 1941.0684814453125, 3688.34423828125, 2117.185791015625, 3913.432861328125, 3719.97021484375, 1024.19091796875, 9878.87109375, 3094.79931640625, 19044.810546875, 1429.151611328125, 5672.55029296875, 4012.703125, 27276.654296875, 19849.501953125, 4628.53125, 7265.6826171875, 13719.4873046875, 6845.1552734375, 6831.23291015625, 14941.0283203125, 4293.1474609375, 309624.4375, 33877.69140625, 20217.400390625, 23765.0078125, 9986.78515625, 4523.53857421875, 36468.3046875, 17382.666015625, 45713.515625, 28056.439453125, 140474.546875, 34013.296875, 292366.0625, 133520.15625, 31511.208984375, 12710.720703125, 34964.75, 427029.625, 38428.23046875, 80092.96875, 104846.3046875, 23678.98828125, 53701.6171875, 53369.65234375, 83035.984375, 4558.45947265625, 2696.1474609375, 2063.932861328125, 1787.9677734375, 1454.818603515625, 1415.34423828125, 1226.6632080078125, 1162.911376953125, 1092.9127197265625, 2296.056640625, 840.882568359375, 790.4242553710938, 774.7756958007812, 718.330078125, 663.4052124023438, 580.8673706054688, 574.2293090820312, 560.918701171875, 554.6607666015625, 424.6114196777344, 335.8519592285156, 320.31182861328125, 312.9225158691406, 303.8898620605469, 302.2752380371094, 300.675048828125, 297.7577819824219, 288.5407409667969, 287.4547119140625, 276.0072937011719, 9569.6005859375, 3531.623046875, 1663.2584228515625, 1119.5794677734375, 902.0919799804688, 1834.061767578125, 3396.681640625, 23183.72265625, 12852.7568359375, 717.2174682617188, 12802.24609375, 2391.173828125, 2833.919189453125, 5909.78466796875, 3736.26123046875, 3290.611328125, 6014.8310546875, 2033.810791015625, 24166.435546875, 5019.5078125, 1711.0836181640625, 3868.609130859375, 12241.4189453125, 5311.490234375, 69683.453125, 5019.3115234375, 3935.262939453125, 6498.1826171875, 14005.01953125, 47107.37890625, 7174.6982421875, 8074.26708984375, 36161.640625, 13965.0634765625, 23304.888671875, 11586.7470703125, 51289.3515625, 9983.509765625, 10788.25, 8142.81884765625, 6480.078125, 31248.8828125, 78553.0703125, 19347.345703125, 427029.625, 25073.517578125, 96103.875, 104846.3046875, 84819.5078125, 91926.9453125, 80784.703125, 133520.15625, 27566.833984375, 64774.0078125, 51724.10546875, 801.6726684570312, 762.7845458984375, 433.1960754394531, 413.4913330078125, 391.37152099609375, 352.16058349609375, 296.331787109375, 280.1794738769531, 262.96881103515625, 242.9846649169922, 242.4053497314453, 224.82174682617188, 209.02574157714844, 198.71783447265625, 193.27000427246094, 180.98118591308594, 165.93556213378906, 163.9520263671875, 163.09042358398438, 160.22183227539062, 143.0653533935547, 135.4135284423828, 128.554931640625, 126.06051635742188, 113.56327056884766, 103.46771240234375, 102.69446563720703, 101.2515869140625, 100.34559631347656, 98.84429931640625, 3162.268310546875, 1652.99267578125, 703.3261108398438, 1160.7413330078125, 1343.8187255859375, 1301.978515625, 1322.843017578125, 5302.26953125, 12413.26953125, 10688.7177734375, 586.8995361328125, 8732.06640625, 2132.57763671875, 2690.75830078125, 562.0399780273438, 42183.73046875, 5267.58935546875, 59452.734375, 5613.42626953125, 1133.011962890625, 21079.923828125, 4801.2783203125, 2120.82861328125, 14383.0048828125, 38483.7109375, 91540.703125, 37162.55859375, 88537.890625, 122844.140625, 20244.66015625, 13567.6396484375, 427029.625, 17185.9921875, 4196.470703125, 32366.39453125, 42869.71875, 31774.330078125, 14899.12890625, 12958.4609375, 84819.5078125, 133520.15625, 9783.8740234375, 21627.6796875, 47927.94140625, 83035.984375, 27605.1640625, 78553.0703125, 41026.921875, 34964.75, 42920.71484375, 292366.0625, 60847.33203125, 96103.875, 29273.3515625, 38452.5390625, 309624.4375, 91926.9453125, 27362.841796875, 1729.13671875, 1145.6658935546875, 934.4647216796875, 916.393798828125, 749.9988403320312, 712.79736328125, 687.3464965820312, 430.5726623535156, 385.43994140625, 385.3217468261719, 372.9283142089844, 371.6554870605469, 356.63702392578125, 301.68817138671875, 269.66729736328125, 265.10888671875, 239.31631469726562, 239.5970001220703, 225.46844482421875, 218.46348571777344, 214.83688354492188, 212.53762817382812, 209.85597229003906, 209.39013671875, 209.24533081054688, 197.66552734375, 197.59744262695312, 196.60057067871094, 195.1223907470703, 194.31964111328125, 4265.02587890625, 17080.384765625, 1306.366943359375, 1849.373046875, 872.8125610351562, 548.8780517578125, 4978.453125, 1669.13232421875, 460.94659423828125, 405.16937255859375, 5809.88525390625, 3082.752685546875, 5063.1572265625, 1513.76708984375, 2803.197265625, 2169.910888671875, 7244.6416015625, 18317.4296875, 48168.98828125, 6089.6787109375, 2860.066650390625, 4208.34033203125, 2303.4384765625, 13613.689453125, 2474.09521484375, 16612.142578125, 3904.230712890625, 6084.21533203125, 3471.724365234375, 13261.947265625, 3085.570556640625, 3001.64111328125, 3044.65576171875, 34992.671875, 5929.48388671875, 309624.4375, 7231.64404296875, 292366.0625, 140474.546875, 5739.2021484375, 28800.708984375, 427029.625, 80092.96875, 44433.72265625, 11588.51171875, 43193.4296875, 55999.62109375, 18135.275390625, 18016.173828125, 104846.3046875, 122844.140625, 91540.703125, 51724.10546875, 36671.5078125, 83035.984375, 5955.826171875, 2627.623291015625, 1110.2227783203125, 969.82177734375, 694.5368041992188, 687.2151489257812, 630.2041015625, 595.6829223632812, 457.7464904785156, 443.5143737792969, 427.2447814941406, 362.6903381347656, 351.9367370605469, 338.35809326171875, 324.0027160644531, 322.16943359375, 314.16485595703125, 289.1810607910156, 287.9281005859375, 276.7868347167969, 271.7381286621094, 262.1004333496094, 258.0975036621094, 254.45750427246094, 245.67616271972656, 245.4770050048828, 238.76144409179688, 237.388427734375, 226.57925415039062, 221.9190673828125, 21584.6484375, 6708.884765625, 6083.2734375, 2644.491943359375, 1500.0557861328125, 4413.81396484375, 1283.6845703125, 824.4397583007812, 1300.3870849609375, 692.9608154296875, 856.7154541015625, 3014.14990234375, 3114.847412109375, 1515.1595458984375, 3066.638427734375, 3758.619140625, 3106.832275390625, 2190.73828125, 1675.46484375, 2351.731201171875, 2916.51171875, 1059.675048828125, 6205.44921875, 4174.08544921875, 1376.09130859375, 21558.94140625, 5035.21142578125, 10773.7919921875, 2033.6910400390625, 4075.699951171875, 9631.7451171875, 4517.3291015625, 3117.081787109375, 3955.75390625, 5493.60986328125, 69683.453125, 7636.2392578125, 17134.72265625, 19347.345703125, 12862.6064453125, 39264.70703125, 96103.875, 18101.708984375, 292366.0625, 8059.55810546875, 41018.19921875, 22135.16796875, 63199.54296875, 41026.921875, 13135.5869140625, 21164.248046875, 51208.61328125, 104846.3046875, 98754.6796875, 88537.890625, 140474.546875, 122844.140625, 427029.625, 66283.40625, 80092.96875, 64774.0078125, 3030.5830078125, 2332.65234375, 1417.44091796875, 1137.770263671875, 1066.315673828125, 846.2171630859375, 587.8822631835938, 475.01483154296875, 440.9439392089844, 354.049560546875, 338.2212219238281, 337.90814208984375, 334.343017578125, 284.3284606933594, 282.6849670410156, 276.89483642578125, 269.8343200683594, 269.85784912109375, 251.36839294433594, 242.42398071289062, 224.13388061523438, 210.6283416748047, 209.3909912109375, 204.32334899902344, 194.32058715820312, 188.30685424804688, 174.14010620117188, 172.4868927001953, 171.4169464111328, 168.97584533691406, 23679.73828125, 65620.640625, 1516.734130859375, 218.39727783203125, 1944.468994140625, 1576.1080322265625, 3955.459228515625, 386.5036926269531, 7792.0712890625, 301.0562744140625, 2538.647705078125, 692.75, 4611.96435546875, 1980.31298828125, 3690.99267578125, 1358.392578125, 7099.21142578125, 1037.5482177734375, 684.2117919921875, 985.3554077148438, 2929.38232421875, 11552.1552734375, 774.7035522460938, 4334.52734375, 5097.07275390625, 132787.78125, 27296.39453125, 11277.8486328125, 4151.53955078125, 2094.03759765625, 2031.85595703125, 20984.84375, 17583.390625, 9564.8193359375, 32062.6953125, 28509.154296875, 68195.078125, 38428.23046875, 12285.39453125, 84819.5078125, 14935.1318359375, 18016.173828125, 55999.62109375, 28778.671875, 28464.138671875, 309624.4375, 20842.390625, 140474.546875, 427029.625, 43193.4296875, 104846.3046875, 60847.33203125, 34009.484375, 19644.490234375, 133520.15625, 91926.9453125, 42939.21875, 47927.94140625, 24363.859375, 78553.0703125, 53369.65234375, 38764.109375, 96103.875, 37573.3828125, 292366.0625, 45713.515625, 3727.777587890625, 7999.77099609375, 3144.125732421875, 2792.333740234375, 2524.802978515625, 2307.720947265625, 1633.0126953125, 1051.8331298828125, 1038.2381591796875, 1038.3514404296875, 974.9240112304688, 919.3020629882812, 828.3480834960938, 718.3198852539062, 704.8049926757812, 661.7061157226562, 655.8477783203125, 651.7723388671875, 621.8792114257812, 606.8988037109375, 458.48052978515625, 408.28961181640625, 388.71051025390625, 379.3889465332031, 346.185791015625, 345.66204833984375, 341.6928405761719, 338.2021484375, 330.603759765625, 328.9040222167969, 2281.26318359375, 1672.8258056640625, 932.7314453125, 2579.566650390625, 3205.8017578125, 3889.82470703125, 9471.1103515625, 28731.298828125, 11570.3212890625, 4939.4248046875, 6203.998046875, 2181.031494140625, 14460.556640625, 1605.204345703125, 2786.157958984375, 3029.728759765625, 2725.1328125, 24555.55859375, 2888.43212890625, 1630.8037109375, 18001.1953125, 80784.703125, 10763.572265625, 25653.806640625, 98754.6796875, 11732.341796875, 40104.59765625, 39264.70703125, 46986.72265625, 16269.64453125, 9143.908203125, 15652.6875, 292366.0625, 19316.8828125, 21686.578125, 63199.54296875, 64774.0078125, 11063.8232421875, 16701.982421875, 29116.83984375, 31774.330078125, 18135.275390625, 30450.958984375, 25041.728515625, 30974.576171875, 44433.72265625, 427029.625, 41018.19921875, 96103.875, 122844.140625, 41035.25, 66283.40625, 41787.8125, 104846.3046875, 9499.8447265625, 8276.986328125, 1930.62890625, 1794.806396484375, 1481.751220703125, 1371.7203369140625, 1091.7493896484375, 1022.5230712890625, 756.2445068359375, 3412.716064453125, 702.2819213867188, 699.271728515625, 533.4703979492188, 507.5792236328125, 471.4126281738281, 455.8226623535156, 455.4503479003906, 453.4485168457031, 418.1943664550781, 387.4266662597656, 387.4250183105469, 383.63519287109375, 370.9043273925781, 365.1410827636719, 339.0594787597656, 336.71527099609375, 320.3825988769531, 308.2228088378906, 1000.9686889648438, 296.30450439453125, 9487.6357421875, 4842.68603515625, 1905.47314453125, 507.7876892089844, 2957.399169921875, 1658.7276611328125, 569.5543212890625, 1144.3829345703125, 1620.631103515625, 1234.2763671875, 16359.236328125, 27284.95703125, 18307.41015625, 1473.1097412109375, 18605.083984375, 3261.072998046875, 6070.10986328125, 27583.158203125, 1973.872314453125, 9909.6455078125, 5834.2880859375, 2624.6982421875, 3479.892578125, 132787.78125, 91926.9453125, 51289.3515625, 2731.79638671875, 10882.9130859375, 22225.3125, 78553.0703125, 36161.640625, 19854.431640625, 9296.2763671875, 60847.33203125, 7679.8408203125, 19753.400390625, 19399.9453125, 83035.984375, 26862.740234375, 12672.888671875, 427029.625, 80092.96875, 84819.5078125, 39469.55078125, 19504.396484375, 122844.140625, 309624.4375, 104846.3046875, 41787.8125, 63199.54296875, 292366.0625, 66283.40625, 64774.0078125, 3483.399169921875, 2346.330322265625, 1601.544189453125, 1464.3721923828125, 1283.968017578125, 54073.1796875, 855.8792724609375, 851.3704833984375, 840.10205078125, 777.5064086914062, 695.9884643554688, 666.1677856445312, 609.8421630859375, 594.8362426757812, 547.956298828125, 503.6186828613281, 483.1976013183594, 477.9038391113281, 459.1633605957031, 440.9148864746094, 432.70989990234375, 393.0352478027344, 369.2998962402344, 337.8337097167969, 336.1910400390625, 333.26348876953125, 328.2300720214844, 297.4190673828125, 281.564453125, 277.6128234863281, 10318.1640625, 976.1533203125, 11956.8662109375, 567.1015625, 8587.162109375, 13533.2255859375, 3284.243408203125, 1012.3871459960938, 2583.949462890625, 3151.886962890625, 1045.0430908203125, 9106.4560546875, 1077.546875, 3252.462158203125, 4998.44677734375, 1626.4005126953125, 2922.348388671875, 1552.3092041015625, 1039.802490234375, 11579.3203125, 6683.9853515625, 4680.189453125, 3683.195068359375, 5491.0810546875, 5941.1044921875, 8132.986328125, 16073.62109375, 21388.18359375, 37162.55859375, 5655.52783203125, 51724.10546875, 427029.625, 9338.0634765625, 96103.875, 122844.140625, 88537.890625, 140474.546875, 98754.6796875, 47107.37890625, 28843.0625, 104846.3046875, 64774.0078125, 66283.40625, 292366.0625, 80092.96875, 6933.3251953125, 737.3331298828125, 617.982177734375, 469.47344970703125, 739.2440185546875, 331.574462890625, 292.75311279296875, 280.9709167480469, 272.1201477050781, 249.46815490722656, 243.27536010742188, 231.65699768066406, 222.38914489746094, 202.49671936035156, 199.72714233398438, 198.00167846679688, 193.67062377929688, 187.526123046875, 180.67127990722656, 665.0106811523438, 166.9718475341797, 161.88816833496094, 160.83935546875, 159.28591918945312, 158.81211853027344, 158.1847686767578, 156.44412231445312, 154.90533447265625, 149.36495971679688, 147.90390014648438, 26963.0703125, 8777.611328125, 689.19580078125, 409.82208251953125, 23056.650390625, 5028.0537109375, 23494.09375, 1797.90673828125, 16279.3671875, 1536.4547119140625, 445.8341979980469, 5522.9951171875, 2695.056640625, 1562.840576171875, 307.9947814941406, 5587.666015625, 2194.314453125, 7759.517578125, 35626.15234375, 1158.7030029296875, 887.1378784179688, 1978.600341796875, 1248.1566162109375, 1369.6654052734375, 16826.466796875, 14605.72265625, 8638.7734375, 3222.96044921875, 19206.17578125, 2031.695556640625, 25483.28125, 22225.3125, 7730.48046875, 2828.052978515625, 7642.0751953125, 8780.98828125, 19042.8359375, 8308.6435546875, 132787.78125, 43827.0, 13464.486328125, 19854.431640625, 13389.578125, 55999.62109375, 140474.546875, 8132.986328125, 104846.3046875, 98754.6796875, 45713.515625, 48392.8125, 51724.10546875, 427029.625, 80092.96875, 133520.15625, 91926.9453125], \"loglift\": [30.0, 29.0, 28.0, 27.0, 26.0, 25.0, 24.0, 23.0, 22.0, 21.0, 20.0, 19.0, 18.0, 17.0, 16.0, 15.0, 14.0, 13.0, 12.0, 11.0, 10.0, 9.0, 8.0, 7.0, 6.0, 5.0, 4.0, 3.0, 2.0, 1.0, 1.791100025177002, 1.7910000085830688, 1.7910000085830688, 1.7907999753952026, 1.7907999753952026, 1.7906999588012695, 1.7905000448226929, 1.7904000282287598, 1.7904000282287598, 1.7903000116348267, 1.7901999950408936, 1.7900999784469604, 1.7900999784469604, 1.7899999618530273, 1.7898999452590942, 1.7898999452590942, 1.7898999452590942, 1.7898000478744507, 1.7897000312805176, 1.7897000312805176, 1.7897000312805176, 1.7896000146865845, 1.7896000146865845, 1.7894999980926514, 1.7894999980926514, 1.7894999980926514, 1.7892999649047852, 1.7892999649047852, 1.789199948310852, 1.7889000177383423, 1.7734999656677246, 1.784000039100647, 1.7877999544143677, 1.7727999687194824, 1.7639000415802002, 1.7843999862670898, 1.773900032043457, 1.7864999771118164, 1.7797000408172607, 1.7847000360488892, 1.7783000469207764, 1.7740000486373901, 1.7864999771118164, 1.7511999607086182, 1.7692999839782715, 1.732100009918213, 1.781999945640564, 1.742799997329712, 1.7512999773025513, 1.6920000314712524, 1.6912000179290771, 1.7345999479293823, 1.7036000490188599, 1.6478999853134155, 1.6907999515533447, 1.6890000104904175, 1.6226999759674072, 1.717900037765503, 1.2268999814987183, 1.4575999975204468, 1.5246000289916992, 1.4836000204086304, 1.594099998474121, 1.7111999988555908, 1.3710999488830566, 1.4671000242233276, 1.2496999502182007, 1.332800030708313, 0.9732000231742859, 1.2711999416351318, 0.7008000016212463, 0.8657000064849854, 1.2414000034332275, 1.4222999811172485, 0.9603999853134155, -0.2160000056028366, 0.9047999978065491, 0.2759000062942505, 0.10610000044107437, 1.0283000469207764, 0.42660000920295715, 0.3549000024795532, -0.19200000166893005, 2.4611001014709473, 2.4609999656677246, 2.460900068283081, 2.4607999324798584, 2.460700035095215, 2.460700035095215, 2.460599899291992, 2.460599899291992, 2.4605000019073486, 2.4602999687194824, 2.4602999687194824, 2.4602999687194824, 2.460200071334839, 2.460200071334839, 2.460099935531616, 2.45989990234375, 2.45989990234375, 2.4598000049591064, 2.4598000049591064, 2.459399938583374, 2.458899974822998, 2.4588000774383545, 2.458699941635132, 2.4586000442504883, 2.4586000442504883, 2.4586000442504883, 2.4586000442504883, 2.4584999084472656, 2.4584999084472656, 2.458400011062622, 2.4532999992370605, 2.456199884414673, 2.451900005340576, 2.448699951171875, 2.4451000690460205, 2.4282000064849854, 2.412600040435791, 2.361999988555908, 2.374500036239624, 2.4403998851776123, 2.3457999229431152, 2.3956000804901123, 2.3886001110076904, 2.3438000679016113, 2.3612000942230225, 2.3680999279022217, 2.322499990463257, 2.392699956893921, 2.1998000144958496, 2.3210999965667725, 2.3993000984191895, 2.326900005340576, 2.214600086212158, 2.27020001411438, 1.9323999881744385, 2.256999969482422, 2.289099931716919, 2.206399917602539, 2.0678000450134277, 1.8284000158309937, 2.167799949645996, 2.1414999961853027, 1.8352999687194824, 2.003499984741211, 1.88510000705719, 1.9988000392913818, 1.5649000406265259, 2.02839994430542, 1.9952000379562378, 2.0792999267578125, 2.1530001163482666, 1.5859999656677246, 0.944599986076355, 1.528499960899353, -0.46140000224113464, 1.2652000188827515, 0.09369999915361404, -0.01119999960064888, 0.1160999983549118, 0.02419999986886978, 0.005100000184029341, -0.47940000891685486, 0.9520999789237976, 0.12280000001192093, 0.32499998807907104, 2.0604000091552734, 2.0604000091552734, 2.0596001148223877, 2.059499979019165, 2.0594000816345215, 2.0590999126434326, 2.0587000846862793, 2.058500051498413, 2.058300018310547, 2.0580999851226807, 2.0580999851226807, 2.057800054550171, 2.057499885559082, 2.057300090789795, 2.0571999549865723, 2.0569000244140625, 2.05649995803833, 2.0564000606536865, 2.0564000606536865, 2.056299924850464, 2.0557000637054443, 2.0553998947143555, 2.055000066757202, 2.0548999309539795, 2.0541999340057373, 2.053499937057495, 2.0534000396728516, 2.053299903869629, 2.0532000064849854, 2.053100109100342, 2.0460000038146973, 2.0399999618530273, 2.047300100326538, 2.029099941253662, 2.011899948120117, 2.0013999938964844, 1.9966000318527222, 1.9478000402450562, 1.906499981880188, 1.9004000425338745, 2.008699893951416, 1.8961000442504883, 1.941499948501587, 1.926900029182434, 2.0030999183654785, 1.746999979019165, 1.8686000108718872, 1.6964000463485718, 1.8513000011444092, 1.9538999795913696, 1.7486000061035156, 1.844599962234497, 1.8973000049591064, 1.738700032234192, 1.641700029373169, 1.5500999689102173, 1.594099998474121, 1.5042999982833862, 1.4598000049591064, 1.621999979019165, 1.6455999612808228, 1.156000018119812, 1.604599952697754, 1.7877999544143677, 1.438599944114685, 1.3874000310897827, 1.4098000526428223, 1.537500023841858, 1.5571000576019287, 1.0956000089645386, 0.9065999984741211, 1.5736000537872314, 1.3464000225067139, 1.1203999519348145, 0.8898000121116638, 1.233299970626831, 0.7730000019073486, 1.027899980545044, 1.0824999809265137, 0.9873999953269958, 0.05609999969601631, 0.7322999835014343, 0.42489999532699585, 1.1509000062942505, 0.9580000042915344, -0.6517999768257141, 0.1996999979019165, 1.1881999969482422, 2.7692999839782715, 2.7690999507904053, 2.768899917602539, 2.768899917602539, 2.768699884414673, 2.7685999870300293, 2.7685999870300293, 2.767899990081787, 2.7676000595092773, 2.7676000595092773, 2.7676000595092773, 2.7676000595092773, 2.7674999237060547, 2.7669999599456787, 2.766700029373169, 2.766700029373169, 2.7662999629974365, 2.7662999629974365, 2.7660999298095703, 2.7660000324249268, 2.765899896621704, 2.765899896621704, 2.7657999992370605, 2.7657999992370605, 2.7657999992370605, 2.7655999660491943, 2.7655999660491943, 2.7655999660491943, 2.765500068664551, 2.765500068664551, 2.759700059890747, 2.7379000186920166, 2.762700080871582, 2.7548000812530518, 2.7609000205993652, 2.7590999603271484, 2.731300115585327, 2.740600109100342, 2.7578001022338867, 2.7583000659942627, 2.7014000415802, 2.7121999263763428, 2.6947999000549316, 2.7230000495910645, 2.69350004196167, 2.694999933242798, 2.642699956893921, 2.599900007247925, 2.55049991607666, 2.624500036239624, 2.659600019454956, 2.6328001022338867, 2.6651999950408936, 2.5362000465393066, 2.6340999603271484, 2.4535999298095703, 2.5727999210357666, 2.4892001152038574, 2.553499937057495, 2.335900068283081, 2.553800106048584, 2.5525999069213867, 2.492799997329712, 1.6026999950408936, 2.231100082397461, 0.7167999744415283, 2.0952000617980957, 0.3497999906539917, 0.3799999952316284, 2.1124000549316406, 1.1104999780654907, -0.589900016784668, 0.42289999127388, 0.7949000000953674, 1.6548000574111938, 0.6377999782562256, 0.43380001187324524, 1.239400029182434, 1.242799997329712, -0.26919999718666077, -0.43799999356269836, -0.28380000591278076, 0.24639999866485596, 0.5648000240325928, -0.2671000063419342, 2.6751999855041504, 2.674999952316284, 2.6745998859405518, 2.674499988555908, 2.6742000579833984, 2.674099922180176, 2.6740000247955322, 2.6740000247955322, 2.6735000610351562, 2.6735000610351562, 2.6733999252319336, 2.673099994659424, 2.6730000972747803, 2.6728999614715576, 2.672800064086914, 2.672800064086914, 2.6726999282836914, 2.672499895095825, 2.672499895095825, 2.6723999977111816, 2.672300100326538, 2.6721999645233154, 2.672100067138672, 2.672100067138672, 2.671999931335449, 2.671999931335449, 2.6719000339508057, 2.6719000339508057, 2.6717000007629395, 2.671600103378296, 2.666800022125244, 2.6637001037597656, 2.654599905014038, 2.6552000045776367, 2.6591999530792236, 2.642699956893921, 2.6512999534606934, 2.65939998626709, 2.648400068283081, 2.65939998626709, 2.6538000106811523, 2.621299982070923, 2.6196999549865723, 2.6386001110076904, 2.6138999462127686, 2.606100082397461, 2.610300064086914, 2.614799976348877, 2.6201999187469482, 2.5876998901367188, 2.5692999362945557, 2.621000051498413, 2.4426000118255615, 2.4718000888824463, 2.584199905395508, 2.249300003051758, 2.41510009765625, 2.2393999099731445, 2.5130999088287354, 2.3861000537872314, 2.2293999195098877, 2.362799882888794, 2.420599937438965, 2.3547000885009766, 2.260699987411499, 1.5338000059127808, 2.0820000171661377, 1.7688000202178955, 1.7199000120162964, 1.8396999835968018, 1.2755000591278076, 0.7872999906539917, 1.5514999628067017, -0.07769999653100967, 1.9635000228881836, 0.9516000151634216, 1.330199956893921, 0.5354999899864197, 0.8033000230789185, 1.597000002861023, 1.1964999437332153, 0.5142999887466431, -0.04230000078678131, -0.016899999231100082, 0.041200000792741776, -0.3463999927043915, -0.33469998836517334, -1.503000020980835, 0.1446000039577484, -0.09910000115633011, 0.09459999948740005, 1.9092999696731567, 1.9091999530792236, 1.909000039100647, 1.9089000225067139, 1.9088000059127808, 1.9085999727249146, 1.9082000255584717, 1.9078999757766724, 1.9076999425888062, 1.9071999788284302, 1.9071999788284302, 1.9071999788284302, 1.9071999788284302, 1.9067000150680542, 1.9067000150680542, 1.9067000150680542, 1.906599998474121, 1.906599998474121, 1.9062999486923218, 1.9062000513076782, 1.906000018119812, 1.9056999683380127, 1.9056999683380127, 1.9055999517440796, 1.905400037765503, 1.9053000211715698, 1.9048999547958374, 1.9048999547958374, 1.9048000574111938, 1.9048000574111938, 1.8825000524520874, 1.8547999858856201, 1.8924000263214111, 1.9048000574111938, 1.8808000087738037, 1.8788000345230103, 1.854599952697754, 1.8941999673843384, 1.8177000284194946, 1.8974000215530396, 1.819100022315979, 1.8693000078201294, 1.7747000455856323, 1.8079999685287476, 1.7594000101089478, 1.8184000253677368, 1.7142000198364258, 1.8288999795913696, 1.8528000116348267, 1.8265999555587769, 1.7271000146865845, 1.6019999980926514, 1.836400032043457, 1.6676000356674194, 1.63919997215271, 1.1852999925613403, 1.3844000101089478, 1.493499994277954, 1.614400029182434, 1.7142000198364258, 1.7157000303268433, 1.3142000436782837, 1.3282999992370605, 1.420199990272522, 1.1692999601364136, 1.190999984741211, 0.9865999817848206, 1.104599952697754, 1.333899974822998, 0.791100025177002, 1.2666000127792358, 1.2062000036239624, 0.84579998254776, 1.0182000398635864, 1.020300030708313, 0.2175000011920929, 1.107800006866455, 0.36809998750686646, -0.0551999993622303, 0.8148000240325928, 0.36629998683929443, 0.5928999781608582, 0.8500999808311462, 1.0819000005722046, 0.06589999794960022, 0.2345999926328659, 0.6190000176429749, 0.5232999920845032, 0.9470999836921692, 0.08829999715089798, 0.3490000069141388, 0.5830000042915344, -0.21389999985694885, 0.5835999846458435, -1.3065999746322632, 0.3953000009059906, 2.0938000679016113, 2.0936999320983887, 2.0936999320983887, 2.0936999320983887, 2.093600034713745, 2.093600034713745, 2.0934998989105225, 2.0931999683380127, 2.0931999683380127, 2.0931999683380127, 2.093100070953369, 2.093100070953369, 2.0929999351501465, 2.0927999019622803, 2.0927999019622803, 2.0927000045776367, 2.0927000045776367, 2.0927000045776367, 2.092600107192993, 2.092600107192993, 2.0922000408172607, 2.091900110244751, 2.0917999744415283, 2.0917999744415283, 2.091599941253662, 2.091599941253662, 2.0915000438690186, 2.0915000438690186, 2.0915000438690186, 2.0915000438690186, 2.0876998901367188, 2.0845999717712402, 2.088900089263916, 2.0778000354766846, 2.0748000144958496, 2.0683999061584473, 2.0564000606536865, 2.0053999423980713, 2.0171000957489014, 2.036799907684326, 2.01419997215271, 2.0497000217437744, 1.9565999507904053, 2.05649995803833, 2.0202999114990234, 2.009000062942505, 2.0144999027252197, 1.8740999698638916, 2.0109000205993652, 2.0446999073028564, 1.8087999820709229, 1.6191999912261963, 1.8114999532699585, 1.691100001335144, 1.5124000310897827, 1.749500036239624, 1.4851000308990479, 1.468400001525879, 1.3493000268936157, 1.5830999612808228, 1.7230000495910645, 1.559399962425232, 0.7562000155448914, 1.502500057220459, 1.4332000017166138, 1.0750999450683594, 1.0042999982833862, 1.5995999574661255, 1.4326000213623047, 1.1881999969482422, 1.1236000061035156, 1.372499942779541, 1.1217000484466553, 1.2073999643325806, 1.0657999515533447, 0.8644000291824341, -0.4471000134944916, 0.8716999888420105, 0.2508000135421753, 0.06520000100135803, 0.8284000158309937, 0.39570000767707825, 0.7394999861717224, -0.2240999937057495, 2.2170000076293945, 2.2170000076293945, 2.2167000770568848, 2.2167000770568848, 2.216599941253662, 2.2165000438690186, 2.216399908065796, 2.2163000106811523, 2.2160000801086426, 2.2160000801086426, 2.21589994430542, 2.21589994430542, 2.21560001373291, 2.2155001163482666, 2.2153000831604004, 2.2153000831604004, 2.2153000831604004, 2.2153000831604004, 2.215100049972534, 2.2149999141693115, 2.2149999141693115, 2.214900016784668, 2.214900016784668, 2.2147998809814453, 2.2146999835968018, 2.214600086212158, 2.2144999504089355, 2.214400053024292, 2.214400053024292, 2.2142999172210693, 2.212100028991699, 2.206700086593628, 2.2077999114990234, 2.211400032043457, 2.191699981689453, 2.1891000270843506, 2.20740008354187, 2.191699981689453, 2.177999973297119, 2.1809000968933105, 2.0732998847961426, 2.021899938583374, 1.9758000373840332, 2.1440000534057617, 1.9393999576568604, 2.077500104904175, 2.0169999599456787, 1.8837000131607056, 2.103800058364868, 1.948699951171875, 1.9973000288009644, 2.062299966812134, 2.0113000869750977, 1.2503000497817993, 1.2696000337600708, 1.3372999429702759, 1.999500036239624, 1.6291999816894531, 1.3916000127792358, 0.9002000093460083, 1.1490000486373901, 1.3360999822616577, 1.579300045967102, 0.8841000199317932, 1.6275999546051025, 1.2107000350952148, 1.2067999839782715, 0.5533000230789185, 1.0307999849319458, 1.3824000358581543, -0.34610000252723694, 0.4546000063419342, 0.3953999876976013, 0.7893000245094299, 1.135599970817566, -0.10779999941587448, -0.7591999769210815, -0.012600000016391277, 0.6018999814987183, 0.28630000352859497, -1.0069999694824219, 0.14149999618530273, 0.08460000157356262, 3.0778000354766846, 3.077699899673462, 3.077500104904175, 3.077500104904175, 3.077399969100952, 3.077199935913086, 3.0769999027252197, 3.0769999027252197, 3.0769999027252197, 3.076900005340576, 3.0768001079559326, 3.0768001079559326, 3.07669997215271, 3.0766000747680664, 3.0764999389648438, 3.0762999057769775, 3.0762999057769775, 3.0762999057769775, 3.076200008392334, 3.0761001110076904, 3.0761001110076904, 3.075900077819824, 3.0757999420166016, 3.075500011444092, 3.075500011444092, 3.075500011444092, 3.075500011444092, 3.075200080871582, 3.0750999450683594, 3.075000047683716, 3.0706000328063965, 3.071199893951416, 3.0415000915527344, 3.071000099182129, 3.043100118637085, 3.0339999198913574, 3.02810001373291, 3.039099931716919, 2.9964001178741455, 2.9651999473571777, 3.02839994430542, 2.863300085067749, 3.0125999450683594, 2.899399995803833, 2.808799982070923, 2.9414000511169434, 2.8585000038146973, 2.9333999156951904, 2.9820001125335693, 2.514400005340576, 2.5817999839782715, 2.637399911880493, 2.6833999156951904, 2.547300100326538, 2.50600004196167, 2.297300100326538, 2.043800115585327, 1.9381999969482422, 1.62909996509552, 2.368499994277954, 1.292099952697754, -0.004100000020116568, 1.993399977684021, 0.6438000202178955, 0.14390000700950623, 0.35499998927116394, -0.038600001484155655, 0.22310000658035278, 0.6402999758720398, 1.013200044631958, -0.0892999991774559, 0.3165000081062317, 0.23849999904632568, -1.2381000518798828, -0.0763000026345253, 2.768199920654297, 2.767199993133545, 2.7669999599456787, 2.7664999961853027, 2.7664999961853027, 2.7657999992370605, 2.765500068664551, 2.765399932861328, 2.7653000354766846, 2.765000104904175, 2.764899969100952, 2.7648000717163086, 2.7646000385284424, 2.7643001079559326, 2.76419997215271, 2.76419997215271, 2.7641000747680664, 2.7639000415802, 2.7637999057769775, 2.7634999752044678, 2.763400077819824, 2.7632999420166016, 2.763200044631958, 2.763200044631958, 2.763200044631958, 2.7630999088287354, 2.7630999088287354, 2.763000011444092, 2.7627999782562256, 2.7627999782562256, 2.7583999633789062, 2.7539000511169434, 2.755000114440918, 2.7558000087738037, 2.6995999813079834, 2.7165000438690186, 2.6847000122070312, 2.735100030899048, 2.6846001148223877, 2.7298998832702637, 2.7497000694274902, 2.6979000568389893, 2.7021000385284424, 2.7100000381469727, 2.7516000270843506, 2.664599895477295, 2.691499948501587, 2.6284000873565674, 2.5397000312805176, 2.699399948120117, 2.709399938583374, 2.664400100708008, 2.684000015258789, 2.6742000579833984, 2.509399890899658, 2.4577999114990234, 2.490799903869629, 2.5671000480651855, 2.2500998973846436, 2.569700002670288, 2.1070001125335693, 2.0044000148773193, 2.204400062561035, 2.424299955368042, 2.0790998935699463, 2.000999927520752, 1.72160005569458, 1.9908000230789185, 0.7609999775886536, 1.2266000509262085, 1.7293000221252441, 1.50600004196167, 1.6933000087738037, 0.9316999912261963, 0.1915999948978424, 1.937399983406067, 0.1298999935388565, 0.13899999856948853, 0.7062000036239624, 0.5831999778747559, 0.5095999836921692, -1.3976999521255493, 0.10679999738931656, -0.42260000109672546, -0.06440000236034393], \"logprob\": [30.0, 29.0, 28.0, 27.0, 26.0, 25.0, 24.0, 23.0, 22.0, 21.0, 20.0, 19.0, 18.0, 17.0, 16.0, 15.0, 14.0, 13.0, 12.0, 11.0, 10.0, 9.0, 8.0, 7.0, 6.0, 5.0, 4.0, 3.0, 2.0, 1.0, -5.512499809265137, -5.954500198364258, -6.0746002197265625, -7.147799968719482, -7.1641998291015625, -7.500400066375732, -7.844099998474121, -7.685999870300293, -8.037300109863281, -8.130599975585938, -8.24269962310791, -8.341400146484375, -8.377799987792969, -8.443099975585938, -8.516300201416016, -8.522899627685547, -8.529600143432617, -8.625399589538574, -8.637100219726562, -8.64050006866455, -8.685099601745605, -8.722299575805664, -8.738699913024902, -8.802900314331055, -8.803099632263184, -8.821000099182129, -8.891400337219238, -8.923800468444824, -7.183499813079834, -9.10949993133545, -5.200699806213379, -6.3755998611450195, -7.079400062561035, -5.668300151824951, -4.849400043487549, -7.19189977645874, -6.166200160980225, -7.466100215911865, -6.830999851226807, -7.381100177764893, -6.773099899291992, -6.828199863433838, -8.105500221252441, -5.874300003051758, -7.0167999267578125, -5.236999988555908, -7.776800155639648, -6.4375, -6.775100231170654, -4.917900085449219, -5.236499786376953, -6.64900016784668, -6.229100227355957, -5.649199962615967, -6.301599979400635, -6.305300235748291, -5.589099884033203, -6.740900039672852, -2.9535999298095703, -4.935500144958496, -5.384699821472168, -5.264100074768066, -6.020500183105469, -6.695400238037109, -4.948299884796143, -5.593299865722656, -4.843800067901611, -5.248899936676025, -3.9976000785827637, -5.1178998947143555, -3.537100076675415, -4.155900001525879, -5.224100112915039, -5.951099872589111, -5.401100158691406, -4.074999809265137, -5.362299919128418, -5.256800174713135, -5.157299995422363, -5.7230000495910645, -5.505799770355225, -5.583700180053711, -5.688600063323975, -5.93779993057251, -6.463099956512451, -6.730400085449219, -6.874000072479248, -7.0802998542785645, -7.107800006866455, -7.250999927520752, -7.3043999671936035, -7.366499900817871, -6.6244001388549805, -7.628900051116943, -7.690800189971924, -7.7108001708984375, -7.786600112915039, -7.866199970245361, -7.999199867248535, -8.010700225830078, -8.034199714660645, -8.045499801635742, -8.31309986114502, -8.548100471496582, -8.595600128173828, -8.619000434875488, -8.64840030670166, -8.65369987487793, -8.659000396728516, -8.668800354003906, -8.700300216674805, -8.704099655151367, -8.74489974975586, -5.203999996185303, -6.19789981842041, -6.9552001953125, -7.354300022125244, -7.573800086975098, -6.881199836730957, -6.2804999351501465, -4.4105000495910645, -4.987800121307373, -7.8078999519348145, -5.020400047302246, -6.648499965667725, -6.485599994659424, -5.795499801635742, -6.236599922180176, -6.356800079345703, -5.799099922180176, -6.813300132751465, -4.531099796295166, -5.981400012969971, -6.979400157928467, -6.236000061035156, -5.196499824523926, -5.975800037384033, -3.739500045776367, -6.045599937438965, -6.256800174713135, -5.837900161743164, -5.208600044250488, -4.235000133514404, -5.777500152587891, -5.685699939727783, -4.492599964141846, -5.2758002281188965, -4.8821001052856445, -5.467199802398682, -4.41349983215332, -5.586599826812744, -5.542200088500977, -5.739500045776367, -5.894199848175049, -4.887899875640869, -4.607500076293945, -5.424900054931641, -4.320499897003174, -5.428899765014648, -5.256700038909912, -5.274600028991699, -5.359300136566162, -5.370699882507324, -5.519000053405762, -5.500999927520752, -5.647200107574463, -5.622200012207031, -5.644899845123291, -8.076499938964844, -8.126299858093262, -8.692899703979492, -8.739500045776367, -8.794599533081055, -8.900400161743164, -9.07349967956543, -9.12969970703125, -9.193300247192383, -9.272600173950195, -9.274999618530273, -9.350500106811523, -9.423700332641602, -9.47439956665039, -9.502400398254395, -9.568300247192383, -9.655500411987305, -9.66759967803955, -9.672900199890137, -9.690799713134766, -9.80459976196289, -9.85990047454834, -9.912199974060059, -9.932000160217285, -10.037099838256836, -10.130900382995605, -10.138500213623047, -10.152700424194336, -10.161800384521484, -10.177000045776367, -6.718599796295166, -7.373300075531006, -8.220499992370605, -7.73769998550415, -7.608500003814697, -7.650599956512451, -7.639500141143799, -6.300000190734863, -5.490600109100342, -5.646299839019775, -8.440099716186523, -5.852799892425537, -7.2170000076293945, -6.999199867248535, -8.488900184631348, -4.426799774169922, -6.385700225830078, -4.134300231933594, -6.339399814605713, -7.837100028991699, -5.11899995803833, -6.502399921417236, -7.2667999267578125, -5.511099815368652, -4.624000072479248, -3.8489999771118164, -4.706500053405762, -3.9282000064849854, -3.64520001411438, -5.285999774932861, -5.662600040435791, -2.703000068664551, -5.467199802398682, -6.693900108337402, -5.000199794769287, -4.770299911499023, -5.047399997711182, -5.67710018157959, -5.796999931335449, -4.379799842834473, -4.114999771118164, -6.061600208282471, -5.495500087738037, -4.92579984664917, -4.606800079345703, -5.364500045776367, -4.779099941253662, -5.173699855804443, -5.2789998054504395, -5.1691999435424805, -4.181700229644775, -5.075200080871582, -4.925600051879883, -5.388299942016602, -5.3084001541137695, -4.832300186157227, -5.195199966430664, -5.418499946594238, -6.598899841308594, -7.010799884796143, -7.214700222015381, -7.234300136566162, -7.434899806976318, -7.485799789428711, -7.522200107574463, -7.990600109100342, -8.10159969329834, -8.101900100708008, -8.134699821472168, -8.138099670410156, -8.179400444030762, -8.347200393676758, -8.459699630737305, -8.476799964904785, -8.579500198364258, -8.578399658203125, -8.639399528503418, -8.670999526977539, -8.687800407409668, -8.698599815368652, -8.711400032043457, -8.713600158691406, -8.714300155639648, -8.771499633789062, -8.77180004119873, -8.776900291442871, -8.784500122070312, -8.788599967956543, -5.705699920654297, -4.340099811553955, -6.885900020599365, -6.546199798583984, -7.291100025177002, -7.756700038909912, -5.579400062561035, -6.662899971008301, -7.932499885559082, -8.060999870300293, -5.454899787902832, -6.0777997970581055, -5.599100112915039, -6.778299808502197, -6.1915998458862305, -6.446199893951416, -5.293000221252441, -4.408100128173828, -3.4907000064849854, -5.484799861907959, -6.205399990081787, -5.8460001945495605, -6.416200160980225, -4.768599987030029, -6.375899791717529, -4.652200222015381, -5.980999946594238, -5.620999813079834, -6.117700099945068, -4.995100021362305, -6.235300064086914, -6.264200210571289, -6.309700012207031, -4.757999897003174, -5.904900074005127, -3.46370005607605, -5.842199802398682, -3.8880999088287354, -4.59089994430542, -6.056099891662598, -5.444900035858154, -4.448999881744385, -5.109799861907959, -5.327000141143799, -5.811100006103516, -5.512400150299072, -5.4567999839782715, -5.778600215911865, -5.781799793243408, -5.532599925994873, -5.543000221252441, -5.6828999519348145, -5.723599910736084, -5.749100208282471, -5.763700008392334, -5.456299781799316, -6.274799823760986, -7.13670015335083, -7.271999835968018, -7.606200218200684, -7.616799831390381, -7.70359992980957, -7.760000228881836, -8.023799896240234, -8.055399894714355, -8.092900276184082, -8.256999969482422, -8.287199974060059, -8.326600074768066, -8.370100021362305, -8.375800132751465, -8.401000022888184, -8.484100341796875, -8.488499641418457, -8.527999877929688, -8.546500205993652, -8.5826997756958, -8.598199844360352, -8.61240005493164, -8.647700309753418, -8.648500442504883, -8.676300048828125, -8.682100296020508, -8.728899955749512, -8.749699592590332, -4.17710018157959, -5.348700046539307, -5.455699920654297, -6.2881999015808105, -6.851200103759766, -5.788400173187256, -7.014900207519531, -7.44950008392334, -7.004799842834473, -7.623199939727783, -7.416800022125244, -6.191299915313721, -6.159999847412109, -6.861800193786621, -6.181399822235107, -5.9857001304626465, -6.171999931335449, -6.516900062561035, -6.779600143432617, -6.4730000495910645, -6.276100158691406, -7.2368998527526855, -5.647900104522705, -6.015100002288818, -7.012400150299072, -4.595799922943115, -5.884300231933594, -5.299300193786621, -6.69290018081665, -6.12470006942749, -5.421500205993652, -6.045100212097168, -6.358399868011475, -6.185999870300293, -5.951600074768066, -4.1381001472473145, -5.800899982452393, -5.3059000968933105, -5.233399868011475, -5.521900177001953, -4.96999979019165, -4.5630998611450195, -5.468400001525879, -4.3155999183654785, -5.865499973297119, -5.25029993057251, -5.488500118255615, -5.234000205993652, -5.398399829864502, -5.743599891662598, -5.667099952697754, -5.465700149536133, -5.305699825286865, -5.340099811553955, -5.391300201416016, -5.317299842834473, -5.439700126647949, -5.361999988555908, -5.577400207519531, -5.631800174713135, -5.650400161743164, -6.897799968719482, -7.1596999168396, -7.6579999923706055, -7.877900123596191, -7.94290018081665, -8.174200057983398, -8.538900375366211, -8.752400398254395, -8.82699966430664, -9.04699993133545, -9.09280014038086, -9.093700408935547, -9.104299545288086, -9.266799926757812, -9.272600173950195, -9.293299674987793, -9.319299697875977, -9.319199562072754, -9.390399932861328, -9.4266996383667, -9.505399703979492, -9.56779956817627, -9.573699951171875, -9.598299980163574, -9.648699760437012, -9.680299758911133, -9.758899688720703, -9.768400192260742, -9.774700164794922, -9.78909969329834, -4.868800163269043, -3.87719988822937, -7.606900215148926, -9.532600402832031, -7.370100021362305, -7.582200050354004, -6.686200141906738, -8.972299575805664, -6.045000076293945, -9.218999862670898, -7.165200233459473, -8.413599967956543, -6.612599849700928, -7.424600124359131, -6.850599765777588, -7.791200160980225, -6.241700172424316, -8.050100326538086, -8.44260025024414, -8.104000091552734, -7.113999843597412, -5.867000102996826, -8.334699630737305, -6.781700134277344, -6.6479997634887695, -3.841900110244751, -5.224699974060059, -5.999499797821045, -6.877999782562256, -7.462600231170654, -7.491300106048584, -5.5578999519348145, -5.720600128173828, -6.237599849700928, -5.278900146484375, -5.374599933624268, -4.706900119781494, -5.162499904632568, -6.073599815368652, -4.684299945831299, -5.9456000328063965, -5.81850004196167, -5.0447001457214355, -5.538000106811523, -5.546899795532227, -3.963099956512451, -5.771100044250488, -4.602799892425537, -3.9142000675201416, -5.335400104522705, -4.89709997177124, -5.214600086212158, -5.539100170135498, -5.856200218200684, -4.9558000564575195, -5.160299777984619, -5.537099838256836, -5.522900104522705, -5.775700092315674, -5.463799953460693, -5.589600086212158, -5.6753997802734375, -5.564300060272217, -5.705999851226807, -5.544400215148926, -5.698200225830078, -6.50629997253418, -5.742700099945068, -6.676599979400635, -6.795300006866455, -6.896100044250488, -6.986000061035156, -7.331999778747559, -7.772200107574463, -7.785200119018555, -7.785099983215332, -7.848199844360352, -7.9070000648498535, -8.011199951171875, -8.153900146484375, -8.172900199890137, -8.236100196838379, -8.244999885559082, -8.251199722290039, -8.298299789428711, -8.322699546813965, -8.603599548339844, -8.71969985961914, -8.769000053405762, -8.793299674987793, -8.885100364685059, -8.88659954071045, -8.898200035095215, -8.908499717712402, -8.931300163269043, -8.936400413513184, -7.003399848937988, -7.316699981689453, -7.896599769592285, -6.890500068664551, -6.67609977722168, -6.489099979400635, -5.611299991607666, -4.552499771118164, -5.450399875640869, -6.281799793243408, -6.076499938964844, -7.086400032043457, -5.287899971008301, -7.386099815368652, -6.8709001541137695, -6.798399925231934, -6.898799896240234, -4.840799808502197, -6.844299793243408, -7.382199764251709, -5.216599941253662, -3.904900074005127, -5.7281999588012695, -4.980100154876709, -3.810800075531006, -5.703999996185303, -4.739299774169922, -4.777100086212158, -4.716700077056885, -5.543499946594238, -5.979800224304199, -5.605800151824951, -3.4816999435424805, -5.452400207519531, -5.405900001525879, -4.694499969482422, -4.740699768066406, -5.912600040435791, -5.667699813842773, -5.356400012969971, -5.333600044250488, -5.645500183105469, -5.3780999183654785, -5.4878997802734375, -5.416900157928467, -5.257500171661377, -4.306099891662598, -5.3302001953125, -5.099599838256836, -5.039700031280518, -5.3730998039245605, -5.326300144195557, -5.44379997253418, -5.487500190734863, -5.4475998878479, -5.585400104522705, -7.041399955749512, -7.114299774169922, -7.306099891662598, -7.383299827575684, -7.611700057983398, -7.677299976348877, -7.979300022125244, -6.472400188446045, -8.053400039672852, -8.057700157165527, -8.328700065612793, -8.378499984741211, -8.45259952545166, -8.486200332641602, -8.487099647521973, -8.491499900817871, -8.572600364685059, -8.649200439453125, -8.649200439453125, -8.659000396728516, -8.69279956817627, -8.708499908447266, -8.78279972076416, -8.789799690246582, -8.839599609375, -8.878399848937988, -7.7006001472473145, -8.918000221252441, -5.453800201416016, -6.131700038909912, -7.063399791717529, -8.382200241088867, -6.639900207519531, -7.220799922943115, -8.271400451660156, -7.589300155639648, -7.255000114440918, -7.524499893188477, -5.047800064086914, -4.587699890136719, -5.032800197601318, -7.384500026702881, -5.053100109100342, -6.656300067901611, -6.0954999923706055, -4.715000152587891, -7.1321001052856445, -5.673699855804443, -6.154900074005127, -6.888700008392334, -6.657599925994873, -3.776900053024292, -4.12529993057251, -4.64109992980957, -6.911499977111816, -5.899499893188477, -5.422999858856201, -4.651899814605713, -5.178899765014648, -5.591300010681152, -6.10699987411499, -4.923500061035156, -6.24970006942749, -5.72189998626709, -5.743800163269043, -4.943299770355225, -5.594299793243408, -5.99399995803833, -4.2052001953125, -5.078100204467773, -5.079999923706055, -5.451099872589111, -5.809599876403809, -5.212800025939941, -4.939799785614014, -5.276000022888184, -5.581399917602539, -5.4832000732421875, -5.244900226593018, -5.58050012588501, -5.660299777984619, -5.590099811553955, -5.985400199890137, -6.367400169372559, -6.456999778747559, -6.588600158691406, -2.848400115966797, -6.994500160217285, -6.99970006942749, -7.0131001472473145, -7.09060001373291, -7.201499938964844, -7.245299816131592, -7.333799839019775, -7.358699798583984, -7.440899848937988, -7.5254998207092285, -7.56689977645874, -7.578000068664551, -7.618000030517578, -7.658699989318848, -7.677499771118164, -7.773799896240234, -7.836299896240234, -7.92549991607666, -7.9303998947143555, -7.939199924468994, -7.954400062561035, -8.053299903869629, -8.108200073242188, -8.122400283813477, -4.511300086975098, -6.868899822235107, -4.393099784851074, -7.412099838256836, -4.722599983215332, -4.276700019836426, -5.698599815368652, -6.8643999099731445, -5.970099925994873, -5.802599906921387, -6.843500137329102, -4.843599796295166, -6.82859992980957, -5.837100028991699, -5.498000144958496, -6.488100051879883, -5.985000133514404, -6.542699813842773, -6.894800186157227, -4.952300071716309, -5.434299945831299, -5.735099792480469, -5.928699970245361, -5.665500164031982, -5.627999782562256, -5.522600173950195, -5.094900131225586, -4.91480016708374, -4.67140007019043, -5.814799785614014, -4.6778998374938965, -3.8631999492645264, -5.688399791717529, -4.706600189208984, -4.960999965667725, -5.077400207519531, -5.009399890899658, -5.100100040435791, -5.423099994659424, -5.540800094604492, -5.352700233459473, -5.428400039672852, -5.483500003814697, -5.47599983215332, -5.609000205993652, -5.211400032043457, -7.453400135040283, -7.630199909210205, -7.9054999351501465, -7.451499938964844, -8.253999710083008, -8.378800392150879, -8.420000076293945, -8.452099800109863, -8.539299964904785, -8.564499855041504, -8.61359977722168, -8.654600143432617, -8.748700141906738, -8.762499809265137, -8.771200180053711, -8.793399810791016, -8.825799942016602, -8.863200187683105, -7.560400009155273, -8.942399978637695, -8.97350025177002, -8.979999542236328, -8.989800453186035, -8.992799758911133, -8.996700286865234, -9.00790023803711, -9.017800331115723, -9.054400444030762, -9.064299583435059, -3.86299991607666, -4.989799976348877, -7.533100128173828, -8.05210018157959, -4.0782999992370605, -5.5843000411987305, -4.07450008392334, -6.594200134277344, -4.441400051116943, -6.756499767303467, -7.973999977111816, -5.508999824523926, -6.222300052642822, -6.759399890899658, -8.342000007629395, -5.530700206756592, -6.438499927520752, -5.23859977722168, -3.803100109100342, -7.069200038909912, -7.326300144195557, -6.5690999031066895, -7.010200023651123, -6.92710018157959, -4.583499908447266, -4.776700019836426, -5.268899917602539, -6.178500175476074, -4.710599899291992, -6.63730001449585, -4.570799827575684, -4.810200214385986, -5.666299819946289, -6.452000141143799, -5.803100109100342, -5.742300033569336, -5.247600078582764, -5.807799816131592, -4.26609992980957, -4.908999919891357, -5.58650016784668, -5.421500205993652, -5.6280999183654785, -4.958899974822998, -4.779300212860107, -5.882599830627441, -5.133500099182129, -5.184199810028076, -5.38730001449585, -5.4532999992370605, -5.460400104522705, -5.256700038909912, -5.425899982452393, -5.444200038909912, -5.4593000411987305]}, \"token.table\": {\"Topic\": [8, 3, 3, 3, 3, 3, 4, 10, 3, 3, 3, 4, 9, 9, 9, 1, 1, 1, 8, 1, 2, 3, 5, 6, 7, 10, 1, 2, 3, 5, 7, 8, 9, 10, 5, 1, 4, 6, 8, 10, 1, 5, 8, 10, 1, 1, 2, 3, 4, 5, 6, 7, 8, 9, 10, 1, 3, 4, 7, 5, 6, 1, 7, 1, 1, 2, 3, 4, 5, 6, 7, 8, 9, 10, 1, 2, 3, 5, 6, 7, 8, 9, 10, 9, 1, 4, 7, 9, 10, 3, 2, 5, 6, 7, 8, 1, 4, 9, 10, 3, 6, 7, 8, 1, 2, 3, 4, 5, 6, 7, 8, 9, 10, 1, 2, 3, 4, 5, 6, 8, 9, 10, 6, 1, 4, 9, 1, 2, 1, 2, 3, 4, 5, 6, 7, 8, 9, 10, 8, 9, 9, 1, 2, 3, 4, 5, 6, 7, 8, 9, 10, 1, 2, 3, 4, 5, 6, 7, 8, 9, 10, 4, 5, 5, 1, 2, 3, 4, 5, 6, 7, 8, 9, 10, 10, 8, 1, 2, 3, 4, 5, 6, 7, 8, 9, 10, 3, 1, 2, 3, 4, 5, 6, 7, 8, 9, 10, 1, 2, 3, 5, 6, 1, 2, 3, 4, 5, 6, 7, 8, 9, 10, 2, 3, 5, 6, 2, 3, 5, 6, 1, 2, 3, 4, 5, 6, 7, 8, 9, 10, 1, 2, 3, 4, 5, 6, 7, 8, 9, 10, 7, 1, 5, 5, 5, 8, 8, 7, 8, 1, 2, 3, 4, 5, 6, 7, 8, 9, 10, 1, 3, 4, 7, 9, 4, 5, 1, 2, 3, 4, 5, 6, 7, 8, 4, 10, 1, 4, 7, 8, 10, 1, 2, 3, 4, 5, 6, 8, 9, 10, 5, 7, 2, 5, 8, 2, 6, 1, 2, 3, 6, 7, 8, 9, 10, 1, 2, 3, 4, 5, 6, 7, 8, 9, 10, 2, 3, 6, 8, 9, 10, 7, 2, 1, 7, 8, 5, 8, 10, 1, 4, 8, 10, 1, 2, 3, 5, 6, 7, 8, 9, 10, 10, 2, 6, 1, 9, 1, 4, 3, 3, 5, 6, 7, 9, 10, 5, 4, 5, 6, 7, 4, 1, 5, 6, 7, 6, 1, 2, 4, 6, 8, 9, 1, 4, 6, 7, 10, 10, 6, 2, 6, 8, 1, 1, 2, 3, 4, 5, 6, 7, 8, 10, 6, 6, 4, 7, 10, 7, 9, 3, 8, 1, 2, 3, 4, 5, 6, 7, 8, 9, 10, 2, 5, 6, 7, 1, 4, 8, 10, 1, 8, 10, 1, 2, 3, 4, 6, 7, 8, 9, 10, 1, 3, 4, 5, 7, 8, 9, 10, 10, 1, 2, 3, 4, 5, 6, 7, 8, 9, 4, 9, 1, 2, 3, 4, 6, 7, 8, 9, 10, 4, 3, 8, 1, 9, 1, 2, 3, 4, 5, 6, 7, 8, 9, 10, 1, 2, 3, 4, 5, 6, 7, 8, 9, 10, 2, 3, 5, 6, 7, 8, 10, 1, 4, 5, 6, 7, 8, 9, 1, 2, 3, 6, 8, 9, 9, 10, 2, 7, 1, 3, 4, 5, 6, 7, 10, 3, 5, 6, 7, 10, 1, 2, 3, 4, 6, 7, 8, 9, 1, 2, 4, 5, 7, 9, 10, 2, 5, 6, 8, 10, 4, 5, 8, 10, 2, 5, 6, 7, 8, 10, 6, 8, 1, 2, 3, 5, 6, 7, 2, 3, 5, 6, 7, 8, 10, 1, 3, 5, 6, 7, 10, 1, 2, 3, 4, 5, 6, 7, 8, 9, 10, 3, 5, 6, 7, 1, 2, 3, 4, 5, 6, 7, 8, 9, 10, 1, 2, 3, 4, 5, 6, 7, 8, 9, 10, 1, 4, 9, 5, 6, 7, 1, 2, 3, 4, 5, 6, 7, 8, 9, 8, 1, 3, 4, 5, 7, 1, 3, 4, 5, 7, 9, 5, 3, 7, 9, 4, 2, 5, 6, 8, 5, 6, 8, 10, 2, 5, 6, 8, 2, 4, 5, 6, 1, 4, 7, 1, 3, 4, 7, 9, 3, 2, 3, 5, 7, 8, 9, 10, 2, 1, 2, 3, 4, 5, 6, 7, 8, 9, 10, 1, 2, 3, 6, 7, 9, 10, 1, 3, 4, 6, 7, 8, 1, 2, 3, 4, 5, 6, 7, 1, 2, 3, 4, 5, 6, 7, 8, 9, 10, 8, 10, 2, 1, 4, 7, 1, 3, 4, 7, 9, 10, 6, 4, 1, 3, 4, 6, 7, 9, 10, 6, 8, 2, 3, 7, 8, 9, 1, 2, 7, 8, 9, 10, 2, 5, 2, 1, 2, 6, 10, 1, 2, 8, 10, 1, 2, 3, 4, 5, 6, 7, 8, 9, 10, 4, 6, 8, 6, 1, 2, 3, 4, 6, 8, 10, 1, 2, 3, 6, 8, 10, 10, 1, 4, 5, 6, 7, 8, 9, 10, 1, 2, 3, 4, 5, 6, 8, 7, 6, 6, 1, 2, 3, 4, 5, 6, 7, 8, 9, 10, 1, 3, 4, 5, 7, 8, 9, 10, 2, 1, 1, 3, 4, 6, 7, 3, 1, 3, 4, 6, 9, 1, 2, 3, 4, 5, 6, 7, 8, 9, 10, 8, 8, 2, 3, 7, 9, 10, 1, 2, 7, 9, 10, 10, 9, 7, 8, 9, 1, 5, 7, 8, 10, 1, 3, 4, 6, 7, 8, 9, 10, 1, 3, 6, 7, 8, 9, 9, 1, 2, 3, 4, 5, 6, 7, 8, 9, 10, 1, 3, 7, 9, 1, 3, 7, 9, 10, 1, 2, 3, 4, 5, 6, 7, 8, 9, 4, 5, 6, 3, 5, 2, 3, 9, 1, 3, 4, 5, 6, 7, 8, 10, 1, 8, 9, 10, 3, 5, 10, 4, 8, 10, 1, 4, 8, 10, 1, 4, 7, 9, 10, 5, 1, 5, 2, 6, 7, 2, 6, 7, 7, 3, 7, 9, 9, 1, 4, 5, 6, 7, 8, 10, 8, 10, 6, 7, 8, 9, 10, 2, 3, 5, 7, 8, 9, 10, 2, 5, 6, 7, 10, 2, 4, 9, 5, 6, 8, 10, 1, 2, 3, 4, 5, 6, 7, 8, 9, 10, 8, 1, 2, 3, 5, 6, 9, 10, 2, 8, 2, 3, 5, 6, 7, 8, 9, 10, 1, 2, 3, 4, 5, 6, 8, 9, 10, 2, 3, 4, 6, 7, 8, 9, 3, 7, 8, 2, 3, 2, 4, 1, 3, 5, 8, 9, 10, 8, 1, 2, 3, 4, 5, 6, 7, 8, 9, 10, 1, 2, 4, 5, 6, 7, 8, 9, 10, 1, 2, 6, 9, 1, 4, 7, 3, 1, 2, 3, 4, 5, 6, 7, 8, 9, 10, 2, 3, 5, 6, 7, 8, 9, 10, 1, 2, 3, 5, 6, 7, 8, 9, 10, 3, 7, 8, 9, 1, 1, 2, 3, 4, 5, 6, 7, 8, 9, 10, 6, 8, 1, 2, 3, 4, 5, 6, 7, 8, 9, 10, 2, 3, 1, 2, 3, 4, 5, 6, 7, 9, 10, 1, 2, 3, 6, 7, 8, 9, 7, 4, 10, 1, 2, 3, 4, 5, 6, 7, 8, 10, 10, 10, 7, 9, 1, 2, 3, 4, 5, 6, 7, 8, 9, 10, 1, 2, 3, 4, 6, 8, 9, 10, 5, 6, 7, 1, 3, 4, 5, 6, 7, 9, 7, 1, 3, 5, 7, 1, 4, 9, 9, 1, 2, 3, 4, 5, 6, 7, 8, 9, 10, 2, 5, 6, 4, 2, 1, 2, 3, 5, 6, 8, 9, 10, 1, 2, 3, 4, 5, 6, 7, 8, 9, 10, 5, 2, 7, 8, 9, 2, 3, 7, 9, 7, 1, 4, 1, 3, 4, 6, 7, 1, 7, 6, 8, 9, 2, 6, 7, 1, 5, 7, 8, 9, 10, 1, 3, 4, 5, 7, 8, 9, 10, 1, 2, 4, 6, 9, 3, 3, 2, 6, 3, 6, 10, 4, 5, 6, 7, 8, 10, 1, 1, 5, 6, 7, 10, 1, 5, 7, 8, 9, 10, 6, 4, 1, 2, 4, 6, 8, 9, 10, 4, 8, 8, 8, 5, 7, 1, 3, 7, 1, 4, 5, 1, 4, 5, 6, 7, 8, 10, 1, 4, 6, 7, 8, 10, 1, 4, 2, 1, 4, 6, 8, 10, 1, 2, 4, 5, 6, 7, 2, 3, 4, 6, 8, 10, 8, 8, 10, 1, 2, 4, 5, 7, 8, 9, 10, 1, 2, 3, 4, 5, 6, 7, 8, 9, 10, 1, 3, 4, 7, 8, 1, 3, 4, 5, 7, 8, 9, 10, 8, 1, 3, 6, 7, 1, 3, 4, 9, 10, 1, 4, 7, 4, 5, 4, 9, 3, 5, 6, 1, 2, 3, 4, 5, 6, 7, 8, 9, 10, 1, 3, 7, 1, 2, 3, 4, 5, 6, 7, 8, 9, 10, 1, 2, 3, 4, 5, 6, 7, 8, 9, 10, 1, 2, 3, 5, 6, 7, 8, 9, 10, 1, 1, 4, 7, 9, 8, 1, 9, 10, 3, 6, 1, 6, 9, 5, 6, 2, 5, 6, 7, 5, 10, 5, 8, 4, 1, 2, 3, 4, 5, 6, 7, 8, 9, 10, 1, 1, 2, 3, 5, 10, 2, 3, 6, 7, 8, 9, 2, 5, 6, 8, 2, 5, 6, 7, 8, 10, 1, 5, 7, 8, 9, 10, 7, 1, 2, 5, 7, 8, 9, 10, 4, 1, 2, 4, 5, 6, 7, 8, 10, 6, 7, 6, 2, 3, 4, 5, 6, 7, 8, 9, 2, 5, 6, 6, 9, 4, 10, 5, 10, 10, 6, 1, 3, 4, 7, 1, 1, 4, 1, 3, 4, 5, 7, 8, 9, 1, 2, 3, 4, 5, 6, 7, 8, 9, 10, 6, 1, 3, 6, 4, 1, 8, 9, 10, 1, 10, 1, 4, 1, 2, 3, 4, 5, 6, 7, 8, 9, 10, 2, 5, 6, 10, 1, 2, 3, 4, 6, 7, 8, 9, 10, 1, 3, 4, 7, 10, 2, 3, 5, 6, 10, 1, 2, 4, 5, 6, 7, 8, 10, 5, 2, 8, 2, 2, 1, 2, 9, 1, 3, 4, 6, 8, 9, 10, 1, 3, 4, 5, 6, 7, 8, 10, 4, 1, 10, 10, 5, 2, 3, 6, 7, 9, 10, 4, 6, 8, 10, 2, 10, 9, 7, 3, 1, 2, 3, 4, 5, 6, 7, 8, 9, 10, 5, 6, 8, 1, 4, 7, 1, 2, 3, 4, 5, 6, 7, 9, 10, 1, 2, 3, 4, 5, 6, 7, 9, 1, 2, 3, 4, 5, 7, 8, 9, 10, 1, 2, 3, 4, 5, 6, 7, 8, 9, 10, 6, 1, 2, 3, 4, 5, 6, 7, 8, 9, 10, 4, 5, 7, 10, 7, 10, 2, 4, 5, 6, 8, 6, 6, 1, 8, 9, 9, 9, 1, 2, 3, 5, 6, 7, 1, 9, 7, 2, 5, 6, 8, 1, 2, 3, 4, 5, 6, 7, 8, 9, 10, 4, 5, 8, 9, 1, 7, 8, 9, 10, 4, 10, 2, 2, 3, 5, 6, 8, 9, 10, 6, 2, 1, 2, 3, 4, 6, 7, 8, 9, 1, 1, 2, 3, 4, 5, 6, 7, 8, 9, 10, 1, 2, 3, 4, 5, 6, 7, 8, 9, 10, 2, 3, 5, 7, 9, 3, 5, 7, 9, 7, 1, 7, 8, 9, 10, 4, 5, 7, 8, 9, 10, 2, 3, 6, 8, 10, 1, 2, 3, 4, 5, 6, 7, 8, 9, 10, 1, 4, 5, 7, 8, 1, 2, 3, 4, 5, 6, 7, 8, 9, 10, 5, 7, 9, 1, 1, 2, 4, 5, 6, 7, 2, 3, 5, 6, 7, 8, 9, 10, 3, 2, 3, 6, 2, 8, 5, 1, 5, 1, 4, 7, 8, 9, 1, 3, 4, 5, 6, 8, 9, 10, 2, 3, 7, 9, 1, 4, 9, 9, 9, 1, 3, 4, 5, 6, 7, 8, 9, 10, 1, 2, 3, 4, 5, 6, 7, 9, 1, 2, 3, 4, 5, 6, 7, 8, 9, 10, 1, 2, 3, 5, 6, 7, 8, 9, 2, 6, 1, 2, 3, 4, 5, 6, 8, 9, 10, 1, 2, 4, 5, 6, 7, 8, 1, 3, 4, 6, 7, 1, 1, 1, 2, 5, 1, 2, 3, 4, 5, 6, 7, 8, 9, 10, 7, 8, 9, 10, 1, 2, 3, 4, 5, 6, 7, 8, 9, 10, 2, 3, 5, 6, 7, 8, 9, 10, 1, 4, 6, 8, 10, 1, 3, 4, 5, 6, 7, 8, 9, 10, 5, 6, 7, 1, 7, 8, 1, 2, 4, 5, 6, 8, 2, 5, 6, 8, 1, 2, 3, 4, 5, 6, 7, 8, 9, 10, 1, 2, 3, 4, 5, 6, 7, 8, 9, 10, 2, 5, 6, 1, 2, 3, 4, 5, 7, 8, 9, 10, 9, 6, 4, 5, 8, 10, 3, 6, 1, 2, 3, 4, 5, 6, 7, 8, 9, 10, 2, 5, 1, 2, 3, 4, 5, 6, 7, 8, 9, 10, 5, 1, 2, 3, 4, 5, 6, 7, 8, 9, 10, 3, 7, 9, 2, 5, 2, 3, 3, 3, 4, 5, 7, 8, 9, 10, 1, 2, 4, 5, 6, 7, 8, 9, 10, 3, 7, 1, 7, 9, 5, 2, 3, 5, 7, 10, 2, 3, 6, 7, 2, 1, 2, 3, 4, 5, 6, 7, 8, 9, 10, 1, 2, 3, 4, 5, 6, 7, 8, 9, 10, 3, 5, 7, 9, 10, 2, 6, 8, 1, 2, 3, 4, 5, 6, 7, 8, 9, 10, 8, 1, 9, 3, 8, 9, 2, 3, 4, 5, 7, 8, 9, 1, 2, 3, 4, 5, 6, 7, 8, 9, 10, 2, 3, 4, 7, 8, 9, 2, 3, 4, 7, 9, 5, 1, 2, 3, 4, 5, 6, 7, 8, 9, 10, 1, 3, 5, 6, 8, 4, 1, 4, 8, 2, 1, 2, 3, 4, 5, 6, 7, 8, 9, 10, 3, 6, 4, 3, 1, 4, 5, 6, 7, 8, 9, 10, 1, 2, 3, 4, 5, 6, 7, 9, 4, 7, 1, 2, 3, 4, 5, 6, 7, 8, 9, 10, 1, 2, 3, 4, 6, 7, 8, 9, 10, 1, 2, 4, 6, 7, 2, 4, 6, 7, 1, 3, 5, 7, 9, 4, 7, 1, 2, 3, 4, 5, 6, 7, 8, 9, 10, 5, 2, 3, 5, 6, 7, 8, 10, 1, 8, 9, 1, 2, 3, 5, 6, 7, 8, 9, 10, 1, 2, 4, 5, 7, 8, 9, 10, 6, 1, 4, 8, 1, 2, 3, 4, 5, 6, 7, 8, 9, 10, 2, 4, 7, 7, 8, 7, 3, 4, 6, 7, 10, 4, 8, 1, 3, 10, 1, 2, 8, 9, 10, 1, 4, 8, 10, 1, 2, 3, 4, 5, 6, 7, 8, 9, 10, 1, 2, 3, 4, 5, 6, 7, 8, 9, 10, 1, 2, 3, 5, 6, 7, 8, 9, 10, 1, 2, 3, 4, 5, 6, 7, 8, 9, 10, 4, 5, 8, 6, 8, 6, 8, 3, 5, 6, 7, 1, 2, 3, 4, 5, 6, 7, 8, 9, 10, 2, 3, 4, 5, 6, 7, 8, 9, 10, 1, 2, 3, 4, 5, 6, 7, 8, 9, 10, 1, 4, 7, 1, 3, 4, 1, 2, 3, 4, 5, 6, 7, 8, 10, 1, 4, 5, 6, 8, 10, 1, 10, 1, 8, 10, 10, 4, 1, 4, 7, 8, 9, 10, 1, 2, 4, 6, 1, 2, 3, 4, 5, 6, 7, 8, 10, 1, 1, 1, 2, 3, 4, 5, 6, 7, 8, 9, 10, 1, 7, 5, 2, 5, 6, 2, 5, 2, 3, 4, 5, 7, 8, 9, 5, 7, 7, 9, 2, 2, 5, 6, 8, 2, 3, 6, 7, 8, 9, 10, 2, 2, 2, 1, 2, 4, 5, 6, 8, 9, 10, 1, 2, 3, 4, 5, 6, 9, 10, 1, 2, 3, 5, 6, 7, 10, 1, 2, 3, 5, 6, 7, 2, 3, 5, 6, 7, 10, 2, 3, 4, 6, 1, 2, 3, 4, 5, 6, 7, 8, 9, 10, 1, 3, 10, 1, 2, 3, 4, 5, 8, 9, 10, 2, 3, 5, 6, 7, 6, 6, 8, 10, 8, 2, 5, 6, 5, 1, 4, 5, 1, 5, 7, 8, 9, 10, 7, 8, 1, 2, 3, 4, 6, 8, 9, 10, 7, 7, 1, 4, 5, 6, 8, 10, 2, 3, 5, 6, 7, 8, 9, 10, 2, 5, 6, 7, 1, 9, 5, 8, 2, 8, 8, 2, 4, 10, 7, 10, 8, 1, 2, 3, 4, 5, 6, 7, 8, 1, 3, 8, 10, 8, 1, 3, 4, 5, 8, 9, 2, 7, 2, 5, 1, 2, 4, 5, 6, 8, 9, 10, 9, 1, 4, 8, 7, 1, 6, 8, 10, 8, 1, 8, 10, 9, 1, 5, 7, 7, 7, 2, 5, 7, 8, 10, 3, 6, 1, 2, 3, 4, 5, 6, 7, 8, 9, 10, 4, 7, 1, 2, 3, 5, 6, 8, 5, 6, 10, 5, 6, 10, 3, 2, 3, 5, 9, 10, 6, 1, 2, 3, 4, 5, 6, 7, 8, 9, 10, 1, 2, 3, 4, 5, 6, 7, 8, 9, 10, 1, 2, 3, 4, 5, 6, 7, 8, 9, 10, 1, 3, 4, 5, 6, 9, 10, 8, 9, 10, 10, 1, 2, 3, 4, 5, 6, 7, 8, 9, 10, 9, 10, 1, 4, 7, 9, 10, 9, 6, 5], \"Freq\": [0.9991247057914734, 0.9876388311386108, 0.9933139681816101, 0.9972389340400696, 0.9934288859367371, 0.9945785403251648, 0.9975254535675049, 0.9982501864433289, 0.9989714622497559, 0.9932375550270081, 0.9954796433448792, 0.9979223608970642, 0.9996601939201355, 0.9997458457946777, 0.998619019985199, 0.9993957281112671, 0.9982251524925232, 0.9986757040023804, 0.9988987445831299, 0.0058543384075164795, 0.04206450656056404, 0.00021682734950445592, 0.003469237592071295, 0.8738142251968384, 0.0717698484659195, 0.0028187555726617575, 0.4092446565628052, 0.0012623793445527554, 0.18758021295070648, 0.0012623793445527554, 0.005049517378211021, 0.0707399919629097, 0.31989625096321106, 0.0050027621909976006, 0.9983692169189453, 0.008795667439699173, 0.06341200321912766, 0.009568259119987488, 0.14631710946559906, 0.7719386219978333, 0.051496721804142, 0.0031900624744594097, 0.019140373915433884, 0.9260295629501343, 0.9983563423156738, 0.060714203864336014, 0.6274418830871582, 0.0059323799796402454, 0.008342409506440163, 0.015016336925327778, 0.20522327721118927, 0.013069774955511093, 0.006395847536623478, 0.015109030529856682, 0.04282436892390251, 0.9528341889381409, 0.008109227754175663, 0.03578637167811394, 0.0031731759663671255, 0.9958585500717163, 0.9934529662132263, 0.994931697845459, 0.0039055219385772943, 0.9994061589241028, 0.013049052096903324, 0.049846064299345016, 0.2647116780281067, 0.0170590877532959, 0.005571320652961731, 0.2680150270462036, 0.1022559180855751, 0.26367631554603577, 0.014889724552631378, 0.0009203361696563661, 0.013294286094605923, 0.0020032485481351614, 0.04534626379609108, 0.034601565450429916, 0.03296254202723503, 0.2168971747159958, 0.0590047761797905, 0.5882266163825989, 0.007466653361916542, 0.9982547760009766, 0.0158331748098135, 0.015528691001236439, 0.010047975927591324, 0.9512084126472473, 0.007003135047852993, 0.9959475994110107, 0.019028332084417343, 0.0020571169443428516, 0.9714734554290771, 0.007199909072369337, 0.9983543753623962, 0.9045813679695129, 0.003798306919634342, 0.03184734284877777, 0.05960419774055481, 0.8976074457168579, 0.010591238737106323, 0.06707784533500671, 0.023830287158489227, 0.14985398948192596, 0.22109901905059814, 0.11804039776325226, 0.0476296991109848, 0.055719129741191864, 0.08027762919664383, 0.04748459532856941, 0.18406176567077637, 0.04871796444058418, 0.047121841460466385, 0.032492995262145996, 0.5347102284431458, 0.04759186878800392, 0.0010784908663481474, 0.015679597854614258, 0.002046367386355996, 0.3436514437198639, 0.02275892347097397, 0.992510199546814, 0.9975676536560059, 0.08126719295978546, 0.8718401193618774, 0.0465741790831089, 0.9987481832504272, 0.9994373321533203, 0.12865310907363892, 0.002634894335642457, 0.1327635496854782, 0.011663799174129963, 0.0001053957748808898, 0.4109732508659363, 0.01921716332435608, 0.2308870106935501, 0.056843455880880356, 0.0062183509580791, 0.9989110827445984, 0.0008790651918388903, 0.9975215196609497, 0.12009742856025696, 0.003308469196781516, 0.1420436054468155, 0.21642902493476868, 0.02365555427968502, 0.007113208994269371, 0.4860692620277405, 0.00011028230801457539, 0.0005514115327969193, 0.0006065526977181435, 0.04124947637319565, 0.41671890020370483, 0.04716968536376953, 0.01593657024204731, 0.10125161707401276, 0.15232545137405396, 0.00016000571486074477, 0.13008464872837067, 0.005920211784541607, 0.08918718993663788, 0.9940484762191772, 0.9972477555274963, 0.9992271065711975, 0.09425850212574005, 0.00562310591340065, 0.2384578138589859, 0.028925638645887375, 0.004384116735309362, 0.5513502955436707, 0.033119142055511475, 0.02620939165353775, 0.0005241878679953516, 0.01715523935854435, 0.9975565671920776, 0.9994884729385376, 0.08798272162675858, 0.03898812085390091, 0.5996567606925964, 0.04719212278723717, 0.0463072694838047, 0.012879516929388046, 0.030019432306289673, 0.07061339914798737, 0.01628783717751503, 0.050087008625268936, 0.9991609454154968, 0.11242061108350754, 0.038458604365587234, 0.2560349702835083, 0.042645130306482315, 0.014940162189304829, 0.38191813230514526, 0.08820441365242004, 0.023313218727707863, 0.02516021765768528, 0.016951337456703186, 0.00016763017629273236, 0.008610095828771591, 0.03335840627551079, 0.011155026964843273, 0.9466990828514099, 0.17314204573631287, 0.004803823307156563, 0.6139695048332214, 0.04762939363718033, 0.0095054367557168, 0.005417077336460352, 0.010527526959776878, 0.0726706013083458, 0.01829541102051735, 0.04405207931995392, 0.022255312651395798, 0.002153740031644702, 0.0023226607590913773, 0.9732370972633362, 0.05916270241141319, 0.0010266846511512995, 0.027463814243674278, 0.9122093319892883, 0.033263642340898514, 0.026695962995290756, 0.23832644522190094, 0.02419174090027809, 0.22788430750370026, 0.06945675611495972, 0.20449580252170563, 0.11547776311635971, 0.01672632060945034, 0.043422285467386246, 0.1185273826122284, 0.0722220167517662, 0.09751646965742111, 0.05197687819600105, 0.07789352536201477, 0.01548298355191946, 0.25806567072868347, 0.19883787631988525, 0.04436700418591499, 0.06509074568748474, 0.9964454770088196, 0.9985281229019165, 0.9970864653587341, 0.9982317686080933, 0.9972836971282959, 0.9994748830795288, 0.9999110698699951, 0.008921668864786625, 0.9908300042152405, 0.24413757026195526, 0.06123707816004753, 0.15325738489627838, 0.07869357615709305, 0.06551886349916458, 0.0004560477682389319, 0.05107734724879265, 0.23983044922351837, 0.05449770763516426, 0.05128003656864166, 0.17783570289611816, 0.024901404976844788, 0.7916296124458313, 0.002938218880444765, 0.0027178525924682617, 0.995817244052887, 0.9988535642623901, 0.03818504512310028, 0.03136628866195679, 0.006903992500156164, 0.1229933500289917, 0.043128643184900284, 0.045003801584243774, 0.7086394429206848, 0.003750317031517625, 0.9892907738685608, 0.009109491482377052, 0.9450082182884216, 0.028302714228630066, 0.006049435120075941, 0.015771741047501564, 0.004969179164618254, 0.032713182270526886, 0.04496048390865326, 0.022399667650461197, 0.017887504771351814, 0.7923681139945984, 0.002739527728408575, 0.018209801986813545, 0.05833582580089569, 0.010474665090441704, 0.9159210324287415, 0.0837680771946907, 0.9524001479148865, 0.03179573640227318, 0.01530905906111002, 0.999164879322052, 0.9967682957649231, 0.07091312110424042, 0.11295688152313232, 0.6571871638298035, 0.01431774627417326, 0.028921326622366905, 0.04167997092008591, 0.024244023486971855, 0.04978729784488678, 0.04004555568099022, 0.03935866802930832, 0.15400022268295288, 0.05058928206562996, 0.1002856120467186, 0.09966740757226944, 0.4042334258556366, 0.08658219873905182, 0.02486533671617508, 0.00037778823752887547, 0.16620974242687225, 0.08214790374040604, 0.019794069230556488, 0.4143659174442291, 0.03440038114786148, 0.2830098569393158, 0.9996876120567322, 0.9977548718452454, 0.019745394587516785, 0.01851130649447441, 0.9619709253311157, 0.9735562801361084, 0.021532049402594566, 0.0046140109188854694, 0.9293880462646484, 0.05799940600991249, 0.002096364041790366, 0.010248891077935696, 0.011105320416390896, 0.2056642472743988, 0.0199738796800375, 0.07722710072994232, 0.0009810354094952345, 0.05376073718070984, 0.10599105805158615, 0.009064766578376293, 0.5162208080291748, 0.996284544467926, 0.9970519542694092, 0.9996889233589172, 0.006146575324237347, 0.9926719069480896, 0.999278724193573, 0.9969764947891235, 0.9914582967758179, 0.013520359992980957, 0.10368324816226959, 0.02484162524342537, 0.8026695847511292, 0.049194563180208206, 0.006067872513085604, 0.9967766404151917, 0.0031776223331689835, 0.7709705829620361, 0.05997762084007263, 0.16583216190338135, 0.9988585710525513, 0.022084927186369896, 0.019140269607305527, 0.912843644618988, 0.04490601643919945, 0.997177243232727, 0.0034310007467865944, 0.15227587521076202, 0.013824914582073689, 0.06539083272218704, 0.7646085619926453, 0.0005045589059591293, 0.0027036189567297697, 0.9851987361907959, 0.006488685496151447, 0.0043257903307676315, 0.0010814475826919079, 0.9971611499786377, 0.9993230104446411, 0.9337151646614075, 0.009342068806290627, 0.05654409900307655, 0.9974455237388611, 0.007844563573598862, 0.15760943293571472, 0.00016573020548094064, 0.013866093941032887, 0.3249969482421875, 0.2624061703681946, 0.029941923916339874, 0.18489967286586761, 0.018230322748422623, 0.9930599927902222, 0.9968211054801941, 0.9932089447975159, 0.9905394911766052, 0.00896686315536499, 0.9985190033912659, 0.9964801073074341, 0.9788306951522827, 0.02056875452399254, 0.12958641350269318, 0.025869376957416534, 0.17158423364162445, 0.03180443122982979, 0.01032645907253027, 0.2655603289604187, 0.1900547593832016, 0.09115495532751083, 0.017405938357114792, 0.0666961520910263, 0.019213950261473656, 0.029579371213912964, 0.9465398788452148, 0.004550672601908445, 0.017522526904940605, 0.03650526702404022, 0.035775162279605865, 0.9104413390159607, 0.013357790187001228, 0.0504627600312233, 0.9361584186553955, 0.053607504814863205, 3.5714529076358303e-05, 0.19575132429599762, 0.09671494364738464, 0.3451630473136902, 0.01171436533331871, 0.1183936595916748, 0.019267987459897995, 0.1593582183122635, 0.031931594014167786, 0.7606391906738281, 0.04074852541089058, 0.03741239011287689, 0.08006728440523148, 0.03312307223677635, 0.003336136694997549, 0.01286795549094677, 0.9965444207191467, 0.6570637226104736, 0.02539191208779812, 0.07088346779346466, 0.02210138365626335, 0.0356748141348362, 0.1299484521150589, 0.033344022929668427, 0.013491167686879635, 0.012092692777514458, 0.9986699819564819, 0.9962524175643921, 0.07307051867246628, 0.6824418306350708, 0.0007368455990217626, 0.14429892599582672, 0.043105464428663254, 0.0017193063395097852, 0.022350981831550598, 0.003561420366168022, 0.028614168986678123, 0.9986681938171387, 0.9969461560249329, 0.9991182088851929, 0.0008137120748870075, 0.9991644620895386, 0.2162446826696396, 0.070032998919487, 0.11742766201496124, 0.19027309119701385, 0.017360683530569077, 0.14315620064735413, 0.011215001344680786, 0.09815730899572372, 0.09017138928174973, 0.0459710918366909, 0.08512194454669952, 0.08741724491119385, 0.15540601313114166, 0.007310152519494295, 0.020853515714406967, 0.1873117834329605, 0.00804987084120512, 0.387699156999588, 0.0019907113164663315, 0.058851078152656555, 0.06864400207996368, 0.014006618410348892, 0.011112689040601254, 0.11205294728279114, 0.00034727153251878917, 0.03611623868346214, 0.7576307058334351, 0.006983424536883831, 0.00018377431842964143, 0.09528698772192001, 0.08720091730356216, 0.24239833652973175, 0.5554578900337219, 0.012404766865074635, 0.01891954243183136, 0.030412722378969193, 0.19149406254291534, 0.0001768181537045166, 0.2669954001903534, 0.49190810322761536, 0.9979953169822693, 0.9945136904716492, 0.9990264773368835, 0.9988150000572205, 0.09021778404712677, 0.01275572832673788, 0.0004638446553144604, 0.6530469059944153, 0.04810069128870964, 0.1859089434146881, 0.009508815594017506, 0.013028009794652462, 0.4907217025756836, 0.055338021367788315, 0.43997448682785034, 0.0008685339707881212, 0.7231917381286621, 0.005177571903914213, 0.005867914762347937, 0.06385672092437744, 0.08491217344999313, 0.05672317370772362, 0.016510700806975365, 0.043779246509075165, 0.03365914523601532, 0.6296849250793457, 0.022007903084158897, 0.07266923040151596, 0.2092045247554779, 0.015017157420516014, 0.01777893304824829, 0.0463431179523468, 0.1530238687992096, 0.5914700627326965, 0.15236444771289825, 0.05678405612707138, 0.9961045384407043, 0.04862939938902855, 0.007678326219320297, 0.9431543946266174, 0.011534813791513443, 0.04081876948475838, 0.003490238916128874, 0.011492250487208366, 0.012896858155727386, 0.919805645942688, 0.02712922729551792, 0.9724320769309998, 0.05564313009381294, 0.08807317167520523, 0.0017068444285541773, 0.004437795374542475, 0.8332814574241638, 0.01672707498073578, 0.0004517234046943486, 0.32228729128837585, 3.4747954487102106e-05, 0.41009536385536194, 0.003092567902058363, 0.25932398438453674, 0.004690974019467831, 0.0108371926471591, 0.07586035132408142, 0.0005418596556410193, 0.860473096370697, 0.05201852694153786, 0.00027092982782050967, 0.2125355750322342, 0.06470964103937149, 0.10749489814043045, 0.11024907976388931, 0.07024527341127396, 0.0005181134329177439, 0.08333445340394974, 0.2089633196592331, 0.07471740990877151, 0.06721840053796768, 0.019696027040481567, 0.9460061192512512, 0.016711780801415443, 0.016711780801415443, 0.05347442626953125, 0.04764899984002113, 0.0012696442427113652, 0.023451074957847595, 0.0498148612678051, 0.3086729049682617, 0.017924388870596886, 0.07393810153007507, 0.08252687007188797, 0.3413102328777313, 0.31914088129997253, 0.01379881240427494, 0.0320701040327549, 0.13500647246837616, 0.012966723181307316, 0.03876148909330368, 0.07072757929563522, 0.23960700631141663, 0.1268589347600937, 0.011059852316975594, 0.9887905716896057, 0.010573850013315678, 0.000542248715646565, 0.043729789555072784, 0.01174225751310587, 0.9444419741630554, 0.03141041845083237, 0.13332168757915497, 0.04029853269457817, 0.3279109597206116, 0.0001725847105262801, 0.1347886621952057, 0.10717511177062988, 0.042714718729257584, 0.18207687139511108, 0.9981746077537537, 0.06349578499794006, 0.022831818088889122, 0.15160104632377625, 0.010221543721854687, 0.7518945336341858, 0.22102510929107666, 0.051199644804000854, 0.11469212174415588, 0.0035649212077260017, 0.5999516248703003, 0.009465480223298073, 0.996292233467102, 0.9847362041473389, 0.00031622868846170604, 0.01486274879425764, 0.9988813400268555, 0.40805742144584656, 0.01573426090180874, 0.1613200306892395, 0.4148814380168915, 0.04902054741978645, 0.11809495836496353, 0.8026686310768127, 0.030166491866111755, 0.12572874128818512, 0.016382835805416107, 0.001142988563515246, 0.8564794063568115, 0.8418751358985901, 0.003303464036434889, 0.0930052176117897, 0.06174936890602112, 0.9608385562896729, 0.024395499378442764, 0.0145765645429492, 0.9730882048606873, 0.0009932098910212517, 0.018981344997882843, 0.0065110428258776665, 0.00040464106132276356, 0.9957903027534485, 0.0375007763504982, 0.13073188066482544, 0.13333609700202942, 0.029427694156765938, 0.5545687675476074, 0.0011718992609530687, 0.11315339058637619, 0.9970717430114746, 0.23783178627490997, 0.06942147761583328, 0.0849546492099762, 0.07152004539966583, 0.04225247725844383, 0.21002572774887085, 0.06992737948894501, 0.09850167483091354, 0.04131561517715454, 0.07425568252801895, 0.43575313687324524, 0.0007722062873654068, 0.3756926655769348, 0.14202876389026642, 0.0027456223033368587, 0.04290034994482994, 0.00011440092930570245, 0.6915422081947327, 0.07064902037382126, 0.005900531075894833, 0.11321152001619339, 0.07434669137001038, 0.0442146435379982, 0.004164110869169235, 0.01314063835889101, 0.1017090380191803, 0.0013963485835120082, 0.09604883939027786, 0.23954859375953674, 0.5439775586128235, 0.13437943160533905, 0.05378783866763115, 0.4043653905391693, 0.034742321819067, 0.015324464067816734, 0.14018933475017548, 0.07878141850233078, 0.07705320417881012, 0.04586098715662956, 0.015514146536588669, 0.994979202747345, 0.0049538156017661095, 0.9998992085456848, 0.9049093723297119, 0.0831255093216896, 0.011889467015862465, 0.735240638256073, 0.07515250891447067, 0.09800122678279877, 0.07372183352708817, 0.017841357737779617, 0.9941795468330383, 0.9949410557746887, 0.9982362985610962, 0.05128229781985283, 0.03239459916949272, 0.08697126805782318, 0.007027980871498585, 0.015483520925045013, 0.8067902326583862, 0.9984106421470642, 0.2835063338279724, 0.7164879441261292, 0.0015118952142074704, 0.937375009059906, 0.005291633307933807, 0.050648488104343414, 0.006047580856829882, 0.3554617464542389, 0.2364668846130371, 0.012970756739377975, 0.03670671582221985, 0.007246819790452719, 0.35110315680503845, 0.9991042613983154, 0.000435529334936291, 0.9995744228363037, 0.04789264500141144, 0.10522295534610748, 0.8226265907287598, 0.024228043854236603, 0.0264207161962986, 0.49937430024147034, 0.009907769039273262, 0.4642985463142395, 0.05401463806629181, 0.032039497047662735, 0.3317336142063141, 0.018724381923675537, 0.1219165250658989, 0.06550932675600052, 0.21257373690605164, 0.0680319219827652, 0.040933579206466675, 0.054560765624046326, 0.9966330528259277, 0.001998064573854208, 0.9970341920852661, 0.9985616207122803, 0.5688084363937378, 0.0002486883895471692, 0.0663190558552742, 0.12834903597831726, 0.1841295212507248, 0.05097788944840431, 0.0011659286683425307, 0.6323325634002686, 0.012296642176806927, 0.10835301876068115, 0.13291066884994507, 0.11380631476640701, 0.00028513954021036625, 0.9941555857658386, 0.8449887037277222, 0.0181379746645689, 0.01244894228875637, 0.028512094169855118, 0.023626217618584633, 0.015126134268939495, 0.012984381057322025, 0.044240597635507584, 0.08466745913028717, 0.023362096399068832, 0.8564222455024719, 0.007975336164236069, 0.0008861484820954502, 0.02457047998905182, 0.0020945328287780285, 0.997972309589386, 0.997035562992096, 0.999807596206665, 0.2120700180530548, 0.026782037690281868, 0.4023112952709198, 0.052744217216968536, 0.035117264837026596, 0.09541101008653641, 0.030881328508257866, 0.07272826135158539, 0.017558632418513298, 0.05441809445619583, 0.0022396943531930447, 0.015988929197192192, 0.07036373764276505, 0.25768929719924927, 0.23765647411346436, 0.021774807944893837, 0.3554892838001251, 0.03875915706157684, 0.9981259703636169, 0.9990193247795105, 0.048665158450603485, 0.028430696576833725, 0.8211604952812195, 0.022283518686890602, 0.07940104603767395, 0.9967043995857239, 0.0022991104051470757, 0.036128878593444824, 0.7580495476722717, 0.025947103276848793, 0.1770315021276474, 0.16891689598560333, 0.06645366549491882, 0.1522790640592575, 0.06676611304283142, 0.11519546806812286, 0.030678432434797287, 0.11173901706933975, 0.13651999831199646, 0.06295815855264664, 0.0885007381439209, 0.9968752264976501, 0.9983443021774292, 0.9974550604820251, 0.9965559244155884, 0.004443122074007988, 0.009797654114663601, 0.9856895804405212, 0.011124047450721264, 0.002781011862680316, 0.005005821585655212, 0.01446126215159893, 0.9672359228134155, 0.9982674717903137, 0.9994330406188965, 0.06119914725422859, 0.07279477268457413, 0.8651626706123352, 0.07985442876815796, 0.0005054077482782304, 0.011118970811367035, 0.0065703010186553, 0.9011420607566833, 0.021584518253803253, 0.7313119173049927, 0.0007590160239487886, 0.07092055678367615, 0.05260929837822914, 0.11911807954311371, 0.0033681336790323257, 0.00028463100898079574, 0.011681083589792252, 0.8475657105445862, 0.006642185151576996, 0.013856971636414528, 0.11703988164663315, 0.0030920517165213823, 0.9977925419807434, 0.07164901494979858, 0.09390124678611755, 0.08703619241714478, 0.023199129849672318, 0.10463281720876694, 0.060128357261419296, 0.027381286025047302, 0.43399733304977417, 0.04261064901947975, 0.05547275021672249, 0.003720739856362343, 0.9517652988433838, 0.04241643473505974, 0.0014882959658280015, 0.04102170094847679, 0.848724901676178, 0.07685675472021103, 0.014145414344966412, 0.01933206617832184, 0.06531040370464325, 0.01448176521807909, 0.5478730797767639, 0.04044149070978165, 0.04929010197520256, 0.00012210595014039427, 0.13149996101856232, 0.09779058396816254, 0.05318120867013931, 0.00611555390059948, 0.9369671940803528, 0.0566493421792984, 0.03563981130719185, 0.963594913482666, 0.8152512311935425, 0.014543827623128891, 0.17014285922050476, 0.05686129629611969, 0.8741030097007751, 0.006689563859254122, 0.0014865697594359517, 0.05574636533856392, 0.0029731395188719034, 0.0011149273486807942, 0.0011149273486807942, 0.05812063813209534, 0.0030780399683862925, 0.006518202368170023, 0.9321029186248779, 0.9923741221427917, 0.983698308467865, 0.014555338770151138, 0.8806508779525757, 0.06128667667508125, 0.05797388404607773, 0.07832925766706467, 0.864741861820221, 0.01757071353495121, 0.039246734231710434, 0.12760229408740997, 0.8053634762763977, 0.006048867478966713, 0.03917361795902252, 0.021603098139166832, 0.9998612999916077, 0.9986701011657715, 0.9980966448783875, 0.038975100964307785, 0.9599422812461853, 0.9985836148262024, 0.010875176638364792, 0.025973724201321602, 0.9631394743919373, 0.998807430267334, 0.9988117218017578, 0.9981721639633179, 0.9985910058021545, 0.9981087446212769, 0.003374530700966716, 0.005534230265766382, 8.998748671729118e-05, 0.0015747810248285532, 0.08553310483694077, 0.43801409006118774, 0.46586522459983826, 0.0663582980632782, 0.9336134791374207, 0.019786765798926353, 0.043955374509096146, 0.19054175913333893, 0.012666268274188042, 0.7330688238143921, 0.008865251205861568, 0.0016118638450279832, 0.02530626207590103, 0.9232755899429321, 0.005480336956679821, 0.005319150630384684, 0.03014185279607773, 0.028255503624677658, 0.01724686659872532, 0.007339091971516609, 0.9236246943473816, 0.02348509430885315, 0.9984181523323059, 0.0904017835855484, 0.908826470375061, 0.9795712828636169, 0.013150813989341259, 0.0016438517486676574, 0.0057534812949597836, 0.027555616572499275, 0.1267777681350708, 0.41757360100746155, 0.06293205916881561, 0.032781682908535004, 0.238352432847023, 0.007345728110522032, 0.0529550276696682, 0.02419339306652546, 0.009575028903782368, 0.99603271484375, 0.412170946598053, 0.0015613521682098508, 0.13464060425758362, 0.0016654422506690025, 0.44706717133522034, 0.00013011267583351582, 0.0027323663234710693, 0.9843785762786865, 0.015519482083618641, 0.9054628610610962, 0.007936602458357811, 0.023896075785160065, 0.022602064535021782, 4.313371027819812e-05, 0.030236732214689255, 0.000345069682225585, 0.009489416144788265, 0.441353976726532, 0.043054062873125076, 0.003965131007134914, 0.09163937717676163, 0.048713453114032745, 0.21406012773513794, 0.0368678905069828, 0.044306959956884384, 0.076028011739254, 0.7456759810447693, 0.02550629898905754, 0.060769107192754745, 0.11331486701965332, 0.04167422652244568, 0.011986566707491875, 0.0009756507934071124, 0.012463509105145931, 0.9202224016189575, 0.06681825965642929, 0.9908261895179749, 0.00901844259351492, 0.9957811832427979, 0.9994187951087952, 0.5262733101844788, 0.0005198861472308636, 0.05889567360281944, 0.034609563648700714, 0.025845767930150032, 0.35381966829299927, 0.998805820941925, 0.15159712731838226, 0.043779805302619934, 0.09554693847894669, 0.11860600113868713, 0.034658048301935196, 0.33461108803749084, 0.01183050312101841, 0.12809818983078003, 0.025536291301250458, 0.0557260662317276, 0.09485358744859695, 0.10966511070728302, 0.009575125761330128, 0.030819935724139214, 0.014063466340303421, 0.00748056685552001, 0.09739698469638824, 0.6087685227394104, 0.02722926437854767, 0.010123233310878277, 0.00458131730556488, 0.02837461046874523, 0.9569041728973389, 0.9818469285964966, 0.016500214114785194, 0.0015995105495676398, 0.9956833124160767, 0.0009719387162476778, 0.04776722937822342, 0.730163037776947, 0.002109818160533905, 0.013844200409948826, 0.08662107586860657, 0.022639060392975807, 0.053907040506601334, 0.025483759120106697, 0.01647554710507393, 0.03162212669849396, 0.8511778712272644, 0.015623950399458408, 0.048088088631629944, 0.03461593762040138, 0.004490716382861137, 0.006081178318709135, 0.008420092985033989, 0.009594657458364964, 0.08238890022039413, 0.7241880297660828, 0.06632827967405319, 0.03121739812195301, 0.04234163835644722, 0.020718896761536598, 0.015226303599774837, 0.007995547726750374, 0.9683466553688049, 0.01292277593165636, 0.007753665558993816, 0.010338220745325089, 0.9991096258163452, 0.25550439953804016, 0.10184051096439362, 0.14189517498016357, 0.03551103547215462, 0.027056913822889328, 0.18576721847057343, 0.1165141835808754, 0.07629192620515823, 0.021396003663539886, 0.038211140781641006, 0.9973124861717224, 0.9971439838409424, 0.08962033689022064, 0.04696736857295036, 0.08092137426137924, 0.028517156839370728, 0.038513943552970886, 0.4874574542045593, 0.15486253798007965, 0.017959143966436386, 0.019256971776485443, 0.03595336526632309, 0.9950099587440491, 0.004813650622963905, 0.1319202035665512, 0.07079994678497314, 0.03747418895363808, 0.5092894434928894, 0.00013828114606440067, 0.1460248827934265, 0.10246632993221283, 0.00013828114606440067, 0.001659373752772808, 0.010517342947423458, 0.6486696600914001, 0.009115030989050865, 0.1788949966430664, 0.01923171430826187, 0.13261869549751282, 0.0009014865499921143, 0.9989748001098633, 0.9942477345466614, 0.9965372681617737, 0.007062877528369427, 0.026485789567232132, 0.025308644399046898, 0.006866686511784792, 0.04649727791547775, 0.7631831169128418, 0.036295343190431595, 0.007651450578123331, 0.08063451945781708, 0.9947814345359802, 0.9963593482971191, 0.9990522265434265, 0.9964572787284851, 0.07641751319169998, 0.030928591266274452, 0.04823310673236847, 0.017304513603448868, 0.06905663758516312, 0.24616962671279907, 0.35764816403388977, 0.11496525257825851, 9.685362601885572e-05, 0.03919343277812004, 0.0010981784434989095, 0.02452598512172699, 0.03770412877202034, 0.0073211900889873505, 0.047221675515174866, 0.8042327165603638, 0.00036605948116630316, 0.07760461419820786, 0.9982020258903503, 0.9988448023796082, 0.9980847239494324, 0.04180768132209778, 0.010033843107521534, 0.05416417494416237, 0.11538919806480408, 0.023691019043326378, 0.7539318799972534, 0.001021965523250401, 0.9997913837432861, 0.916225016117096, 0.023397663608193398, 0.0028902997728437185, 0.057393092662096024, 0.0276574045419693, 0.00987764447927475, 0.96208256483078, 0.9986882209777832, 0.026762913912534714, 0.029687823727726936, 0.3557420074939728, 0.014478297904133797, 0.15380144119262695, 0.1546301692724228, 0.13171838223934174, 0.11446142941713333, 0.016281992197036743, 0.002437423914670944, 0.9363601803779602, 0.05185737460851669, 0.011291525326669216, 0.9975082874298096, 0.9989504218101501, 0.004803129937499762, 0.08923710137605667, 0.009859056212008, 0.7257782220840454, 0.061935096979141235, 0.0634518712759018, 0.020729297772049904, 0.024015650153160095, 0.10085146129131317, 0.001302359509281814, 0.13064293563365936, 0.05380372703075409, 0.05974574014544487, 0.5622937083244324, 0.03475672006607056, 0.03744283318519592, 0.005697822663933039, 0.013511979952454567, 0.9988402128219604, 0.0837593525648117, 0.018718944862484932, 0.0038072431925684214, 0.8934330344200134, 0.004784491844475269, 0.022008661180734634, 0.020094865933060646, 0.9511569738388062, 0.9972513914108276, 0.9873684048652649, 0.01252097636461258, 0.8665046691894531, 0.00984001811593771, 0.02230404131114483, 0.09716106206178665, 0.004154674243181944, 0.993772029876709, 0.006140226498246193, 0.00877879373729229, 0.9902479648590088, 0.9987715482711792, 0.025816326960921288, 0.9293877482414246, 0.04388775676488876, 0.003129271324723959, 0.0077028218656778336, 0.2293996661901474, 0.10844128578901291, 0.19172804057598114, 0.45952147245407104, 0.04006721079349518, 0.6266252994537354, 0.023518294095993042, 0.06213242933154106, 0.0019643427804112434, 0.0005919936811551452, 0.23483313620090485, 0.010225345380604267, 0.9609482288360596, 0.0014952514320611954, 0.018192226067185402, 0.013706470839679241, 0.005482588429003954, 0.9950399994850159, 0.9963876605033875, 0.929807722568512, 0.06986790895462036, 0.9853181838989258, 0.012796339578926563, 0.9975470304489136, 0.24527780711650848, 0.5524970889091492, 0.06063193827867508, 0.024750402197241783, 0.009428724646568298, 0.10725174844264984, 0.9996282458305359, 0.008595834486186504, 0.019101854413747787, 0.8223348259925842, 0.09694191068410873, 0.05253009870648384, 0.05941091105341911, 0.0007732439553365111, 0.02513042837381363, 0.013145146891474724, 0.03208962455391884, 0.8693839311599731, 0.9984992742538452, 0.9959211349487305, 0.035228192806243896, 0.8910155296325684, 0.00523345684632659, 0.004999122582376003, 0.001562225865200162, 0.03202563151717186, 0.02999473735690117, 0.9897095561027527, 0.00987241417169571, 0.9994930028915405, 0.9968749284744263, 0.00012500357115641236, 0.9997786283493042, 0.9828384518623352, 0.0013864274369552732, 0.015527987852692604, 0.045581649988889694, 0.9545722007751465, 0.9973383545875549, 0.08343595266342163, 0.005044964607805014, 0.0016816548304632306, 0.08589375764131546, 0.0005174322868697345, 0.2545766830444336, 0.569046139717102, 0.03531114012002945, 0.0008701473125256598, 0.03345856815576553, 0.00014034633932169527, 0.1345079243183136, 0.79567950963974, 0.9907976388931274, 0.008396590128540993, 0.9985067844390869, 0.7660727500915527, 0.000544085749424994, 0.18528594076633453, 0.009397844783961773, 0.03877847641706467, 0.03370172902941704, 0.7749859094619751, 0.01969781517982483, 0.002308337716385722, 0.15927530825138092, 0.010002796538174152, 0.029218968003988266, 0.0006724030245095491, 0.010819575749337673, 0.030869411304593086, 0.8660550713539124, 0.06241122633218765, 0.999880850315094, 0.8186013102531433, 0.18121583759784698, 0.4663628339767456, 0.12770815193653107, 0.014781037345528603, 0.04307616502046585, 0.24202892184257507, 0.07601676136255264, 0.015752362087368965, 0.014232027344405651, 0.008278957568109035, 0.5310633182525635, 0.06710201501846313, 0.020527569577097893, 0.06731429696083069, 0.017640547826886177, 0.13286665081977844, 0.06769639998674393, 0.08735361695289612, 0.000127368577523157, 0.998982846736908, 0.8867203593254089, 0.007971573621034622, 0.017818812280893326, 0.08674947917461395, 0.2736237645149231, 0.006176151800900698, 0.1565300077199936, 0.03523444011807442, 0.06079965829849243, 0.36550667881965637, 0.09213603287935257, 0.010023591108620167, 0.9975618124008179, 0.019282381981611252, 0.015222934074699879, 0.9204800724983215, 0.044653937220573425, 0.9231711030006409, 0.01149542536586523, 0.009063701145350933, 0.05128728225827217, 0.00486344937235117, 0.11593657732009888, 0.8045598864555359, 0.07895680516958237, 0.9969452023506165, 0.9969052076339722, 0.9910489916801453, 0.008020049892365932, 0.011411678045988083, 0.9412351846694946, 0.04701611399650574, 0.137639120221138, 0.06346645951271057, 0.3098295331001282, 0.0479791983962059, 0.058023035526275635, 0.04000675305724144, 0.07664147019386292, 0.18942390382289886, 0.02170143462717533, 0.05528928339481354, 0.9927635788917542, 0.006734698545187712, 0.0003453691315371543, 0.19272345304489136, 0.0034523203503340483, 0.5096138119697571, 0.043107349425554276, 0.0071845585480332375, 0.029018152505159378, 0.09090332686901093, 0.023256508633494377, 0.022789979353547096, 0.07795712351799011, 0.007050265092402697, 0.09582701325416565, 0.3806435763835907, 0.0022046815138310194, 0.0008960202685557306, 0.32676446437835693, 0.002570163458585739, 0.16174344718456268, 0.003018173621967435, 0.019276225939393044, 0.0037451614625751972, 0.007238547783344984, 0.5211754441261292, 0.005350230727344751, 0.038710493594408035, 0.3789536952972412, 0.030213067308068275, 0.01435120776295662, 0.00025177557836286724, 0.9998651146888733, 0.05611564964056015, 0.015867182984948158, 0.006192071363329887, 0.9218446612358093, 0.9988588690757751, 0.993366539478302, 0.006252503953874111, 0.9949410557746887, 0.01293648686259985, 0.9857603311538696, 0.9784156084060669, 0.021326100453734398, 0.9983593821525574, 0.9959158301353455, 0.9978592991828918, 0.014850853011012077, 0.6466618180274963, 0.2613750100135803, 0.07703880220651627, 0.9841826558113098, 0.014430830255150795, 0.9127301573753357, 0.08647681772708893, 0.9977189302444458, 0.0940030962228775, 0.11492817103862762, 0.044445812702178955, 0.0091447364538908, 0.058302685618400574, 0.03470207750797272, 0.41207218170166016, 0.1533440500497818, 0.020965006202459335, 0.057983219623565674, 0.9994059801101685, 0.012399425730109215, 0.016908306628465652, 0.009017763659358025, 0.01803552731871605, 0.9423563480377197, 0.023563945665955544, 0.14598152041435242, 0.0005747303948737681, 0.00028736519743688405, 0.8141055703163147, 0.015517720021307468, 0.7813636660575867, 0.21443592011928558, 0.004084493964910507, 8.168987551471218e-05, 0.9963504672050476, 0.011825725436210632, 0.002570810029283166, 0.974851131439209, 0.006169944070279598, 0.004627457819879055, 0.031719084829092026, 0.00933422613888979, 0.9259898662567139, 0.0009507082868367434, 0.01088993065059185, 0.021088438108563423, 0.9981737732887268, 0.03445719555020332, 0.00017402623780071735, 0.008214038796722889, 0.9152039885520935, 0.0043506561778485775, 0.017785482108592987, 0.01983899250626564, 0.9965697526931763, 0.016877107322216034, 0.036549150943756104, 5.374875036068261e-05, 0.0013437187299132347, 0.10292885452508926, 0.0040849051438272, 0.7574810981750488, 0.08067687600851059, 0.9441521167755127, 0.054076824337244034, 0.9975769519805908, 0.004157694987952709, 0.00235000136308372, 0.1917058825492859, 0.06706542521715164, 0.016088470816612244, 0.6100061535835266, 0.08188851177692413, 0.026844246312975883, 0.939755380153656, 0.0035065498668700457, 0.05610479786992073, 0.9985344409942627, 0.9985941648483276, 0.994499683380127, 0.9989915490150452, 0.9988986253738403, 0.9947575330734253, 0.9974274635314941, 0.9970168471336365, 0.02686784416437149, 0.8049939274787903, 0.15641668438911438, 0.01145528256893158, 0.9995224475860596, 0.05579429119825363, 0.9439615607261658, 0.2921142280101776, 0.0029896991327404976, 0.1739180088043213, 0.028402142226696014, 0.05010323226451874, 0.36412474513053894, 0.08840230852365494, 0.09155376255512238, 0.027783432975411415, 0.28477373719215393, 0.013053311966359615, 0.0217727180570364, 0.2653743326663971, 0.11087575554847717, 0.12142675369977951, 0.035909503698349, 0.027448071166872978, 0.9969080090522766, 0.008571047335863113, 0.007911736145615578, 0.9830331802368164, 0.9974704384803772, 0.032003700733184814, 0.01904250867664814, 0.029178038239479065, 0.9196917414665222, 0.009760333225131035, 0.988233745098114, 0.028158342465758324, 0.971163272857666, 0.06520617008209229, 0.06049094349145889, 0.09370321035385132, 0.05333899334073067, 0.11767490208148956, 0.032025549560785294, 0.3609994351863861, 0.14503268897533417, 0.03140845522284508, 0.04011105000972748, 0.2257280945777893, 0.7488284111022949, 0.015457467176020145, 0.009814265184104443, 0.14529326558113098, 0.0025639988016337156, 0.009614995680749416, 0.027990320697426796, 0.09187662601470947, 0.029058651998639107, 0.009614995680749416, 0.6435636878013611, 0.040382981300354004, 0.9980261325836182, 0.001557590439915657, 0.01121493149548769, 0.0067289588041603565, 0.9824280142784119, 0.003937286790460348, 0.1343599110841751, 0.011319699697196484, 0.8238772749900818, 0.026576686650514603, 0.04741157218813896, 0.6747580766677856, 0.004498387221246958, 0.009496594779193401, 0.16208474338054657, 0.10082099586725235, 0.0009996416047215462, 7.140297384466976e-05, 0.999152660369873, 0.992099940776825, 0.007837317883968353, 0.9992163181304932, 0.9995405077934265, 0.031530000269412994, 0.0042653316631913185, 0.9641322493553162, 0.08828862011432648, 0.6941648721694946, 0.05796201154589653, 0.07675004750490189, 0.07876845449209213, 0.003969539888203144, 0.00010092050797538832, 0.039204057306051254, 0.019166426733136177, 0.5181905031204224, 0.07910507172346115, 0.03746165335178375, 0.046173665672540665, 0.22320175170898438, 0.03746165335178375, 0.9982138276100159, 0.9999175667762756, 0.9981234073638916, 0.9919269680976868, 0.9980568289756775, 0.0026008079294115305, 0.10063125938177109, 0.12683939933776855, 0.004801491741091013, 0.7640373706817627, 0.0010003107599914074, 0.006039723753929138, 0.1573452204465866, 0.2409641593694687, 0.5955896973609924, 0.9994632601737976, 0.9938886165618896, 0.9979250431060791, 0.9989519119262695, 0.9963158965110779, 0.007693164516240358, 0.09519132226705551, 0.5363897085189819, 0.020731378346681595, 0.032564640045166016, 0.18466684222221375, 0.04399625211954117, 0.01915566995739937, 0.01588066853582859, 0.043718185275793076, 0.976096510887146, 0.020254196599125862, 0.0031160302460193634, 0.9426714777946472, 0.03218724578619003, 0.02509870007634163, 0.027151886373758316, 0.003449886804446578, 0.11953219026327133, 0.013671773485839367, 0.01034966018050909, 0.2148512899875641, 0.5859057903289795, 0.021849283948540688, 0.0031943395733833313, 0.018206734210252762, 0.004110528621822596, 0.005792108364403248, 0.8030685782432556, 0.0010380122112110257, 0.005999710876494646, 0.1609957069158554, 0.0007888893014751375, 0.2548883557319641, 0.01556058693677187, 0.08643943071365356, 0.12694163620471954, 0.038045261055231094, 0.09481534361839294, 0.30532997846603394, 0.06678395718336105, 0.011167884804308414, 0.18256843090057373, 0.04054320976138115, 0.16273078322410583, 0.03928269445896149, 0.04333288222551346, 0.18587471544742584, 0.15680015087127686, 0.05480152741074562, 0.02161478064954281, 0.11247538030147552, 0.9978635907173157, 0.04169965907931328, 0.040265247225761414, 0.5728055834770203, 0.030619658529758453, 0.07177717983722687, 0.0806773230433464, 0.03583776205778122, 0.030518006533384323, 0.06567809730768204, 0.0301114022731781, 0.020232049748301506, 0.2895916998386383, 0.6900769472122192, 0.9948862791061401, 0.0030074703972786665, 0.9954727292060852, 0.23793789744377136, 0.041786495596170425, 0.4039166569709778, 0.2486763298511505, 0.06764043122529984, 0.9936021566390991, 0.9989740252494812, 0.9985089898109436, 0.007268735207617283, 0.9926184415817261, 0.9962087273597717, 0.9998853802680969, 0.028755467385053635, 0.02127116732299328, 0.00787821039557457, 0.008666031062602997, 0.913478434085846, 0.019695525988936424, 0.19675956666469574, 0.8027790188789368, 0.9985861778259277, 0.8742160201072693, 0.015250959433615208, 0.037481170147657394, 0.07289441674947739, 0.012170116417109966, 0.21943126618862152, 0.2756989598274231, 0.007128938566893339, 0.018840765580534935, 0.16182690858840942, 0.014818008057773113, 0.2679716944694519, 0.017758695408701897, 0.004366474691778421, 0.8730464577674866, 0.016975902020931244, 0.10993918031454086, 0.998579740524292, 0.0010737936245277524, 0.0028634495101869106, 0.02612897753715515, 0.06836485862731934, 0.9014497399330139, 0.9995702505111694, 0.9971638917922974, 0.9993891716003418, 0.7699108123779297, 0.0027310606092214584, 0.020648473873734474, 0.010924242436885834, 0.06897997111082077, 0.0025241621769964695, 0.12426325678825378, 0.9981327056884766, 0.9978591799736023, 0.010510514490306377, 0.03669773042201996, 0.8103784918785095, 0.003562886267900467, 0.016745565459132195, 0.08515298366546631, 0.005700618028640747, 0.03099711239337921, 0.9995496273040771, 0.15305960178375244, 0.0295005664229393, 0.12572753429412842, 0.03591569885611534, 0.26049044728279114, 0.14894849061965942, 0.11145160347223282, 0.08181551098823547, 0.03433450311422348, 0.018748445436358452, 0.16948838531970978, 0.05930180475115776, 0.0012377985985949636, 0.13876847922801971, 0.0029932220932096243, 0.19136366248130798, 0.29241305589675903, 0.09762854874134064, 0.036503806710243225, 0.010307486169040203, 0.0013382992474362254, 0.6332482695579529, 0.02612592838704586, 0.1658327281475067, 0.173397034406662, 0.6038525700569153, 0.0033954649697989225, 0.2152261734008789, 0.17741304636001587, 0.9996615648269653, 0.01670626550912857, 0.003977682441473007, 0.006563175935298204, 0.022871673107147217, 0.9494727253913879, 0.012911948375403881, 0.02459418773651123, 0.01783078722655773, 0.05841119587421417, 0.8724788427352905, 0.013526803813874722, 2.259243956359569e-05, 0.0006928348448127508, 0.4846530258655548, 0.3802834749221802, 0.13434970378875732, 0.16318029165267944, 0.024670414626598358, 0.06499765813350677, 0.05679497495293617, 0.08820219337940216, 0.47697174549102783, 0.03870541602373123, 0.021551525220274925, 0.014190946705639362, 0.050744328647851944, 0.211471825838089, 0.7288644313812256, 0.004574966616928577, 0.05435783043503761, 0.0006019693100824952, 0.008942656219005585, 0.013377334922552109, 0.011031719855964184, 0.0019791126251220703, 0.0038849245756864548, 0.0001832511625252664, 0.11288271099328995, 0.8226510882377625, 0.01964452490210533, 0.005387584213167429, 0.004383536521345377, 0.9937477111816406, 0.0017534145154058933, 0.9987545609474182, 0.08037222921848297, 0.2065921425819397, 0.21719373762607574, 0.0007770795491524041, 0.49488866329193115, 0.00016651704208925366, 0.04463275149464607, 0.07686968147754669, 0.10251890122890472, 0.10598816722631454, 0.6683998107910156, 0.000974514230620116, 0.0001559222728246823, 0.00042878626845777035, 0.9963449239730835, 0.02030317671597004, 0.00951711367815733, 0.9694766998291016, 0.02468385174870491, 0.9748430252075195, 0.9980893731117249, 0.9975112676620483, 0.9989416599273682, 0.001070206519216299, 0.9264420866966248, 0.03924090415239334, 0.023901278153061867, 0.008918387815356255, 0.10371099412441254, 0.03533734381198883, 0.7552329897880554, 0.002301036147400737, 0.048486120998859406, 0.03418682515621185, 0.010847742669284344, 0.009697224013507366, 0.8705148696899414, 0.11105881631374359, 0.01413173507899046, 0.0041563925333321095, 0.030860019847750664, 0.003377134446054697, 0.9656274914741516, 0.9982470273971558, 0.9995648264884949, 0.07382982224225998, 0.5921151638031006, 0.023424187675118446, 0.02409536764025688, 0.004564025439321995, 0.1369207501411438, 0.07731995731592178, 0.04409653693437576, 0.023625541478395462, 0.013119452632963657, 0.01849990151822567, 0.6597315669059753, 0.0006633430602960289, 0.012824633158743382, 0.08284418284893036, 0.10097555816173553, 0.11136793345212936, 0.020252253860235214, 0.0446043536067009, 0.6443674564361572, 0.0028649528976529837, 0.01995587907731533, 0.02924227900803089, 0.07883560657501221, 0.018770381808280945, 0.14018511772155762, 0.0009879148565232754, 0.012990704737603664, 0.8261334896087646, 0.0035771504044532776, 0.01694439724087715, 0.02993510104715824, 0.0753084346652031, 0.029182016849517822, 0.005648132413625717, 0.9672520756721497, 0.03216903656721115, 0.2585179805755615, 0.01948426105082035, 0.0066956221126019955, 0.02765291929244995, 0.019417304545640945, 0.5257402658462524, 0.05456932261586189, 0.039771996438503265, 0.04814152419567108, 0.0032575882505625486, 0.5892646908760071, 0.024252530187368393, 0.31932976841926575, 0.04108579456806183, 0.01515424344688654, 0.007634524255990982, 0.8211851716041565, 0.11675428599119186, 0.015720775350928307, 0.011314952746033669, 0.03494618088006973, 0.9999014735221863, 0.9988455176353455, 0.9984419941902161, 0.02101047709584236, 0.9781544208526611, 0.06013214588165283, 0.09647388011217117, 0.1463395655155182, 0.031324293464422226, 0.07570938020944595, 0.002794330706819892, 0.33632317185401917, 0.11853519827127457, 0.06320436298847198, 0.06914810836315155, 0.0014144006418064237, 0.2694433331489563, 0.02015521004796028, 0.7089683413505554, 0.0013172088656574488, 0.1400432586669922, 0.06795600801706314, 0.002933783456683159, 0.024847349151968956, 0.0026344177313148975, 0.5161662697792053, 0.21147190034389496, 0.011555514298379421, 0.02107534185051918, 0.12973107397556305, 0.07004235684871674, 0.037687238305807114, 0.035254135727882385, 0.5535054802894592, 0.10954148322343826, 0.023761598393321037, 0.040430955588817596, 0.9983727335929871, 0.010859580710530281, 0.06732939928770065, 0.10363142937421799, 0.8178815841674805, 0.008506366983056068, 0.026512358337640762, 0.03262471780180931, 0.24663369357585907, 0.015153557993471622, 0.5349587798118591, 0.1178411915898323, 0.017445692792534828, 0.00030561795574612916, 0.017156394198536873, 0.0015596722951158881, 0.9810338616371155, 0.00640140613541007, 0.003923442680388689, 0.9897399544715881, 0.009738587774336338, 0.6326501965522766, 0.03422827273607254, 0.14973078668117523, 0.08449657261371613, 0.08907943964004517, 0.8892033100128174, 0.06514620035886765, 0.045517731457948685, 0.00016921090718824416, 0.1267242431640625, 0.05643836408853531, 0.04176194965839386, 0.04632090404629707, 0.17840860784053802, 0.12221404165029526, 0.29455217719078064, 0.07708773016929626, 0.029206547886133194, 0.02730495296418667, 0.16196183860301971, 0.027758602052927017, 0.070796899497509, 0.05657299607992172, 0.03924036771059036, 0.39733073115348816, 0.1463155448436737, 0.061074789613485336, 0.008079761639237404, 0.0308526661247015, 0.9787826538085938, 0.01812560483813286, 0.0013942772056907415, 0.2712721824645996, 0.005844836123287678, 0.03686348348855972, 0.15206827223300934, 0.025481434538960457, 0.07993070036172867, 0.3391030430793762, 0.08080229163169861, 0.008664713241159916, 0.9974663257598877, 0.9963892698287964, 0.004976527765393257, 0.9471990466117859, 0.04113929346203804, 0.006303601432591677, 0.009964914061129093, 0.9865265488624573, 0.20352832973003387, 0.035521723330020905, 0.00734439492225647, 0.31126517057418823, 0.08247441053390503, 0.07744478434324265, 0.004801005125045776, 0.12682655453681946, 0.05806929990649223, 0.09276227653026581, 0.053935226052999496, 0.9457927346229553, 0.09145107120275497, 0.30235087871551514, 0.06560707092285156, 0.023291505873203278, 0.040999431163072586, 0.09918831288814545, 0.10943817347288132, 0.05962466076016426, 0.05224635824561119, 0.15578189492225647, 0.9971572756767273, 0.14240127801895142, 0.05702310428023338, 0.3902108073234558, 0.02136540785431862, 0.0568561851978302, 0.2500002980232239, 0.00273326993919909, 0.011329508386552334, 0.02514190971851349, 0.04293946176767349, 0.9490550756454468, 0.015334822237491608, 0.03578125312924385, 0.9878709316253662, 0.01161150261759758, 0.9995480179786682, 0.9983277916908264, 0.9950927495956421, 0.9925533533096313, 0.018036779016256332, 0.4335824251174927, 0.4570613205432892, 0.06849311292171478, 0.011506221257150173, 0.011272987350821495, 0.07025010883808136, 0.0781746655702591, 0.00749620096758008, 0.013814426958560944, 0.00042835433850996196, 0.016170376911759377, 0.3935505449771881, 0.33807864785194397, 0.08202985674142838, 0.04782917723059654, 0.9516779780387878, 0.02741084061563015, 0.963117241859436, 0.008721631020307541, 0.9957477450370789, 0.03465656936168671, 0.02673506736755371, 0.010892064310610294, 0.9185640811920166, 0.00858162622898817, 0.0742134153842926, 0.0028914317954331636, 0.9223667979240417, 0.9987073540687561, 0.998362123966217, 0.15145717561244965, 0.016554873436689377, 0.43687477707862854, 0.05143965035676956, 0.02738618105649948, 0.17388050258159637, 0.0004709263739641756, 0.07197928428649902, 0.03300107270479202, 0.03698583319783211, 0.1527833342552185, 0.0491224005818367, 0.16379664838314056, 0.058913689106702805, 0.0795975998044014, 0.060980573296546936, 0.1830020546913147, 0.12547634541988373, 0.0584460012614727, 0.0678752064704895, 0.1831713765859604, 0.007340672425925732, 0.237060546875, 0.5691180229187012, 0.0031953516881912947, 0.09843385964632034, 0.031891342252492905, 0.8696523904800415, 0.24055947363376617, 0.040933672338724136, 0.06881602853536606, 0.0582517609000206, 0.06753827631473541, 0.07166814804077148, 0.0815022736787796, 0.12195678800344467, 0.03475026786327362, 0.21402332186698914, 0.9981813430786133, 0.005290057510137558, 0.9927675127983093, 0.9941932559013367, 0.9978757500648499, 0.9973660111427307, 0.0425029918551445, 0.01571725122630596, 0.006419722456485033, 0.7316269874572754, 0.18661469221115112, 0.014610403217375278, 0.0024350672028958797, 0.17362245917320251, 0.007362412288784981, 0.34160661697387695, 0.07867995649576187, 0.07756161689758301, 0.0006057681166566908, 0.05813043937087059, 0.1297275722026825, 0.06246400997042656, 0.07026910036802292, 0.03320561349391937, 0.05472777038812637, 0.016910266131162643, 0.0451965294778347, 0.013528212904930115, 0.8362895250320435, 0.14335380494594574, 0.05104263871908188, 0.05212865397334099, 0.07955049723386765, 0.6738714575767517, 0.9974434971809387, 0.10534434765577316, 0.09371110051870346, 0.19463315606117249, 0.03472284600138664, 0.15136747062206268, 0.11962056905031204, 0.15831828117370605, 0.046168792992830276, 0.08766555786132812, 0.008449191227555275, 0.003771628951653838, 0.003771628951653838, 0.8993620872497559, 0.05760306119918823, 0.03565903753042221, 0.9975107312202454, 0.996856689453125, 0.003153500845655799, 0.9989029765129089, 0.9974632859230042, 0.11660982668399811, 0.016830284148454666, 0.48914170265197754, 0.017662551254034042, 0.02991536818444729, 0.05497584491968155, 0.10939684510231018, 0.08909878879785538, 0.06121784821152687, 0.015119513496756554, 0.9990507364273071, 0.9997203350067139, 0.9978784322738647, 0.9943618774414062, 0.0019363017054274678, 0.022129161283373833, 0.005255675874650478, 0.009266586974263191, 0.8716123700141907, 0.0024895307142287493, 0.057881589978933334, 0.02932113967835903, 0.0004683735314756632, 0.006147402338683605, 0.004625188652426004, 0.9685964584350586, 0.0002341867657378316, 0.011299511417746544, 0.006615776102989912, 0.0019905874505639076, 0.9981368184089661, 0.9968414306640625, 0.04793696850538254, 0.06029081344604492, 0.07605715841054916, 0.021679984405636787, 0.06772337108850479, 0.0009822319261729717, 0.5590215921401978, 0.03661598637700081, 0.057556767016649246, 0.07212822884321213, 0.008917218074202538, 0.726257860660553, 0.0064402129501104355, 0.08520897477865219, 0.0008669517701491714, 0.06923229247331619, 0.04421453922986984, 0.009164918214082718, 0.04978780075907707, 0.0013985688565298915, 0.047900982201099396, 0.8957833051681519, 0.051747046411037445, 0.0031467797234654427, 0.00492376834154129, 0.9899119138717651, 0.00492376834154129, 0.9989328980445862, 0.9056096076965332, 0.023903224617242813, 7.332277891691774e-05, 0.0351216085255146, 0.035268254578113556, 0.9928297996520996, 0.006889335345476866, 0.006547099910676479, 0.012789683416485786, 0.23409688472747803, 0.006623229011893272, 0.34014469385147095, 0.14251361787319183, 0.1476142704486847, 0.06021809205412865, 0.001370323239825666, 0.047961313277482986, 0.9968108534812927, 0.2831241190433502, 0.09702809900045395, 0.006131487432867289, 0.02162156067788601, 0.0005378497298806906, 0.528491199016571, 0.0630359947681427, 0.9029116630554199, 0.004098820965737104, 0.09280901402235031, 0.0006171956192702055, 0.09979414939880371, 0.137868732213974, 0.05148262903094292, 0.17526227235794067, 0.47487881779670715, 0.00010641304106684402, 0.026135042309761047, 0.03383934497833252, 0.04675869643688202, 0.7347133755683899, 0.01126529648900032, 0.07484477758407593, 0.01064801961183548, 0.08641871064901352, 0.0245367418974638, 0.0109566580504179, 0.9997039437294006, 0.9830724000930786, 0.013709787279367447, 0.0032258322462439537, 0.17562028765678406, 0.03400936722755432, 0.08451157063245773, 0.02826531045138836, 0.04737425222992897, 0.5591640472412109, 0.006426519248634577, 0.01603786274790764, 0.018369607627391815, 0.030142081901431084, 0.9985600709915161, 0.9994958639144897, 0.9995797872543335, 0.9288777112960815, 0.07070668786764145, 0.998162567615509, 0.009116805158555508, 0.900827169418335, 0.036033086478710175, 0.0026048014406114817, 0.0516618974506855, 0.9870991706848145, 0.01084724348038435, 0.10731253772974014, 0.8924480080604553, 0.9958836436271667, 0.018200011923909187, 0.9046476483345032, 0.02355295605957508, 0.04951474070549011, 0.003747061360627413, 0.011342678219079971, 0.005671339109539986, 0.9641276597976685, 0.018634401261806488, 0.3361060321331024, 0.016174927353858948, 0.1346154808998108, 0.08891934901475906, 0.06373516470193863, 0.04011067375540733, 0.2624278664588928, 0.03978915885090828, 0.01335312332957983, 0.004771415609866381, 0.5945615768432617, 0.020521385595202446, 0.06773821264505386, 0.031252484768629074, 0.012906717136502266, 0.1729617714881897, 0.0067914617247879505, 0.06182876229286194, 0.024755025282502174, 0.00673266127705574, 0.07225377857685089, 0.08577118813991547, 0.037420451641082764, 0.010039029642939568, 0.08034937083721161, 0.6220360994338989, 0.02837170846760273, 0.012131009250879288, 0.05163106322288513, 0.058238785713911057, 0.051783181726932526, 0.08585955947637558, 0.0001383344060741365, 0.0572243332862854, 4.611146869137883e-05, 0.5164945721626282, 0.1021830141544342, 0.06354160606861115, 0.06446383893489838, 0.003999851178377867, 0.9839634299278259, 0.011332911439239979, 0.003938653971999884, 0.9945101141929626, 0.024467334151268005, 0.9751980304718018, 0.029835598543286324, 0.7750839591026306, 0.016361456364393234, 0.1786927729845047, 0.12391921877861023, 0.0006542725604958832, 0.05639829486608505, 0.0011776905739679933, 0.004841616842895746, 0.11606795340776443, 0.002617090241983533, 0.17102684080600739, 0.02119843102991581, 0.501957893371582, 0.004369815345853567, 0.1646874099969864, 0.001966416835784912, 0.006063118577003479, 0.0004369815287645906, 0.0008193403482437134, 0.7855835556983948, 0.00010924538219114766, 0.03594173118472099, 0.17042343318462372, 0.11810740828514099, 0.060590703040361404, 0.08019471913576126, 0.07731404900550842, 0.13463741540908813, 0.007076004520058632, 0.0795760527253151, 0.16763943433761597, 0.1044773980975151, 0.06892932206392288, 0.9276820421218872, 0.0031600836664438248, 0.056684356182813644, 0.015207997523248196, 0.9276878833770752, 0.13916705548763275, 0.05377911403775215, 0.10261843353509903, 0.01714227721095085, 0.06736356019973755, 0.34663859009742737, 0.18800638616085052, 0.00029403562075458467, 0.08497629314661026, 0.00815224926918745, 0.013043598271906376, 0.9404434561729431, 0.025761106982827187, 0.0006521799368783832, 0.012065328657627106, 0.011607731692492962, 0.9866572022438049, 0.023430563509464264, 0.013667828403413296, 0.9626056551933289, 0.9995481967926025, 0.9995026588439941, 0.10694942623376846, 0.8056856989860535, 0.028195757418870926, 0.022362152114510536, 0.013287656009197235, 0.02333441935479641, 0.02109088934957981, 0.004017312079668045, 0.9621462225914001, 0.012654532678425312, 0.10076041519641876, 0.002164098434150219, 0.005972911603748798, 0.0061460393480956554, 0.005626655649393797, 0.735274076461792, 0.019823141396045685, 0.01757247932255268, 0.10656020045280457, 0.9993645548820496, 0.998345136642456, 0.11570674180984497, 0.02738681435585022, 0.18223939836025238, 0.06358017027378082, 0.06632903218269348, 0.4370691180229187, 0.053501006215810776, 0.004479627590626478, 0.02224542386829853, 0.027488622814416885, 0.9953280687332153, 0.0041214413940906525, 0.998363733291626, 0.33483028411865234, 0.6401747465133667, 0.0249176025390625, 0.05190270394086838, 0.9474602341651917, 0.019645022228360176, 0.014853552915155888, 0.005510189104825258, 0.8157475590705872, 0.13775472342967987, 0.001437440630979836, 0.005031042266637087, 0.9883908033370972, 0.011477317661046982, 0.9568867087364197, 0.043098874390125275, 0.9997567534446716, 0.9110769033432007, 0.03889854624867439, 0.02674275077879429, 0.023096011951565742, 0.07321871072053909, 0.05032734200358391, 0.0010099132778123021, 0.005217885132879019, 0.2772211730480194, 0.5643731951713562, 0.028614208102226257, 0.9988086819648743, 0.9989988207817078, 0.9994587302207947, 0.577127993106842, 0.020786253735423088, 0.09237982332706451, 0.014661449939012527, 0.14591632783412933, 3.173474033246748e-05, 0.039065465331077576, 0.1099926084280014, 0.5819066762924194, 0.0032813053112477064, 0.0007000117911957204, 0.02699420414865017, 0.022115997970104218, 0.21995683014392853, 0.017850300297141075, 0.12718339264392853, 0.003546775784343481, 0.07395027577877045, 0.0325416661798954, 0.050364214926958084, 0.6596116423606873, 0.17778213322162628, 0.002128065563738346, 0.028182316571474075, 0.11947374790906906, 0.026255320757627487, 0.05853250250220299, 0.7443022131919861, 0.023123951628804207, 0.07774780690670013, 0.034836556762456894, 0.04129631444811821, 0.7850913405418396, 0.05813782662153244, 0.00276846787892282, 0.014139179140329361, 0.07928039878606796, 0.002524853451177478, 0.9033925533294678, 0.14950622618198395, 0.021746359765529633, 0.027496598660945892, 0.01756436750292778, 0.013277824968099594, 0.612975537776947, 0.09294477850198746, 0.008468533866107464, 0.01139592844992876, 0.04464276507496834, 0.021350793540477753, 0.9429934024810791, 0.033805426210165024, 0.055623166263103485, 0.004556163679808378, 0.8244758248329163, 0.002467922167852521, 0.007403766270726919, 0.04802956059575081, 0.015566892921924591, 0.04157499596476555, 0.562070906162262, 0.0006865512114018202, 0.044668737798929214, 0.3174441158771515, 0.07513444870710373, 0.9942249655723572, 0.09473763406276703, 0.8926615715026855, 0.012158840894699097, 0.9996742606163025, 0.21133644878864288, 0.6605857014656067, 0.12796686589717865, 0.9958015084266663, 0.012736912816762924, 0.9339255094528198, 0.053357336670160294, 0.03491952270269394, 0.025574861094355583, 0.011926738545298576, 0.0336899608373642, 0.4581342935562134, 0.4356333315372467, 0.9992079138755798, 0.9955974221229553, 0.3963746130466461, 0.052830975502729416, 0.31510597467422485, 0.008058708161115646, 0.15823079645633698, 0.022730650380253792, 0.005534744821488857, 0.0411323681473732, 0.9998804926872253, 0.9996419548988342, 0.015178387053310871, 0.5835246443748474, 0.0011805412359535694, 0.11232006549835205, 0.07319355756044388, 0.21452119946479797, 0.9168460965156555, 0.0001556086353957653, 0.020229123532772064, 0.0019451079424470663, 0.039913617074489594, 0.010347974486649036, 0.00723580177873373, 0.003345585661008954, 0.8692087531089783, 0.04004376754164696, 0.031477190554142, 0.05916914716362953, 0.9981256723403931, 0.9975321888923645, 0.9963701367378235, 0.9993135929107666, 0.069920115172863, 0.9293265342712402, 0.998195230960846, 0.9994593262672424, 0.012987232767045498, 0.9837828874588013, 0.08011814951896667, 0.9189552068710327, 0.9995507001876831, 0.18895956873893738, 0.0017076637595891953, 0.13415013253688812, 0.12557896971702576, 0.07375793904066086, 0.06863494962453842, 0.37821468710899353, 0.028997445479035378, 0.019969606772065163, 0.9416437745094299, 0.030722472816705704, 0.007680618204176426, 0.999011218547821, 0.008835895918309689, 0.004757789894938469, 0.004078105557709932, 0.9678704142570496, 0.010874948464334011, 0.003624982899054885, 0.004288479685783386, 0.9949273467063904, 0.06677984446287155, 0.9330554008483887, 0.09618890285491943, 0.39343899488449097, 5.168667485122569e-05, 0.3846522569656372, 0.09215734153985977, 0.016281303018331528, 0.0032562606502324343, 0.014007089659571648, 0.9993487000465393, 0.016869179904460907, 0.8437319397926331, 0.1393754482269287, 0.9965746998786926, 0.4891473352909088, 0.44850900769233704, 0.038959063589572906, 0.023365842178463936, 0.9990108609199524, 0.982515811920166, 0.016255633905529976, 0.0011611166410148144, 0.9992460608482361, 0.01511881873011589, 0.0007753240060992539, 0.983886182308197, 0.9996819496154785, 0.9993798732757568, 0.0659547671675682, 0.0029531982727348804, 0.04282137751579285, 0.06792356073856354, 0.8200047612190247, 0.9988803267478943, 0.998350203037262, 0.05489389970898628, 0.004825837444514036, 0.09930668026208878, 0.6479440927505493, 0.0009802482090890408, 0.13904443383216858, 0.0364953950047493, 0.00037701852852478623, 0.015985585749149323, 0.00022621112293563783, 0.9993426203727722, 0.998857855796814, 0.033436741679906845, 0.02212725579738617, 0.04425451159477234, 0.8501783013343811, 0.017701804637908936, 0.03146987408399582, 0.9914917349815369, 0.005698494613170624, 0.002733424073085189, 0.9801504611968994, 0.019663512706756592, 0.9971944093704224, 0.991587221622467, 0.024164950475096703, 0.0017260678578168154, 0.01294550858438015, 0.027617085725069046, 0.9338027238845825, 0.9984174370765686, 0.21976959705352783, 0.058482035994529724, 0.11541587114334106, 0.09566383063793182, 0.062377508729696274, 0.06346374750137329, 0.10072045028209686, 0.1716005802154541, 0.04266292229294777, 0.0698438361287117, 0.05358807370066643, 0.022078579291701317, 0.19492997229099274, 0.04610669985413551, 0.11760620772838593, 0.17060941457748413, 0.28207457065582275, 0.04596048593521118, 0.009284700267016888, 0.05773085355758667, 0.13945293426513672, 0.07484998553991318, 0.15151649713516235, 0.06944700330495834, 0.04855700954794884, 0.27510979771614075, 0.12527009844779968, 0.05405315011739731, 0.035142697393894196, 0.026642311364412308, 0.7164301872253418, 0.03184986859560013, 0.0030403488781303167, 0.005903590004891157, 0.21247020363807678, 0.010006585158407688, 0.02027883194386959, 0.0005934042274020612, 0.009197765961289406, 0.990206241607666, 0.9999530911445618, 0.18543332815170288, 0.08438065648078918, 0.08297860622406006, 0.04787960648536682, 0.06602998822927475, 0.21368421614170074, 0.09845840930938721, 0.10755743831396103, 0.04211879521608353, 0.071476049721241, 0.0013527333503589034, 0.9983171820640564, 0.0009280338999815285, 0.026912981644272804, 0.02041674591600895, 0.9363861680030823, 0.014848542399704456, 0.9989726543426514, 0.9982510805130005, 0.999762773513794], \"Term\": [\"012(b)(6\", \"041(e)(2\", \"059(e\", \"060(b\", \"060(b)(1\", \"060(b)(6\", \"2000-nmsc-018\", \"2001-nmsc-034\", \"2009-nmsc-038\", \"201(a)(2\", \"201(d\", \"2011-nmsc-009\", \"32a-2\", \"32a-4\", \"32a-5\", \"404(b\", \"40a-16\", \"40a-29\", \"59a-16\", \"a.l.r.\", \"a.l.r.\", \"a.l.r.\", \"a.l.r.\", \"a.l.r.\", \"a.l.r.\", \"a.l.r.\", \"abuse\", \"abuse\", \"abuse\", \"abuse\", \"abuse\", \"abuse\", \"abuse\", \"abuse\", \"abut\", \"accident\", \"accident\", \"accident\", \"accident\", \"accident\", \"accidental\", \"accidental\", \"accidental\", \"accidental\", \"accomplice\", \"account\", \"account\", \"account\", \"account\", \"account\", \"account\", \"account\", \"account\", \"account\", \"account\", \"accused\", \"accused\", \"accused\", \"accused\", \"acequias\", \"acoma\", \"acquit\", \"acquit\", \"acquittal\", \"action\", \"action\", \"action\", \"action\", \"action\", \"action\", \"action\", \"action\", \"action\", \"action\", \"adoption\", \"adoption\", \"adoption\", \"adoption\", \"adoption\", \"adoption\", \"adoption\", \"adoption\", \"adoption\", \"adoptive\", \"adult\", \"adult\", \"adult\", \"adult\", \"adult\", \"affordable\", \"aforesaid\", \"aforesaid\", \"aforesaid\", \"aforesaid\", \"afscme\", \"aggravate\", \"aggravate\", \"aggravate\", \"aggravate\", \"aggrieve\", \"aggrieve\", \"aggrieve\", \"aggrieve\", \"agree\", \"agree\", \"agree\", \"agree\", \"agree\", \"agree\", \"agree\", \"agree\", \"agree\", \"agree\", \"agreement\", \"agreement\", \"agreement\", \"agreement\", \"agreement\", \"agreement\", \"agreement\", \"agreement\", \"ailment\", \"akins\", \"alcohol\", \"alcohol\", \"alcohol\", \"alibi\", \"alimony\", \"allege\", \"allege\", \"allege\", \"allege\", \"allege\", \"allege\", \"allege\", \"allege\", \"allege\", \"allege\", \"allstate\", \"allstate\", \"amenability\", \"amendment\", \"amendment\", \"amendment\", \"amendment\", \"amendment\", \"amendment\", \"amendment\", \"amendment\", \"amendment\", \"amendment\", \"amount\", \"amount\", \"amount\", \"amount\", \"amount\", \"amount\", \"amount\", \"amount\", \"amount\", \"amount\", \"amphetamine\", \"anima\", \"annexation\", \"answer\", \"answer\", \"answer\", \"answer\", \"answer\", \"answer\", \"answer\", \"answer\", \"answer\", \"answer\", \"antibiotic\", \"antitrust\", \"appeal\", \"appeal\", \"appeal\", \"appeal\", \"appeal\", \"appeal\", \"appeal\", \"appeal\", \"appeal\", \"appeal\", \"appealable\", \"appear\", \"appear\", \"appear\", \"appear\", \"appear\", \"appear\", \"appear\", \"appear\", \"appear\", \"appear\", \"appellant\", \"appellant\", \"appellant\", \"appellant\", \"appellant\", \"appellate\", \"appellate\", \"appellate\", \"appellate\", \"appellate\", \"appellate\", \"appellate\", \"appellate\", \"appellate\", \"appellate\", \"appellee\", \"appellee\", \"appellee\", \"appellee\", \"appellees\", \"appellees\", \"appellees\", \"appellees\", \"application\", \"application\", \"application\", \"application\", \"application\", \"application\", \"application\", \"application\", \"application\", \"application\", \"apply\", \"apply\", \"apply\", \"apply\", \"apply\", \"apply\", \"apply\", \"apply\", \"apply\", \"apply\", \"appointee\", \"apprendi\", \"appropriator\", \"appurtenant\", \"aquifer\", \"arbitrate\", \"arbitration\", \"arbitrator\", \"arbitrator\", \"argue\", \"argue\", \"argue\", \"argue\", \"argue\", \"argue\", \"argue\", \"argue\", \"argue\", \"argue\", \"arrest\", \"arrest\", \"arrest\", \"arrest\", \"arrest\", \"arrestee\", \"artesian\", \"article\", \"article\", \"article\", \"article\", \"article\", \"article\", \"article\", \"article\", \"articulable\", \"articulable\", \"assault\", \"assault\", \"assault\", \"assault\", \"assault\", \"assessment\", \"assessment\", \"assessment\", \"assessment\", \"assessment\", \"assessment\", \"assessment\", \"assessment\", \"assessment\", \"assessor\", \"assessor\", \"assets\", \"assets\", \"assets\", \"assignee\", \"assumpsit\", \"attorney\", \"attorney\", \"attorney\", \"attorney\", \"attorney\", \"attorney\", \"attorney\", \"attorney\", \"authority\", \"authority\", \"authority\", \"authority\", \"authority\", \"authority\", \"authority\", \"authority\", \"authority\", \"authority\", \"award\", \"award\", \"award\", \"award\", \"award\", \"award\", \"ballot\", \"bankrupt\", \"bargaining\", \"bargaining\", \"bargaining\", \"basin\", \"basin\", \"basin\", \"battery\", \"battery\", \"battery\", \"battery\", \"benefit\", \"benefit\", \"benefit\", \"benefit\", \"benefit\", \"benefit\", \"benefit\", \"benefit\", \"benefit\", \"benzene\", \"bequest\", \"bickley\", \"biological\", \"biological\", \"blockburger\", \"bloodshot\", \"blueher\", \"board\", \"board\", \"board\", \"board\", \"board\", \"board\", \"bookseller\", \"boundary\", \"boundary\", \"boundary\", \"boundary\", \"brakes\", \"brand\", \"brand\", \"brand\", \"brand\", \"bratton\", \"breach\", \"breach\", \"breach\", \"breach\", \"breach\", \"breach\", \"breath\", \"breath\", \"breath\", \"breath\", \"breath\", \"breen\", \"brice\", \"broker\", \"broker\", \"broker\", \"bullcoming\", \"business\", \"business\", \"business\", \"business\", \"business\", \"business\", \"business\", \"business\", \"business\", \"c.c.a.\", \"calf\", \"calibration\", \"candidate\", \"candidate\", \"canvassing\", \"caregiver\", \"cartel\", \"cartel\", \"case\", \"case\", \"case\", \"case\", \"case\", \"case\", \"case\", \"case\", \"case\", \"case\", \"cattle\", \"cattle\", \"cattle\", \"cattle\", \"causal\", \"causal\", \"causal\", \"causal\", \"causation\", \"causation\", \"causation\", \"cause\", \"cause\", \"cause\", \"cause\", \"cause\", \"cause\", \"cause\", \"cause\", \"cause\", \"certiorari\", \"certiorari\", \"certiorari\", \"certiorari\", \"certiorari\", \"certiorari\", \"certiorari\", \"certiorari\", \"cervical\", \"charge\", \"charge\", \"charge\", \"charge\", \"charge\", \"charge\", \"charge\", \"charge\", \"charge\", \"charley\", \"chatterjee\", \"check\", \"check\", \"check\", \"check\", \"check\", \"check\", \"check\", \"check\", \"check\", \"checkpoint\", \"cherryhomes\", \"chevron\", \"child\", \"child\", \"circumstances\", \"circumstances\", \"circumstances\", \"circumstances\", \"circumstances\", \"circumstances\", \"circumstances\", \"circumstances\", \"circumstances\", \"circumstances\", \"claim\", \"claim\", \"claim\", \"claim\", \"claim\", \"claim\", \"claim\", \"claim\", \"claim\", \"claim\", \"claimant\", \"claimant\", \"claimant\", \"claimant\", \"claimant\", \"claimant\", \"claimant\", \"class\", \"class\", \"class\", \"class\", \"class\", \"class\", \"class\", \"client\", \"client\", \"client\", \"client\", \"client\", \"client\", \"clinesmith\", \"clower\", \"codicil\", \"comity\", \"commission\", \"commission\", \"commission\", \"commission\", \"commission\", \"commission\", \"commission\", \"commissioner\", \"commissioner\", \"commissioner\", \"commissioner\", \"commissioner\", \"commit\", \"commit\", \"commit\", \"commit\", \"commit\", \"commit\", \"commit\", \"commit\", \"community\", \"community\", \"community\", \"community\", \"community\", \"community\", \"community\", \"company\", \"company\", \"company\", \"company\", \"company\", \"compartment\", \"compensable\", \"compensable\", \"compensable\", \"compensation\", \"compensation\", \"compensation\", \"compensation\", \"compensation\", \"compensation\", \"compensatory\", \"compensatory\", \"complainant\", \"complainant\", \"complainant\", \"complainant\", \"complainant\", \"complainant\", \"complaint\", \"complaint\", \"complaint\", \"complaint\", \"complaint\", \"complaint\", \"complaint\", \"compton\", \"compton\", \"compton\", \"compton\", \"compton\", \"compton\", \"conclude\", \"conclude\", \"conclude\", \"conclude\", \"conclude\", \"conclude\", \"conclude\", \"conclude\", \"conclude\", \"conclude\", \"condemnation\", \"condemnation\", \"condemnation\", \"condemnation\", \"condition\", \"condition\", \"condition\", \"condition\", \"condition\", \"condition\", \"condition\", \"condition\", \"condition\", \"condition\", \"conduct\", \"conduct\", \"conduct\", \"conduct\", \"conduct\", \"conduct\", \"conduct\", \"conduct\", \"conduct\", \"conduct\", \"confrontation\", \"confrontation\", \"confrontation\", \"congress\", \"congress\", \"congress\", \"consent\", \"consent\", \"consent\", \"consent\", \"consent\", \"consent\", \"consent\", \"consent\", \"consent\", \"consortium\", \"constitution\", \"constitution\", \"constitution\", \"constitution\", \"constitution\", \"constitutional\", \"constitutional\", \"constitutional\", \"constitutional\", \"constitutional\", \"constitutional\", \"consumptive\", \"contempt\", \"contempt\", \"contempt\", \"contraband\", \"contract\", \"contract\", \"contract\", \"contract\", \"contractor\", \"contractor\", \"contractor\", \"contractor\", \"contractual\", \"contractual\", \"contractual\", \"contractual\", \"conveyance\", \"conveyance\", \"conveyance\", \"conveyance\", \"convict\", \"convict\", \"convict\", \"conviction\", \"conviction\", \"conviction\", \"conviction\", \"conviction\", \"coram\", \"corp.\", \"corp.\", \"corp.\", \"corp.\", \"corp.\", \"corp.\", \"corp.\", \"cotenant\", \"could\", \"could\", \"could\", \"could\", \"could\", \"could\", \"could\", \"could\", \"could\", \"could\", \"counsel\", \"counsel\", \"counsel\", \"counsel\", \"counsel\", \"counsel\", \"counsel\", \"count\", \"count\", \"count\", \"count\", \"count\", \"count\", \"county\", \"county\", \"county\", \"county\", \"county\", \"county\", \"county\", \"court\", \"court\", \"court\", \"court\", \"court\", \"court\", \"court\", \"court\", \"court\", \"court\", \"coverage\", \"coverage\", \"creditor\", \"crime\", \"crime\", \"crime\", \"criminal\", \"criminal\", \"criminal\", \"criminal\", \"criminal\", \"crusher\", \"crutcher\", \"curtilage\", \"custody\", \"custody\", \"custody\", \"custody\", \"custody\", \"custody\", \"dahlgren\", \"damages\", \"damages\", \"deadline\", \"deadline\", \"deadline\", \"deadline\", \"deadline\", \"death\", \"death\", \"death\", \"death\", \"death\", \"death\", \"debt\", \"debt\", \"debtor\", \"deceased\", \"deceased\", \"deceased\", \"deceased\", \"decedent\", \"decedent\", \"decedent\", \"decedent\", \"decision\", \"decision\", \"decision\", \"decision\", \"decision\", \"decision\", \"decision\", \"decision\", \"decision\", \"decision\", \"dedman\", \"defamation\", \"defamation\", \"defamatory\", \"defendant\", \"defendant\", \"defendant\", \"defendant\", \"defendant\", \"defendant\", \"defendant\", \"defense\", \"defense\", \"defense\", \"defense\", \"defense\", \"defense\", \"degenerative\", \"degree\", \"degree\", \"degree\", \"degree\", \"degree\", \"degree\", \"degree\", \"degree\", \"delay\", \"delay\", \"delay\", \"delay\", \"delay\", \"delay\", \"delay\", \"democratic\", \"demur\", \"demurrer\", \"deny\", \"deny\", \"deny\", \"deny\", \"deny\", \"deny\", \"deny\", \"deny\", \"deny\", \"deny\", \"department\", \"department\", \"department\", \"department\", \"department\", \"department\", \"department\", \"department\", \"depositor\", \"deprave\", \"deputy\", \"deputy\", \"deputy\", \"deputy\", \"deputy\", \"derringer\", \"detention\", \"detention\", \"detention\", \"detention\", \"detention\", \"determine\", \"determine\", \"determine\", \"determine\", \"determine\", \"determine\", \"determine\", \"determine\", \"determine\", \"determine\", \"deutsche\", \"devaney\", \"devisee\", \"devon\", \"disability\", \"disability\", \"disability\", \"disabled\", \"disabled\", \"disabled\", \"disabled\", \"disabled\", \"disablement\", \"disciplinary\", \"discipline\", \"discipline\", \"discipline\", \"disease\", \"disease\", \"disease\", \"disease\", \"disease\", \"dismiss\", \"dismiss\", \"dismiss\", \"dismiss\", \"dismiss\", \"dismiss\", \"dismiss\", \"dismiss\", \"dismissal\", \"dismissal\", \"dismissal\", \"dismissal\", \"dismissal\", \"dismissal\", \"dispositional\", \"dispute\", \"dispute\", \"dispute\", \"dispute\", \"dispute\", \"dispute\", \"dispute\", \"dispute\", \"dispute\", \"dispute\", \"disqualification\", \"disqualification\", \"disqualification\", \"disqualification\", \"disqualify\", \"disqualify\", \"disqualify\", \"disqualify\", \"disqualify\", \"district\", \"district\", \"district\", \"district\", \"district\", \"district\", \"district\", \"district\", \"district\", \"ditch\", \"ditch\", \"ditch\", \"diversion\", \"diversion\", \"divorce\", \"divorce\", \"divorce\", \"docket\", \"docket\", \"docket\", \"docket\", \"docket\", \"docket\", \"docket\", \"docket\", \"doctor\", \"doctor\", \"doctor\", \"doctor\", \"downzoning\", \"drainage\", \"drainage\", \"driver\", \"driver\", \"driver\", \"driving\", \"driving\", \"driving\", \"driving\", \"drug\", \"drug\", \"drug\", \"drug\", \"drug\", \"easement\", \"efendant\", \"egress\", \"ejectment\", \"ejectment\", \"elane\", \"election\", \"election\", \"election\", \"elector\", \"eller\", \"email\", \"emancipate\", \"emancipation\", \"employee\", \"employee\", \"employee\", \"employee\", \"employee\", \"employee\", \"employee\", \"employer\", \"employer\", \"employment\", \"employment\", \"employment\", \"employment\", \"employment\", \"enact\", \"enact\", \"enact\", \"enact\", \"enact\", \"enact\", \"enact\", \"enactment\", \"enactment\", \"enactment\", \"enactment\", \"enactment\", \"encumbrance\", \"endangerment\", \"endangerment\", \"engineer\", \"engineer\", \"engineer\", \"engineer\", \"enter\", \"enter\", \"enter\", \"enter\", \"enter\", \"enter\", \"enter\", \"enter\", \"enter\", \"enter\", \"erisa\", \"error\", \"error\", \"error\", \"error\", \"error\", \"error\", \"error\", \"escrow\", \"escrow\", \"estate\", \"estate\", \"estate\", \"estate\", \"estate\", \"estate\", \"estate\", \"estate\", \"evidence\", \"evidence\", \"evidence\", \"evidence\", \"evidence\", \"evidence\", \"evidence\", \"evidence\", \"evidence\", \"execute\", \"execute\", \"execute\", \"execute\", \"execute\", \"execute\", \"execute\", \"executive\", \"executive\", \"executive\", \"executor\", \"executor\", \"executrix\", \"exigent\", \"expert\", \"expert\", \"expert\", \"expert\", \"expert\", \"expert\", \"eyeglass\", \"fact\", \"fact\", \"fact\", \"fact\", \"fact\", \"fact\", \"fact\", \"fact\", \"fact\", \"fact\", \"family\", \"family\", \"family\", \"family\", \"family\", \"family\", \"family\", \"family\", \"family\", \"father\", \"father\", \"father\", \"father\", \"felony\", \"felony\", \"felony\", \"ferri\", \"file\", \"file\", \"file\", \"file\", \"file\", \"file\", \"file\", \"file\", \"file\", \"file\", \"filing\", \"filing\", \"filing\", \"filing\", \"filing\", \"filing\", \"filing\", \"filing\", \"final\", \"final\", \"final\", \"final\", \"final\", \"final\", \"final\", \"final\", \"final\", \"finality\", \"finality\", \"finality\", \"finality\", \"fingerprint\", \"first\", \"first\", \"first\", \"first\", \"first\", \"first\", \"first\", \"first\", \"first\", \"first\", \"fleetwood\", \"flemma\", \"follow\", \"follow\", \"follow\", \"follow\", \"follow\", \"follow\", \"follow\", \"follow\", \"follow\", \"follow\", \"foreclosure\", \"foreclosure\", \"fourth\", \"fourth\", \"fourth\", \"fourth\", \"fourth\", \"fourth\", \"fourth\", \"fourth\", \"fourth\", \"fraud\", \"fraud\", \"fraud\", \"fraud\", \"fraud\", \"fraud\", \"fraud\", \"frezza\", \"frisk\", \"fumes\", \"furnish\", \"furnish\", \"furnish\", \"furnish\", \"furnish\", \"furnish\", \"furnish\", \"furnish\", \"furnish\", \"fusion\", \"gainful\", \"gaming\", \"gardu\\u00f1o\", \"general\", \"general\", \"general\", \"general\", \"general\", \"general\", \"general\", \"general\", \"general\", \"general\", \"genuine\", \"genuine\", \"genuine\", \"genuine\", \"genuine\", \"genuine\", \"genuine\", \"genuine\", \"geothermal\", \"gertz\", \"glucksberg\", \"government\", \"government\", \"government\", \"government\", \"government\", \"government\", \"government\", \"governor\", \"grand\", \"grand\", \"grand\", \"grand\", \"grandmother\", \"grandmother\", \"grandmother\", \"grandparent\", \"grant\", \"grant\", \"grant\", \"grant\", \"grant\", \"grant\", \"grant\", \"grant\", \"grant\", \"grant\", \"grantor\", \"grantor\", \"grantor\", \"granville\", \"gregoria\", \"gross\", \"gross\", \"gross\", \"gross\", \"gross\", \"gross\", \"gross\", \"gross\", \"ground\", \"ground\", \"ground\", \"ground\", \"ground\", \"ground\", \"ground\", \"ground\", \"ground\", \"ground\", \"groundwater\", \"guardian\", \"guardian\", \"guardian\", \"guardian\", \"guardianship\", \"guardianship\", \"guardianship\", \"guardianship\", \"guild\", \"guilt\", \"guilt\", \"guilty\", \"guilty\", \"guilty\", \"guilty\", \"guilty\", \"habitual\", \"habitual\", \"halliburton\", \"halliburton\", \"hanisee\", \"hanna\", \"hanna\", \"hanna\", \"health\", \"health\", \"health\", \"health\", \"health\", \"health\", \"hearing\", \"hearing\", \"hearing\", \"hearing\", \"hearing\", \"hearing\", \"hearing\", \"hearing\", \"hearsay\", \"hearsay\", \"hearsay\", \"hearsay\", \"hearsay\", \"heckathorn\", \"heinsen\", \"heir\", \"heir\", \"helena\", \"helena\", \"hernia\", \"highway\", \"highway\", \"highway\", \"highway\", \"highway\", \"highway\", \"homicide\", \"horse\", \"horse\", \"horse\", \"horse\", \"horse\", \"hospital\", \"hospital\", \"hospital\", \"hospital\", \"hospital\", \"hospital\", \"hudspeth\", \"hunch\", \"husband\", \"husband\", \"husband\", \"husband\", \"husband\", \"husband\", \"husband\", \"ignition\", \"ignition\", \"indemnification\", \"indemnitee\", \"indian\", \"indian\", \"indictment\", \"indictment\", \"indictment\", \"informant\", \"informant\", \"ingress\", \"injure\", \"injure\", \"injure\", \"injure\", \"injure\", \"injure\", \"injure\", \"injury\", \"injury\", \"injury\", \"injury\", \"injury\", \"injury\", \"innocence\", \"innocence\", \"insolvent\", \"instruction\", \"instruction\", \"instruction\", \"instruction\", \"instruction\", \"instrument\", \"instrument\", \"instrument\", \"instrument\", \"instrument\", \"instrument\", \"insurance\", \"insurance\", \"insurance\", \"insurance\", \"insurance\", \"insurance\", \"insured\", \"insurer\", \"insurer\", \"intent\", \"intent\", \"intent\", \"intent\", \"intent\", \"intent\", \"intent\", \"intent\", \"interest\", \"interest\", \"interest\", \"interest\", \"interest\", \"interest\", \"interest\", \"interest\", \"interest\", \"interest\", \"interlock\", \"interlocutory\", \"interlocutory\", \"interlocutory\", \"interlocutory\", \"internal\", \"internal\", \"internal\", \"internal\", \"internal\", \"internal\", \"internal\", \"internal\", \"internet\", \"interpose\", \"interpose\", \"interpose\", \"interpose\", \"interview\", \"interview\", \"interview\", \"interview\", \"interview\", \"intoxicate\", \"intoxicate\", \"intoxicate\", \"intoxilyzer\", \"intrastate\", \"investigatory\", \"investigatory\", \"irrigation\", \"irrigation\", \"irrigation\", \"issue\", \"issue\", \"issue\", \"issue\", \"issue\", \"issue\", \"issue\", \"issue\", \"issue\", \"issue\", \"jeopardy\", \"jeopardy\", \"jeopardy\", \"judge\", \"judge\", \"judge\", \"judge\", \"judge\", \"judge\", \"judge\", \"judge\", \"judge\", \"judge\", \"judgment\", \"judgment\", \"judgment\", \"judgment\", \"judgment\", \"judgment\", \"judgment\", \"judgment\", \"judgment\", \"judgment\", \"jurisdiction\", \"jurisdiction\", \"jurisdiction\", \"jurisdiction\", \"jurisdiction\", \"jurisdiction\", \"jurisdiction\", \"jurisdiction\", \"jurisdiction\", \"juror\", \"juvenile\", \"juvenile\", \"juvenile\", \"juvenile\", \"kehoe\", \"kidnapping\", \"kidnapping\", \"kidney\", \"kiker\", \"kiker\", \"killing\", \"killing\", \"kinship\", \"kmart\", \"l.r.a.,n.s.\", \"land\", \"land\", \"land\", \"land\", \"landfill\", \"landfill\", \"landowner\", \"landowner\", \"lane\", \"language\", \"language\", \"language\", \"language\", \"language\", \"language\", \"language\", \"language\", \"language\", \"language\", \"larceny\", \"larson\", \"larson\", \"larson\", \"larson\", \"larson\", \"lawsuit\", \"lawsuit\", \"lawsuit\", \"lawsuit\", \"lawsuit\", \"lawsuit\", \"lease\", \"lease\", \"lease\", \"lease\", \"legatee\", \"legislation\", \"legislation\", \"legislation\", \"legislation\", \"legislation\", \"legislative\", \"legislative\", \"legislative\", \"legislative\", \"legislative\", \"legislative\", \"legislator\", \"legislature\", \"legislature\", \"legislature\", \"legislature\", \"legislature\", \"legislature\", \"legislature\", \"leyva\", \"liability\", \"liability\", \"liability\", \"liability\", \"liability\", \"liability\", \"liability\", \"liability\", \"libel\", \"libel\", \"libelous\", \"license\", \"license\", \"license\", \"license\", \"license\", \"license\", \"license\", \"license\", \"lien\", \"lien\", \"lien\", \"liggett\", \"litem\", \"lookout\", \"loquitur\", \"lottery\", \"lumbar\", \"lupus\", \"lyster\", \"magistrate\", \"magistrate\", \"magistrate\", \"magistrate\", \"manslaughter\", \"marijuana\", \"marijuana\", \"marks\", \"marks\", \"marks\", \"marks\", \"marks\", \"marks\", \"marks\", \"matter\", \"matter\", \"matter\", \"matter\", \"matter\", \"matter\", \"matter\", \"matter\", \"matter\", \"matter\", \"mcfie\", \"mcghee\", \"mcghee\", \"mcghee\", \"median\", \"medical\", \"medical\", \"medical\", \"medical\", \"medically\", \"medically\", \"methamphetamine\", \"methamphetamine\", \"mexico\", \"mexico\", \"mexico\", \"mexico\", \"mexico\", \"mexico\", \"mexico\", \"mexico\", \"mexico\", \"mexico\", \"mineral\", \"mineral\", \"mineral\", \"mineral\", \"minor\", \"minor\", \"minor\", \"minor\", \"minor\", \"minor\", \"minor\", \"minor\", \"minor\", \"mistrial\", \"mistrial\", \"modifier\", \"modifier\", \"modifier\", \"moise\", \"moise\", \"moise\", \"moise\", \"moise\", \"money\", \"money\", \"money\", \"money\", \"money\", \"money\", \"money\", \"money\", \"moongate\", \"mortgage\", \"mortgage\", \"mortgagee\", \"mortgagor\", \"mother\", \"mother\", \"mother\", \"motion\", \"motion\", \"motion\", \"motion\", \"motion\", \"motion\", \"motion\", \"motor\", \"motor\", \"motor\", \"motor\", \"motor\", \"motor\", \"motor\", \"motor\", \"muqqddin\", \"murder\", \"muscle\", \"myelogram\", \"navigable\", \"neglect\", \"neglect\", \"neglect\", \"neglect\", \"neglect\", \"neglect\", \"negligence\", \"negligence\", \"negligence\", \"negligence\", \"negotiable\", \"neurosis\", \"nicole\", \"nmtca\", \"nobis\", \"notice\", \"notice\", \"notice\", \"notice\", \"notice\", \"notice\", \"notice\", \"notice\", \"notice\", \"notice\", \"nuisance\", \"nuisance\", \"nuisance\", \"offense\", \"offense\", \"offense\", \"office\", \"office\", \"office\", \"office\", \"office\", \"office\", \"office\", \"office\", \"office\", \"officer\", \"officer\", \"officer\", \"officer\", \"officer\", \"officer\", \"officer\", \"officer\", \"omit\", \"omit\", \"omit\", \"omit\", \"omit\", \"omit\", \"omit\", \"omit\", \"omit\", \"opinion\", \"opinion\", \"opinion\", \"opinion\", \"opinion\", \"opinion\", \"opinion\", \"opinion\", \"opinion\", \"opinion\", \"orator\", \"order\", \"order\", \"order\", \"order\", \"order\", \"order\", \"order\", \"order\", \"order\", \"order\", \"ordinance\", \"ordinance\", \"ordinance\", \"orthopedic\", \"overtime\", \"overtime\", \"owner\", \"owner\", \"owner\", \"owner\", \"owner\", \"paddock\", \"parallelism\", \"paredez\", \"parent\", \"parent\", \"parentage\", \"parental\", \"parker\", \"parker\", \"parker\", \"parker\", \"parker\", \"parker\", \"parole\", \"parole\", \"partisan\", \"partnership\", \"partnership\", \"partnership\", \"partnership\", \"party\", \"party\", \"party\", \"party\", \"party\", \"party\", \"party\", \"party\", \"party\", \"party\", \"passenger\", \"passenger\", \"passenger\", \"paternity\", \"patient\", \"patient\", \"patient\", \"patient\", \"patient\", \"patrol\", \"payday\", \"payee\", \"payment\", \"payment\", \"payment\", \"payment\", \"payment\", \"payment\", \"payment\", \"pellee\", \"pendens\", \"pending\", \"pending\", \"pending\", \"pending\", \"pending\", \"pending\", \"pending\", \"pending\", \"penetration\", \"permit\", \"permit\", \"permit\", \"permit\", \"permit\", \"permit\", \"permit\", \"permit\", \"permit\", \"permit\", \"person\", \"person\", \"person\", \"person\", \"person\", \"person\", \"person\", \"person\", \"person\", \"person\", \"petition\", \"petition\", \"petition\", \"petition\", \"petition\", \"petitioner\", \"petitioner\", \"petitioner\", \"petitioner\", \"photography\", \"physician\", \"physician\", \"physician\", \"physician\", \"physician\", \"placement\", \"placement\", \"placement\", \"placement\", \"placement\", \"placement\", \"plaintiff\", \"plaintiff\", \"plaintiff\", \"plaintiff\", \"plaintiff\", \"point\", \"point\", \"point\", \"point\", \"point\", \"point\", \"point\", \"point\", \"point\", \"point\", \"police\", \"police\", \"police\", \"police\", \"police\", \"policy\", \"policy\", \"policy\", \"policy\", \"policy\", \"policy\", \"policy\", \"policy\", \"policy\", \"policy\", \"political\", \"political\", \"political\", \"polygraph\", \"possession\", \"possession\", \"possession\", \"possession\", \"possession\", \"possession\", \"power\", \"power\", \"power\", \"power\", \"power\", \"power\", \"power\", \"power\", \"praecipe\", \"pray\", \"pray\", \"pray\", \"premium\", \"premium\", \"prescriptive\", \"presentence\", \"primetime\", \"privacy\", \"privacy\", \"privacy\", \"privacy\", \"privacy\", \"probable\", \"probable\", \"probable\", \"probable\", \"probable\", \"probable\", \"probable\", \"probable\", \"probate\", \"probate\", \"probate\", \"probate\", \"probation\", \"probation\", \"probation\", \"probationary\", \"probationer\", \"procedure\", \"procedure\", \"procedure\", \"procedure\", \"procedure\", \"procedure\", \"procedure\", \"procedure\", \"procedure\", \"proceeding\", \"proceeding\", \"proceeding\", \"proceeding\", \"proceeding\", \"proceeding\", \"proceeding\", \"proceeding\", \"proceedings\", \"proceedings\", \"proceedings\", \"proceedings\", \"proceedings\", \"proceedings\", \"proceedings\", \"proceedings\", \"proceedings\", \"proceedings\", \"proceeds\", \"proceeds\", \"proceeds\", \"proceeds\", \"proceeds\", \"proceeds\", \"proceeds\", \"proceeds\", \"promissory\", \"promissory\", \"proof\", \"proof\", \"proof\", \"proof\", \"proof\", \"proof\", \"proof\", \"proof\", \"proof\", \"property\", \"property\", \"property\", \"property\", \"property\", \"property\", \"property\", \"prosecution\", \"prosecution\", \"prosecution\", \"prosecution\", \"prosecution\", \"prosecutor\", \"prosecutorial\", \"prosecutrix\", \"protestant\", \"protestant\", \"provide\", \"provide\", \"provide\", \"provide\", \"provide\", \"provide\", \"provide\", \"provide\", \"provide\", \"provide\", \"provider\", \"provider\", \"provider\", \"provider\", \"provision\", \"provision\", \"provision\", \"provision\", \"provision\", \"provision\", \"provision\", \"provision\", \"provision\", \"provision\", \"provisions\", \"provisions\", \"provisions\", \"provisions\", \"provisions\", \"provisions\", \"provisions\", \"provisions\", \"provocation\", \"proximate\", \"proximate\", \"proximate\", \"proximate\", \"public\", \"public\", \"public\", \"public\", \"public\", \"public\", \"public\", \"public\", \"public\", \"pueblo\", \"pueblo\", \"pueblo\", \"punitive\", \"punitive\", \"punitive\", \"purchase\", \"purchase\", \"purchase\", \"purchase\", \"purchase\", \"purchase\", \"purchaser\", \"purchaser\", \"purchaser\", \"purchaser\", \"purpose\", \"purpose\", \"purpose\", \"purpose\", \"purpose\", \"purpose\", \"purpose\", \"purpose\", \"purpose\", \"purpose\", \"question\", \"question\", \"question\", \"question\", \"question\", \"question\", \"question\", \"question\", \"question\", \"question\", \"quitclaim\", \"quitclaim\", \"quitclaim\", \"quotation\", \"quotation\", \"quotation\", \"quotation\", \"quotation\", \"quotation\", \"quotation\", \"quotation\", \"quotation\", \"qwest\", \"r.c.l.\", \"rates\", \"rates\", \"rates\", \"rates\", \"raynolds\", \"raynolds\", \"reasonable\", \"reasonable\", \"reasonable\", \"reasonable\", \"reasonable\", \"reasonable\", \"reasonable\", \"reasonable\", \"reasonable\", \"reasonable\", \"receipts\", \"receipts\", \"receive\", \"receive\", \"receive\", \"receive\", \"receive\", \"receive\", \"receive\", \"receive\", \"receive\", \"receive\", \"reclamation\", \"record\", \"record\", \"record\", \"record\", \"record\", \"record\", \"record\", \"record\", \"record\", \"record\", \"recuse\", \"recuse\", \"recuse\", \"redeem\", \"redeem\", \"redemption\", \"redistricting\", \"refiled\", \"refiling\", \"regulation\", \"regulation\", \"regulation\", \"regulation\", \"regulation\", \"regulation\", \"relationship\", \"relationship\", \"relationship\", \"relationship\", \"relationship\", \"relationship\", \"relationship\", \"relationship\", \"relationship\", \"relator\", \"relator\", \"religious\", \"religious\", \"religious\", \"renewable\", \"repeal\", \"repeal\", \"repeal\", \"repeal\", \"repeal\", \"replevin\", \"replevin\", \"replevin\", \"republican\", \"repurchase\", \"request\", \"request\", \"request\", \"request\", \"request\", \"request\", \"request\", \"request\", \"request\", \"request\", \"require\", \"require\", \"require\", \"require\", \"require\", \"require\", \"require\", \"require\", \"require\", \"require\", \"respondent\", \"respondent\", \"respondent\", \"respondent\", \"respondent\", \"restatement\", \"restatement\", \"restatement\", \"result\", \"result\", \"result\", \"result\", \"result\", \"result\", \"result\", \"result\", \"result\", \"result\", \"retaliatory\", \"retardation\", \"retardation\", \"returnable\", \"reule\", \"reunification\", \"revenue\", \"revenue\", \"revenue\", \"revenue\", \"revenue\", \"revenue\", \"revenue\", \"review\", \"review\", \"review\", \"review\", \"review\", \"review\", \"review\", \"review\", \"review\", \"review\", \"revocation\", \"revocation\", \"revocation\", \"revocation\", \"revocation\", \"revocation\", \"revoke\", \"revoke\", \"revoke\", \"revoke\", \"revoke\", \"rezoning\", \"right\", \"right\", \"right\", \"right\", \"right\", \"right\", \"right\", \"right\", \"right\", \"right\", \"river\", \"river\", \"river\", \"river\", \"river\", \"roadblock\", \"robbery\", \"robbery\", \"rosette\", \"ruggles\", \"rule\", \"rule\", \"rule\", \"rule\", \"rule\", \"rule\", \"rule\", \"rule\", \"rule\", \"rule\", \"s.a.1953\", \"sadler\", \"sarna\", \"savedra\", \"school\", \"school\", \"school\", \"school\", \"school\", \"school\", \"school\", \"school\", \"search\", \"search\", \"search\", \"search\", \"search\", \"search\", \"search\", \"search\", \"seatbelt\", \"sectarian\", \"section\", \"section\", \"section\", \"section\", \"section\", \"section\", \"section\", \"section\", \"section\", \"section\", \"security\", \"security\", \"security\", \"security\", \"security\", \"security\", \"security\", \"security\", \"security\", \"seize\", \"seize\", \"seize\", \"seize\", \"seize\", \"seizure\", \"seizure\", \"seizure\", \"senate\", \"sentence\", \"sentence\", \"sentence\", \"sentence\", \"sentence\", \"sergeant\", \"sergeant\", \"service\", \"service\", \"service\", \"service\", \"service\", \"service\", \"service\", \"service\", \"service\", \"service\", \"servient\", \"settlement\", \"settlement\", \"settlement\", \"settlement\", \"settlement\", \"settlement\", \"settlement\", \"sexual\", \"sexual\", \"sexual\", \"shall\", \"shall\", \"shall\", \"shall\", \"shall\", \"shall\", \"shall\", \"shall\", \"shall\", \"share\", \"share\", \"share\", \"share\", \"share\", \"share\", \"share\", \"share\", \"sheep\", \"shooting\", \"shooting\", \"shooting\", \"show\", \"show\", \"show\", \"show\", \"show\", \"show\", \"show\", \"show\", \"show\", \"show\", \"smock\", \"sobriety\", \"sorna\", \"sovereign\", \"sovereign\", \"sovereignty\", \"speed\", \"speed\", \"speed\", \"speed\", \"speed\", \"speeding\", \"speeding\", \"speedy\", \"speedy\", \"spine\", \"spouse\", \"spouse\", \"spouse\", \"spouse\", \"spouse\", \"stack\", \"stack\", \"stack\", \"stack\", \"state\", \"state\", \"state\", \"state\", \"state\", \"state\", \"state\", \"state\", \"state\", \"state\", \"statement\", \"statement\", \"statement\", \"statement\", \"statement\", \"statement\", \"statement\", \"statement\", \"statement\", \"statement\", \"statute\", \"statute\", \"statute\", \"statute\", \"statute\", \"statute\", \"statute\", \"statute\", \"statute\", \"statutory\", \"statutory\", \"statutory\", \"statutory\", \"statutory\", \"statutory\", \"statutory\", \"statutory\", \"statutory\", \"statutory\", \"stream\", \"stream\", \"stream\", \"subcontract\", \"subcontract\", \"subcontractor\", \"subcontractor\", \"subdivision\", \"subdivision\", \"subdivision\", \"subdivision\", \"suffer\", \"suffer\", \"suffer\", \"suffer\", \"suffer\", \"suffer\", \"suffer\", \"suffer\", \"suffer\", \"suffer\", \"summary\", \"summary\", \"summary\", \"summary\", \"summary\", \"summary\", \"summary\", \"summary\", \"summary\", \"support\", \"support\", \"support\", \"support\", \"support\", \"support\", \"support\", \"support\", \"support\", \"support\", \"suppress\", \"suppress\", \"suppress\", \"suppression\", \"suppression\", \"suppression\", \"supra\", \"supra\", \"supra\", \"supra\", \"supra\", \"supra\", \"supra\", \"supra\", \"supra\", \"surface\", \"surface\", \"surface\", \"surface\", \"surface\", \"surface\", \"surgeon\", \"surgeon\", \"surgery\", \"surgery\", \"surgery\", \"surgical\", \"surveillance\", \"suspect\", \"suspect\", \"suspect\", \"suspect\", \"suspect\", \"suspect\", \"suspicion\", \"suspicion\", \"suspicion\", \"suspicion\", \"sustain\", \"sustain\", \"sustain\", \"sustain\", \"sustain\", \"sustain\", \"sustain\", \"sustain\", \"sustain\", \"swafford\", \"swick\", \"take\", \"take\", \"take\", \"take\", \"take\", \"take\", \"take\", \"take\", \"take\", \"take\", \"tampering\", \"tampering\", \"tariff\", \"tax\", \"tax\", \"tax\", \"taxable\", \"taxable\", \"taxation\", \"taxation\", \"taxation\", \"taxation\", \"taxation\", \"taxation\", \"taxation\", \"taxpayer\", \"taxpayer\", \"teacher\", \"teacher\", \"tenancy\", \"tenant\", \"tenant\", \"tenant\", \"tenant\", \"termination\", \"termination\", \"termination\", \"termination\", \"termination\", \"termination\", \"termination\", \"testament\", \"testamentary\", \"testator\", \"testify\", \"testify\", \"testify\", \"testify\", \"testify\", \"testify\", \"testify\", \"testify\", \"testimony\", \"testimony\", \"testimony\", \"testimony\", \"testimony\", \"testimony\", \"testimony\", \"testimony\", \"thereof\", \"thereof\", \"thereof\", \"thereof\", \"thereof\", \"thereof\", \"thereof\", \"thereon\", \"thereon\", \"thereon\", \"thereon\", \"thereon\", \"thereon\", \"thereto\", \"thereto\", \"thereto\", \"thereto\", \"thereto\", \"thereto\", \"thereupon\", \"thereupon\", \"thereupon\", \"thereupon\", \"think\", \"think\", \"think\", \"think\", \"think\", \"think\", \"think\", \"think\", \"think\", \"think\", \"timeliness\", \"timeliness\", \"timeliness\", \"timely\", \"timely\", \"timely\", \"timely\", \"timely\", \"timely\", \"timely\", \"timely\", \"title\", \"title\", \"title\", \"title\", \"title\", \"tomas\", \"tort\", \"tort\", \"tort\", \"tortfeasor\", \"tract\", \"tract\", \"tract\", \"trademark\", \"traffic\", \"traffic\", \"traffic\", \"treatment\", \"treatment\", \"treatment\", \"treatment\", \"treatment\", \"treatment\", \"treaty\", \"treble\", \"trial\", \"trial\", \"trial\", \"trial\", \"trial\", \"trial\", \"trial\", \"trial\", \"tribal\", \"tribe\", \"truck\", \"truck\", \"truck\", \"truck\", \"truck\", \"truck\", \"trust\", \"trust\", \"trust\", \"trust\", \"trust\", \"trust\", \"trust\", \"trust\", \"trustee\", \"trustee\", \"trustee\", \"trustee\", \"trustworthiness\", \"uccjea\", \"unappropriated\", \"unconscionability\", \"unconscionable\", \"unconscionable\", \"underinsured\", \"undivided\", \"undocumented\", \"undocumented\", \"unemployment\", \"unemployment\", \"uninsured\", \"unite\", \"unite\", \"unite\", \"unite\", \"unite\", \"unite\", \"unite\", \"unite\", \"untimely\", \"untimely\", \"untimely\", \"untimely\", \"uribe\", \"utility\", \"utility\", \"utility\", \"utility\", \"utility\", \"utility\", \"vacancy\", \"vacancy\", \"valuation\", \"valuation\", \"value\", \"value\", \"value\", \"value\", \"value\", \"value\", \"value\", \"value\", \"vanzi\", \"vehicle\", \"vehicle\", \"vehicle\", \"venetie\", \"verdict\", \"verdict\", \"verdict\", \"verdict\", \"vicarious\", \"victim\", \"victim\", \"victim\", \"visitation\", \"vote\", \"vote\", \"vote\", \"voter\", \"voting\", \"wages\", \"wages\", \"wages\", \"wages\", \"wages\", \"wakeland\", \"waldo\", \"warrant\", \"warrant\", \"warrant\", \"warrant\", \"warrant\", \"warrant\", \"warrant\", \"warrant\", \"warrant\", \"warrant\", \"warrantless\", \"warranto\", \"waste\", \"waste\", \"waste\", \"waste\", \"waste\", \"waste\", \"water\", \"water\", \"water\", \"waters\", \"waters\", \"waymire\", \"weddle\", \"weekly\", \"weekly\", \"weekly\", \"weekly\", \"weekly\", \"weststar\", \"whether\", \"whether\", \"whether\", \"whether\", \"whether\", \"whether\", \"whether\", \"whether\", \"whether\", \"whether\", \"within\", \"within\", \"within\", \"within\", \"within\", \"within\", \"within\", \"within\", \"within\", \"within\", \"without\", \"without\", \"without\", \"without\", \"without\", \"without\", \"without\", \"without\", \"without\", \"without\", \"witness\", \"witness\", \"witness\", \"witness\", \"witness\", \"witness\", \"witness\", \"worker\", \"worker\", \"worker\", \"workman\", \"would\", \"would\", \"would\", \"would\", \"would\", \"would\", \"would\", \"would\", \"would\", \"would\", \"yedidag\", \"yedidag\", \"youth\", \"youth\", \"youth\", \"youth\", \"youth\", \"youthful\", \"yucca\", \"zoning\"]}, \"R\": 30, \"lambda.step\": 0.01, \"plot.opts\": {\"xlab\": \"PC1\", \"ylab\": \"PC2\"}, \"topic.order\": [1, 2, 3, 4, 5, 6, 7, 8, 9, 10]};\n",
       "\n",
       "function LDAvis_load_lib(url, callback){\n",
       "  var s = document.createElement('script');\n",
       "  s.src = url;\n",
       "  s.async = true;\n",
       "  s.onreadystatechange = s.onload = callback;\n",
       "  s.onerror = function(){console.warn(\"failed to load library \" + url);};\n",
       "  document.getElementsByTagName(\"head\")[0].appendChild(s);\n",
       "}\n",
       "\n",
       "if(typeof(LDAvis) !== \"undefined\"){\n",
       "   // already loaded: just create the visualization\n",
       "   !function(LDAvis){\n",
       "       new LDAvis(\"#\" + \"ldavis_el279531403295721883689470631444\", ldavis_el279531403295721883689470631444_data);\n",
       "   }(LDAvis);\n",
       "}else if(typeof define === \"function\" && define.amd){\n",
       "   // require.js is available: use it to load d3/LDAvis\n",
       "   require.config({paths: {d3: \"https://cdnjs.cloudflare.com/ajax/libs/d3/3.5.5/d3.min\"}});\n",
       "   require([\"d3\"], function(d3){\n",
       "      window.d3 = d3;\n",
       "      LDAvis_load_lib(\"https://cdn.rawgit.com/bmabey/pyLDAvis/files/ldavis.v1.0.0.js\", function(){\n",
       "        new LDAvis(\"#\" + \"ldavis_el279531403295721883689470631444\", ldavis_el279531403295721883689470631444_data);\n",
       "      });\n",
       "    });\n",
       "}else{\n",
       "    // require.js not available: dynamically load d3 & LDAvis\n",
       "    LDAvis_load_lib(\"https://cdnjs.cloudflare.com/ajax/libs/d3/3.5.5/d3.min.js\", function(){\n",
       "         LDAvis_load_lib(\"https://cdn.rawgit.com/bmabey/pyLDAvis/files/ldavis.v1.0.0.js\", function(){\n",
       "                 new LDAvis(\"#\" + \"ldavis_el279531403295721883689470631444\", ldavis_el279531403295721883689470631444_data);\n",
       "            })\n",
       "         });\n",
       "}\n",
       "</script>"
      ],
      "text/plain": [
       "<IPython.core.display.HTML object>"
      ]
     },
     "execution_count": 64,
     "metadata": {},
     "output_type": "execute_result"
    }
   ],
   "source": [
    "import pyLDAvis.gensim\n",
    "lda_display = pyLDAvis.gensim.prepare(lda, corpus, dictionary, sort_topics=False)\n",
    "pyLDAvis.display(lda_display)"
   ]
  },
  {
   "cell_type": "markdown",
   "metadata": {},
   "source": [
    "This allows us to visualize how large the topics are, how much they overlap, and examine the distributions of a single word among all the topics. "
   ]
  },
  {
   "cell_type": "markdown",
   "metadata": {},
   "source": [
    "# Non-NLP Exploratory Analysis\n",
    "Since one of the questions we're interested in answering is how the states differ, we examine some of the non-language-related attributes of the data for the different states. In order to do this, we combine data from all the datasets into a single pandas dataframe, adding a state attribute to differentiate between our states."
   ]
  },
  {
   "cell_type": "code",
   "execution_count": 2,
   "metadata": {},
   "outputs": [
    {
     "data": {
      "text/html": [
       "        <script type=\"text/javascript\">\n",
       "        window.PlotlyConfig = {MathJaxConfig: 'local'};\n",
       "        if (window.MathJax) {MathJax.Hub.Config({SVG: {font: \"STIX-Web\"}});}\n",
       "        if (typeof require !== 'undefined') {\n",
       "        require.undef(\"plotly\");\n",
       "        requirejs.config({\n",
       "            paths: {\n",
       "                'plotly': ['https://cdn.plot.ly/plotly-latest.min']\n",
       "            }\n",
       "        });\n",
       "        require(['plotly'], function(Plotly) {\n",
       "            window._Plotly = Plotly;\n",
       "        });\n",
       "        }\n",
       "        </script>\n",
       "        "
      ]
     },
     "metadata": {},
     "output_type": "display_data"
    }
   ],
   "source": [
    "from plotly.offline import iplot\n",
    "import cufflinks as cf\n",
    "cf.go_offline()\n",
    "cf.set_config_file(offline=False, world_readable=True)"
   ]
  },
  {
   "cell_type": "code",
   "execution_count": 3,
   "metadata": {},
   "outputs": [
    {
     "data": {
      "text/html": [
       "<div>\n",
       "<style scoped>\n",
       "    .dataframe tbody tr th:only-of-type {\n",
       "        vertical-align: middle;\n",
       "    }\n",
       "\n",
       "    .dataframe tbody tr th {\n",
       "        vertical-align: top;\n",
       "    }\n",
       "\n",
       "    .dataframe thead th {\n",
       "        text-align: right;\n",
       "    }\n",
       "</style>\n",
       "<table border=\"1\" class=\"dataframe\">\n",
       "  <thead>\n",
       "    <tr style=\"text-align: right;\">\n",
       "      <th></th>\n",
       "      <th>id</th>\n",
       "      <th>url</th>\n",
       "      <th>name</th>\n",
       "      <th>name_abbreviation</th>\n",
       "      <th>decision_date</th>\n",
       "      <th>docket_number</th>\n",
       "      <th>first_page</th>\n",
       "      <th>last_page</th>\n",
       "      <th>citations</th>\n",
       "      <th>volume</th>\n",
       "      <th>reporter</th>\n",
       "      <th>court</th>\n",
       "      <th>jurisdiction</th>\n",
       "      <th>frontend_url</th>\n",
       "      <th>preview</th>\n",
       "      <th>casebody</th>\n",
       "      <th>state</th>\n",
       "    </tr>\n",
       "  </thead>\n",
       "  <tbody>\n",
       "    <tr>\n",
       "      <td>0</td>\n",
       "      <td>11640036</td>\n",
       "      <td>https://api.capapi.org/v1/cases/11640036/</td>\n",
       "      <td>FISHER v. REIDER</td>\n",
       "      <td>Fisher v. Reider</td>\n",
       "      <td>1829-11</td>\n",
       "      <td>Case No. 4,822a</td>\n",
       "      <td>137</td>\n",
       "      <td>138</td>\n",
       "      <td>[{'type': 'official', 'cite': '9 F. Cas. 137'}]</td>\n",
       "      <td>{'url': 'https://api.capapi.org/v1/volumes/320...</td>\n",
       "      <td>{'url': 'https://api.capapi.org/v1/reporters/9...</td>\n",
       "      <td>{'url': 'https://api.capapi.org/v1/courts/ark-...</td>\n",
       "      <td>{'name': 'Ark.', 'name_long': 'Arkansas', 'whi...</td>\n",
       "      <td>https://cite.capapi.org/f-cas/9/137/</td>\n",
       "      <td>[]</td>\n",
       "      <td>{'data': {'judges': ['Before JOHNSON, ESKRIDGE...</td>\n",
       "      <td>Arkansas</td>\n",
       "    </tr>\n",
       "    <tr>\n",
       "      <td>1</td>\n",
       "      <td>11638634</td>\n",
       "      <td>https://api.capapi.org/v1/cases/11638634/</td>\n",
       "      <td>FIKES v. BENTLEY</td>\n",
       "      <td>Fikes v. Bentley</td>\n",
       "      <td>1828-05</td>\n",
       "      <td>Case No. 4,785a</td>\n",
       "      <td>50</td>\n",
       "      <td>50</td>\n",
       "      <td>[{'type': 'official', 'cite': '9 F. Cas. 50'}]</td>\n",
       "      <td>{'url': 'https://api.capapi.org/v1/volumes/320...</td>\n",
       "      <td>{'url': 'https://api.capapi.org/v1/reporters/9...</td>\n",
       "      <td>{'url': 'https://api.capapi.org/v1/courts/ark-...</td>\n",
       "      <td>{'name': 'Ark.', 'name_long': 'Arkansas', 'whi...</td>\n",
       "      <td>https://cite.capapi.org/f-cas/9/50/11638634/</td>\n",
       "      <td>[]</td>\n",
       "      <td>{'data': {'judges': ['Before ESKRIDGE, JOHNSON...</td>\n",
       "      <td>Arkansas</td>\n",
       "    </tr>\n",
       "    <tr>\n",
       "      <td>2</td>\n",
       "      <td>11641817</td>\n",
       "      <td>https://api.capapi.org/v1/cases/11641817/</td>\n",
       "      <td>FLETCHER v. ELLIS</td>\n",
       "      <td>Fletcher v. Ellis</td>\n",
       "      <td>1836-02</td>\n",
       "      <td>Case No. 4,863a</td>\n",
       "      <td>266</td>\n",
       "      <td>266</td>\n",
       "      <td>[{'type': 'official', 'cite': '9 F. Cas. 266'}]</td>\n",
       "      <td>{'url': 'https://api.capapi.org/v1/volumes/320...</td>\n",
       "      <td>{'url': 'https://api.capapi.org/v1/reporters/9...</td>\n",
       "      <td>{'url': 'https://api.capapi.org/v1/courts/ark-...</td>\n",
       "      <td>{'name': 'Ark.', 'name_long': 'Arkansas', 'whi...</td>\n",
       "      <td>https://cite.capapi.org/f-cas/9/266/11641817/</td>\n",
       "      <td>[]</td>\n",
       "      <td>{'data': {'judges': ['Before CROSS and TELL, J...</td>\n",
       "      <td>Arkansas</td>\n",
       "    </tr>\n",
       "    <tr>\n",
       "      <td>3</td>\n",
       "      <td>243503</td>\n",
       "      <td>https://api.capapi.org/v1/cases/243503/</td>\n",
       "      <td>Michael NORRIS v. STATE of Arkansas</td>\n",
       "      <td>Norris v. State</td>\n",
       "      <td>1999-07-15</td>\n",
       "      <td>CR 98-1429</td>\n",
       "      <td>397</td>\n",
       "      <td>409-B</td>\n",
       "      <td>[{'type': 'official', 'cite': '338 Ark. 397'},...</td>\n",
       "      <td>{'url': 'https://api.capapi.org/v1/volumes/320...</td>\n",
       "      <td>{'url': 'https://api.capapi.org/v1/reporters/3...</td>\n",
       "      <td>{'url': 'https://api.capapi.org/v1/courts/ark/...</td>\n",
       "      <td>{'name': 'Ark.', 'name_long': 'Arkansas', 'whi...</td>\n",
       "      <td>https://cite.capapi.org/ark/338/397/</td>\n",
       "      <td>[]</td>\n",
       "      <td>{'data': {'judges': [], 'attorneys': ['Doug No...</td>\n",
       "      <td>Arkansas</td>\n",
       "    </tr>\n",
       "    <tr>\n",
       "      <td>4</td>\n",
       "      <td>243557</td>\n",
       "      <td>https://api.capapi.org/v1/cases/243557/</td>\n",
       "      <td>Roger Allen HAMMON v. STATE of Arkansas</td>\n",
       "      <td>Hammon v. State</td>\n",
       "      <td>1999-10-07</td>\n",
       "      <td>CR 98-525</td>\n",
       "      <td>733</td>\n",
       "      <td>739</td>\n",
       "      <td>[{'type': 'official', 'cite': '338 Ark. 733'},...</td>\n",
       "      <td>{'url': 'https://api.capapi.org/v1/volumes/320...</td>\n",
       "      <td>{'url': 'https://api.capapi.org/v1/reporters/3...</td>\n",
       "      <td>{'url': 'https://api.capapi.org/v1/courts/ark/...</td>\n",
       "      <td>{'name': 'Ark.', 'name_long': 'Arkansas', 'whi...</td>\n",
       "      <td>https://cite.capapi.org/ark/338/733/</td>\n",
       "      <td>[]</td>\n",
       "      <td>{'data': {'judges': [], 'attorneys': ['Phyllis...</td>\n",
       "      <td>Arkansas</td>\n",
       "    </tr>\n",
       "  </tbody>\n",
       "</table>\n",
       "</div>"
      ],
      "text/plain": [
       "         id                                        url  \\\n",
       "0  11640036  https://api.capapi.org/v1/cases/11640036/   \n",
       "1  11638634  https://api.capapi.org/v1/cases/11638634/   \n",
       "2  11641817  https://api.capapi.org/v1/cases/11641817/   \n",
       "3    243503    https://api.capapi.org/v1/cases/243503/   \n",
       "4    243557    https://api.capapi.org/v1/cases/243557/   \n",
       "\n",
       "                                      name  name_abbreviation decision_date  \\\n",
       "0                         FISHER v. REIDER   Fisher v. Reider       1829-11   \n",
       "1                         FIKES v. BENTLEY   Fikes v. Bentley       1828-05   \n",
       "2                        FLETCHER v. ELLIS  Fletcher v. Ellis       1836-02   \n",
       "3      Michael NORRIS v. STATE of Arkansas    Norris v. State    1999-07-15   \n",
       "4  Roger Allen HAMMON v. STATE of Arkansas    Hammon v. State    1999-10-07   \n",
       "\n",
       "     docket_number first_page last_page  \\\n",
       "0  Case No. 4,822a        137       138   \n",
       "1  Case No. 4,785a         50        50   \n",
       "2  Case No. 4,863a        266       266   \n",
       "3       CR 98-1429        397     409-B   \n",
       "4        CR 98-525        733       739   \n",
       "\n",
       "                                           citations  \\\n",
       "0    [{'type': 'official', 'cite': '9 F. Cas. 137'}]   \n",
       "1     [{'type': 'official', 'cite': '9 F. Cas. 50'}]   \n",
       "2    [{'type': 'official', 'cite': '9 F. Cas. 266'}]   \n",
       "3  [{'type': 'official', 'cite': '338 Ark. 397'},...   \n",
       "4  [{'type': 'official', 'cite': '338 Ark. 733'},...   \n",
       "\n",
       "                                              volume  \\\n",
       "0  {'url': 'https://api.capapi.org/v1/volumes/320...   \n",
       "1  {'url': 'https://api.capapi.org/v1/volumes/320...   \n",
       "2  {'url': 'https://api.capapi.org/v1/volumes/320...   \n",
       "3  {'url': 'https://api.capapi.org/v1/volumes/320...   \n",
       "4  {'url': 'https://api.capapi.org/v1/volumes/320...   \n",
       "\n",
       "                                            reporter  \\\n",
       "0  {'url': 'https://api.capapi.org/v1/reporters/9...   \n",
       "1  {'url': 'https://api.capapi.org/v1/reporters/9...   \n",
       "2  {'url': 'https://api.capapi.org/v1/reporters/9...   \n",
       "3  {'url': 'https://api.capapi.org/v1/reporters/3...   \n",
       "4  {'url': 'https://api.capapi.org/v1/reporters/3...   \n",
       "\n",
       "                                               court  \\\n",
       "0  {'url': 'https://api.capapi.org/v1/courts/ark-...   \n",
       "1  {'url': 'https://api.capapi.org/v1/courts/ark-...   \n",
       "2  {'url': 'https://api.capapi.org/v1/courts/ark-...   \n",
       "3  {'url': 'https://api.capapi.org/v1/courts/ark/...   \n",
       "4  {'url': 'https://api.capapi.org/v1/courts/ark/...   \n",
       "\n",
       "                                        jurisdiction  \\\n",
       "0  {'name': 'Ark.', 'name_long': 'Arkansas', 'whi...   \n",
       "1  {'name': 'Ark.', 'name_long': 'Arkansas', 'whi...   \n",
       "2  {'name': 'Ark.', 'name_long': 'Arkansas', 'whi...   \n",
       "3  {'name': 'Ark.', 'name_long': 'Arkansas', 'whi...   \n",
       "4  {'name': 'Ark.', 'name_long': 'Arkansas', 'whi...   \n",
       "\n",
       "                                    frontend_url preview  \\\n",
       "0           https://cite.capapi.org/f-cas/9/137/      []   \n",
       "1   https://cite.capapi.org/f-cas/9/50/11638634/      []   \n",
       "2  https://cite.capapi.org/f-cas/9/266/11641817/      []   \n",
       "3           https://cite.capapi.org/ark/338/397/      []   \n",
       "4           https://cite.capapi.org/ark/338/733/      []   \n",
       "\n",
       "                                            casebody     state  \n",
       "0  {'data': {'judges': ['Before JOHNSON, ESKRIDGE...  Arkansas  \n",
       "1  {'data': {'judges': ['Before ESKRIDGE, JOHNSON...  Arkansas  \n",
       "2  {'data': {'judges': ['Before CROSS and TELL, J...  Arkansas  \n",
       "3  {'data': {'judges': [], 'attorneys': ['Doug No...  Arkansas  \n",
       "4  {'data': {'judges': [], 'attorneys': ['Phyllis...  Arkansas  "
      ]
     },
     "execution_count": 3,
     "metadata": {},
     "output_type": "execute_result"
    }
   ],
   "source": [
    "cases_ar = []\n",
    "with lzma.open(\"Arkansas-20200302-text/data/data.jsonl.xz\") as in_file:\n",
    "    for line in in_file:\n",
    "        case = json.loads(str(line, 'utf8'))\n",
    "        cases_ar.append(case)\n",
    "cases_ill = []\n",
    "with lzma.open(\"Illinois-20200302-text/data/data.jsonl.xz\") as in_file:\n",
    "    for line in in_file:\n",
    "        case = json.loads(str(line, 'utf8'))\n",
    "        cases_ill.append(case)        \n",
    "cases_nc = []\n",
    "with lzma.open(\"North Carolina-20200302-text/data/data.jsonl.xz\") as in_file:\n",
    "    for line in in_file:\n",
    "        case = json.loads(str(line, 'utf8'))\n",
    "        cases_nc.append(case)\n",
    "cases_nm = []\n",
    "with lzma.open(\"New Mexico-20200302-text/data/data.jsonl.xz\") as in_file:\n",
    "    for line in in_file:\n",
    "        case = json.loads(str(line, 'utf8'))\n",
    "        cases_nm.append(case)\n",
    "arkansas = pd.DataFrame(cases_ar)\n",
    "illinois = pd.DataFrame(cases_ill)\n",
    "new_mexico = pd.DataFrame(cases_nm)\n",
    "n_carolina = pd.DataFrame(cases_nc)\n",
    "\n",
    "#create dataset with all of the states, adding 'state' as a column\n",
    "arkansas['state'] = 'Arkansas'\n",
    "illinois['state'] = 'Illinois'\n",
    "new_mexico['state'] = 'New Mexico'\n",
    "n_carolina['state'] = 'North Carolina'\n",
    "\n",
    "total_list = [arkansas, illinois, new_mexico, n_carolina]\n",
    "\n",
    "case_df = pd.concat(total_list)\n",
    "case_df.head()"
   ]
  },
  {
   "cell_type": "markdown",
   "metadata": {},
   "source": [
    "# Distributions of Characteristics in Dataset for All States\n",
    "To investigate deeper into our entire dataset, we can look at the distribution of various aspects of our data. This may be useful because it could provide insight into how cases have changed over time, how cases in different states differ, and what variables provide insight into the types of cases seen in each state. We can first begin with citations."
   ]
  },
  {
   "cell_type": "markdown",
   "metadata": {},
   "source": [
    "## Citations"
   ]
  },
  {
   "cell_type": "code",
   "execution_count": 9,
   "metadata": {},
   "outputs": [
    {
     "data": {
      "text/plain": [
       "array(['official', 'nominative'], dtype=object)"
      ]
     },
     "execution_count": 9,
     "metadata": {},
     "output_type": "execute_result"
    }
   ],
   "source": [
    "# look into types of citations present in the citation column\n",
    "case_df['citation_type'] = [x[0]['type'] for x in case_df['citations']]\n",
    "case_df['citation_type'].unique()"
   ]
  },
  {
   "cell_type": "markdown",
   "metadata": {},
   "source": [
    "We can see that there are 2 unique types of citations: official and nominative. We wanted to see how often each citation type occurred to see if the difference in citation types is relevant."
   ]
  },
  {
   "cell_type": "code",
   "execution_count": 25,
   "metadata": {},
   "outputs": [
    {
     "data": {
      "application/vnd.plotly.v1+json": {
       "config": {
        "linkText": "Export to plot.ly",
        "plotlyServerURL": "https://plot.ly",
        "showLink": true
       },
       "data": [
        {
         "marker": {
          "color": "rgba(255, 153, 51, 0.8)",
          "line": {
           "color": "rgba(255, 153, 51, 1.0)",
           "width": 1
          }
         },
         "name": "id",
         "orientation": "v",
         "text": "",
         "type": "bar",
         "x": [
          "official",
          "nominative"
         ],
         "y": [
          348603,
          10216
         ]
        }
       ],
       "layout": {
        "legend": {
         "bgcolor": "#F5F6F9",
         "font": {
          "color": "#4D5663"
         }
        },
        "paper_bgcolor": "#F5F6F9",
        "plot_bgcolor": "#F5F6F9",
        "template": {
         "data": {
          "bar": [
           {
            "error_x": {
             "color": "#2a3f5f"
            },
            "error_y": {
             "color": "#2a3f5f"
            },
            "marker": {
             "line": {
              "color": "#E5ECF6",
              "width": 0.5
             }
            },
            "type": "bar"
           }
          ],
          "barpolar": [
           {
            "marker": {
             "line": {
              "color": "#E5ECF6",
              "width": 0.5
             }
            },
            "type": "barpolar"
           }
          ],
          "carpet": [
           {
            "aaxis": {
             "endlinecolor": "#2a3f5f",
             "gridcolor": "white",
             "linecolor": "white",
             "minorgridcolor": "white",
             "startlinecolor": "#2a3f5f"
            },
            "baxis": {
             "endlinecolor": "#2a3f5f",
             "gridcolor": "white",
             "linecolor": "white",
             "minorgridcolor": "white",
             "startlinecolor": "#2a3f5f"
            },
            "type": "carpet"
           }
          ],
          "choropleth": [
           {
            "colorbar": {
             "outlinewidth": 0,
             "ticks": ""
            },
            "type": "choropleth"
           }
          ],
          "contour": [
           {
            "colorbar": {
             "outlinewidth": 0,
             "ticks": ""
            },
            "colorscale": [
             [
              0,
              "#0d0887"
             ],
             [
              0.1111111111111111,
              "#46039f"
             ],
             [
              0.2222222222222222,
              "#7201a8"
             ],
             [
              0.3333333333333333,
              "#9c179e"
             ],
             [
              0.4444444444444444,
              "#bd3786"
             ],
             [
              0.5555555555555556,
              "#d8576b"
             ],
             [
              0.6666666666666666,
              "#ed7953"
             ],
             [
              0.7777777777777778,
              "#fb9f3a"
             ],
             [
              0.8888888888888888,
              "#fdca26"
             ],
             [
              1,
              "#f0f921"
             ]
            ],
            "type": "contour"
           }
          ],
          "contourcarpet": [
           {
            "colorbar": {
             "outlinewidth": 0,
             "ticks": ""
            },
            "type": "contourcarpet"
           }
          ],
          "heatmap": [
           {
            "colorbar": {
             "outlinewidth": 0,
             "ticks": ""
            },
            "colorscale": [
             [
              0,
              "#0d0887"
             ],
             [
              0.1111111111111111,
              "#46039f"
             ],
             [
              0.2222222222222222,
              "#7201a8"
             ],
             [
              0.3333333333333333,
              "#9c179e"
             ],
             [
              0.4444444444444444,
              "#bd3786"
             ],
             [
              0.5555555555555556,
              "#d8576b"
             ],
             [
              0.6666666666666666,
              "#ed7953"
             ],
             [
              0.7777777777777778,
              "#fb9f3a"
             ],
             [
              0.8888888888888888,
              "#fdca26"
             ],
             [
              1,
              "#f0f921"
             ]
            ],
            "type": "heatmap"
           }
          ],
          "heatmapgl": [
           {
            "colorbar": {
             "outlinewidth": 0,
             "ticks": ""
            },
            "colorscale": [
             [
              0,
              "#0d0887"
             ],
             [
              0.1111111111111111,
              "#46039f"
             ],
             [
              0.2222222222222222,
              "#7201a8"
             ],
             [
              0.3333333333333333,
              "#9c179e"
             ],
             [
              0.4444444444444444,
              "#bd3786"
             ],
             [
              0.5555555555555556,
              "#d8576b"
             ],
             [
              0.6666666666666666,
              "#ed7953"
             ],
             [
              0.7777777777777778,
              "#fb9f3a"
             ],
             [
              0.8888888888888888,
              "#fdca26"
             ],
             [
              1,
              "#f0f921"
             ]
            ],
            "type": "heatmapgl"
           }
          ],
          "histogram": [
           {
            "marker": {
             "colorbar": {
              "outlinewidth": 0,
              "ticks": ""
             }
            },
            "type": "histogram"
           }
          ],
          "histogram2d": [
           {
            "colorbar": {
             "outlinewidth": 0,
             "ticks": ""
            },
            "colorscale": [
             [
              0,
              "#0d0887"
             ],
             [
              0.1111111111111111,
              "#46039f"
             ],
             [
              0.2222222222222222,
              "#7201a8"
             ],
             [
              0.3333333333333333,
              "#9c179e"
             ],
             [
              0.4444444444444444,
              "#bd3786"
             ],
             [
              0.5555555555555556,
              "#d8576b"
             ],
             [
              0.6666666666666666,
              "#ed7953"
             ],
             [
              0.7777777777777778,
              "#fb9f3a"
             ],
             [
              0.8888888888888888,
              "#fdca26"
             ],
             [
              1,
              "#f0f921"
             ]
            ],
            "type": "histogram2d"
           }
          ],
          "histogram2dcontour": [
           {
            "colorbar": {
             "outlinewidth": 0,
             "ticks": ""
            },
            "colorscale": [
             [
              0,
              "#0d0887"
             ],
             [
              0.1111111111111111,
              "#46039f"
             ],
             [
              0.2222222222222222,
              "#7201a8"
             ],
             [
              0.3333333333333333,
              "#9c179e"
             ],
             [
              0.4444444444444444,
              "#bd3786"
             ],
             [
              0.5555555555555556,
              "#d8576b"
             ],
             [
              0.6666666666666666,
              "#ed7953"
             ],
             [
              0.7777777777777778,
              "#fb9f3a"
             ],
             [
              0.8888888888888888,
              "#fdca26"
             ],
             [
              1,
              "#f0f921"
             ]
            ],
            "type": "histogram2dcontour"
           }
          ],
          "mesh3d": [
           {
            "colorbar": {
             "outlinewidth": 0,
             "ticks": ""
            },
            "type": "mesh3d"
           }
          ],
          "parcoords": [
           {
            "line": {
             "colorbar": {
              "outlinewidth": 0,
              "ticks": ""
             }
            },
            "type": "parcoords"
           }
          ],
          "pie": [
           {
            "automargin": true,
            "type": "pie"
           }
          ],
          "scatter": [
           {
            "marker": {
             "colorbar": {
              "outlinewidth": 0,
              "ticks": ""
             }
            },
            "type": "scatter"
           }
          ],
          "scatter3d": [
           {
            "line": {
             "colorbar": {
              "outlinewidth": 0,
              "ticks": ""
             }
            },
            "marker": {
             "colorbar": {
              "outlinewidth": 0,
              "ticks": ""
             }
            },
            "type": "scatter3d"
           }
          ],
          "scattercarpet": [
           {
            "marker": {
             "colorbar": {
              "outlinewidth": 0,
              "ticks": ""
             }
            },
            "type": "scattercarpet"
           }
          ],
          "scattergeo": [
           {
            "marker": {
             "colorbar": {
              "outlinewidth": 0,
              "ticks": ""
             }
            },
            "type": "scattergeo"
           }
          ],
          "scattergl": [
           {
            "marker": {
             "colorbar": {
              "outlinewidth": 0,
              "ticks": ""
             }
            },
            "type": "scattergl"
           }
          ],
          "scattermapbox": [
           {
            "marker": {
             "colorbar": {
              "outlinewidth": 0,
              "ticks": ""
             }
            },
            "type": "scattermapbox"
           }
          ],
          "scatterpolar": [
           {
            "marker": {
             "colorbar": {
              "outlinewidth": 0,
              "ticks": ""
             }
            },
            "type": "scatterpolar"
           }
          ],
          "scatterpolargl": [
           {
            "marker": {
             "colorbar": {
              "outlinewidth": 0,
              "ticks": ""
             }
            },
            "type": "scatterpolargl"
           }
          ],
          "scatterternary": [
           {
            "marker": {
             "colorbar": {
              "outlinewidth": 0,
              "ticks": ""
             }
            },
            "type": "scatterternary"
           }
          ],
          "surface": [
           {
            "colorbar": {
             "outlinewidth": 0,
             "ticks": ""
            },
            "colorscale": [
             [
              0,
              "#0d0887"
             ],
             [
              0.1111111111111111,
              "#46039f"
             ],
             [
              0.2222222222222222,
              "#7201a8"
             ],
             [
              0.3333333333333333,
              "#9c179e"
             ],
             [
              0.4444444444444444,
              "#bd3786"
             ],
             [
              0.5555555555555556,
              "#d8576b"
             ],
             [
              0.6666666666666666,
              "#ed7953"
             ],
             [
              0.7777777777777778,
              "#fb9f3a"
             ],
             [
              0.8888888888888888,
              "#fdca26"
             ],
             [
              1,
              "#f0f921"
             ]
            ],
            "type": "surface"
           }
          ],
          "table": [
           {
            "cells": {
             "fill": {
              "color": "#EBF0F8"
             },
             "line": {
              "color": "white"
             }
            },
            "header": {
             "fill": {
              "color": "#C8D4E3"
             },
             "line": {
              "color": "white"
             }
            },
            "type": "table"
           }
          ]
         },
         "layout": {
          "annotationdefaults": {
           "arrowcolor": "#2a3f5f",
           "arrowhead": 0,
           "arrowwidth": 1
          },
          "coloraxis": {
           "colorbar": {
            "outlinewidth": 0,
            "ticks": ""
           }
          },
          "colorscale": {
           "diverging": [
            [
             0,
             "#8e0152"
            ],
            [
             0.1,
             "#c51b7d"
            ],
            [
             0.2,
             "#de77ae"
            ],
            [
             0.3,
             "#f1b6da"
            ],
            [
             0.4,
             "#fde0ef"
            ],
            [
             0.5,
             "#f7f7f7"
            ],
            [
             0.6,
             "#e6f5d0"
            ],
            [
             0.7,
             "#b8e186"
            ],
            [
             0.8,
             "#7fbc41"
            ],
            [
             0.9,
             "#4d9221"
            ],
            [
             1,
             "#276419"
            ]
           ],
           "sequential": [
            [
             0,
             "#0d0887"
            ],
            [
             0.1111111111111111,
             "#46039f"
            ],
            [
             0.2222222222222222,
             "#7201a8"
            ],
            [
             0.3333333333333333,
             "#9c179e"
            ],
            [
             0.4444444444444444,
             "#bd3786"
            ],
            [
             0.5555555555555556,
             "#d8576b"
            ],
            [
             0.6666666666666666,
             "#ed7953"
            ],
            [
             0.7777777777777778,
             "#fb9f3a"
            ],
            [
             0.8888888888888888,
             "#fdca26"
            ],
            [
             1,
             "#f0f921"
            ]
           ],
           "sequentialminus": [
            [
             0,
             "#0d0887"
            ],
            [
             0.1111111111111111,
             "#46039f"
            ],
            [
             0.2222222222222222,
             "#7201a8"
            ],
            [
             0.3333333333333333,
             "#9c179e"
            ],
            [
             0.4444444444444444,
             "#bd3786"
            ],
            [
             0.5555555555555556,
             "#d8576b"
            ],
            [
             0.6666666666666666,
             "#ed7953"
            ],
            [
             0.7777777777777778,
             "#fb9f3a"
            ],
            [
             0.8888888888888888,
             "#fdca26"
            ],
            [
             1,
             "#f0f921"
            ]
           ]
          },
          "colorway": [
           "#636efa",
           "#EF553B",
           "#00cc96",
           "#ab63fa",
           "#FFA15A",
           "#19d3f3",
           "#FF6692",
           "#B6E880",
           "#FF97FF",
           "#FECB52"
          ],
          "font": {
           "color": "#2a3f5f"
          },
          "geo": {
           "bgcolor": "white",
           "lakecolor": "white",
           "landcolor": "#E5ECF6",
           "showlakes": true,
           "showland": true,
           "subunitcolor": "white"
          },
          "hoverlabel": {
           "align": "left"
          },
          "hovermode": "closest",
          "mapbox": {
           "style": "light"
          },
          "paper_bgcolor": "white",
          "plot_bgcolor": "#E5ECF6",
          "polar": {
           "angularaxis": {
            "gridcolor": "white",
            "linecolor": "white",
            "ticks": ""
           },
           "bgcolor": "#E5ECF6",
           "radialaxis": {
            "gridcolor": "white",
            "linecolor": "white",
            "ticks": ""
           }
          },
          "scene": {
           "xaxis": {
            "backgroundcolor": "#E5ECF6",
            "gridcolor": "white",
            "gridwidth": 2,
            "linecolor": "white",
            "showbackground": true,
            "ticks": "",
            "zerolinecolor": "white"
           },
           "yaxis": {
            "backgroundcolor": "#E5ECF6",
            "gridcolor": "white",
            "gridwidth": 2,
            "linecolor": "white",
            "showbackground": true,
            "ticks": "",
            "zerolinecolor": "white"
           },
           "zaxis": {
            "backgroundcolor": "#E5ECF6",
            "gridcolor": "white",
            "gridwidth": 2,
            "linecolor": "white",
            "showbackground": true,
            "ticks": "",
            "zerolinecolor": "white"
           }
          },
          "shapedefaults": {
           "line": {
            "color": "#2a3f5f"
           }
          },
          "ternary": {
           "aaxis": {
            "gridcolor": "white",
            "linecolor": "white",
            "ticks": ""
           },
           "baxis": {
            "gridcolor": "white",
            "linecolor": "white",
            "ticks": ""
           },
           "bgcolor": "#E5ECF6",
           "caxis": {
            "gridcolor": "white",
            "linecolor": "white",
            "ticks": ""
           }
          },
          "title": {
           "x": 0.05
          },
          "xaxis": {
           "automargin": true,
           "gridcolor": "white",
           "linecolor": "white",
           "ticks": "",
           "title": {
            "standoff": 15
           },
           "zerolinecolor": "white",
           "zerolinewidth": 2
          },
          "yaxis": {
           "automargin": true,
           "gridcolor": "white",
           "linecolor": "white",
           "ticks": "",
           "title": {
            "standoff": 15
           },
           "zerolinecolor": "white",
           "zerolinewidth": 2
          }
         }
        },
        "title": {
         "font": {
          "color": "#4D5663"
         },
         "text": "Bar chart of Citation Type for all States"
        },
        "xaxis": {
         "gridcolor": "#E1E5ED",
         "linecolor": "black",
         "showgrid": true,
         "tickfont": {
          "color": "#4D5663"
         },
         "title": {
          "font": {
           "color": "#4D5663"
          },
          "text": "Citation Type"
         },
         "zerolinecolor": "#E1E5ED"
        },
        "yaxis": {
         "gridcolor": "#E1E5ED",
         "linecolor": "black",
         "showgrid": true,
         "tickfont": {
          "color": "#4D5663"
         },
         "title": {
          "font": {
           "color": "#4D5663"
          },
          "text": "Count"
         },
         "zerolinecolor": "#E1E5ED"
        }
       }
      },
      "text/html": [
       "<div>\n",
       "        \n",
       "        \n",
       "            <div id=\"34a41816-2559-4702-8869-e16c54227ea2\" class=\"plotly-graph-div\" style=\"height:525px; width:100%;\"></div>\n",
       "            <script type=\"text/javascript\">\n",
       "                require([\"plotly\"], function(Plotly) {\n",
       "                    window.PLOTLYENV=window.PLOTLYENV || {};\n",
       "                    window.PLOTLYENV.BASE_URL='https://plot.ly';\n",
       "                    \n",
       "                if (document.getElementById(\"34a41816-2559-4702-8869-e16c54227ea2\")) {\n",
       "                    Plotly.newPlot(\n",
       "                        '34a41816-2559-4702-8869-e16c54227ea2',\n",
       "                        [{\"marker\": {\"color\": \"rgba(255, 153, 51, 0.8)\", \"line\": {\"color\": \"rgba(255, 153, 51, 1.0)\", \"width\": 1}}, \"name\": \"id\", \"orientation\": \"v\", \"text\": \"\", \"type\": \"bar\", \"x\": [\"official\", \"nominative\"], \"y\": [348603, 10216]}],\n",
       "                        {\"legend\": {\"bgcolor\": \"#F5F6F9\", \"font\": {\"color\": \"#4D5663\"}}, \"paper_bgcolor\": \"#F5F6F9\", \"plot_bgcolor\": \"#F5F6F9\", \"template\": {\"data\": {\"bar\": [{\"error_x\": {\"color\": \"#2a3f5f\"}, \"error_y\": {\"color\": \"#2a3f5f\"}, \"marker\": {\"line\": {\"color\": \"#E5ECF6\", \"width\": 0.5}}, \"type\": \"bar\"}], \"barpolar\": [{\"marker\": {\"line\": {\"color\": \"#E5ECF6\", \"width\": 0.5}}, \"type\": \"barpolar\"}], \"carpet\": [{\"aaxis\": {\"endlinecolor\": \"#2a3f5f\", \"gridcolor\": \"white\", \"linecolor\": \"white\", \"minorgridcolor\": \"white\", \"startlinecolor\": \"#2a3f5f\"}, \"baxis\": {\"endlinecolor\": \"#2a3f5f\", \"gridcolor\": \"white\", \"linecolor\": \"white\", \"minorgridcolor\": \"white\", \"startlinecolor\": \"#2a3f5f\"}, \"type\": \"carpet\"}], \"choropleth\": [{\"colorbar\": {\"outlinewidth\": 0, \"ticks\": \"\"}, \"type\": \"choropleth\"}], \"contour\": [{\"colorbar\": {\"outlinewidth\": 0, \"ticks\": \"\"}, \"colorscale\": [[0.0, \"#0d0887\"], [0.1111111111111111, \"#46039f\"], [0.2222222222222222, \"#7201a8\"], [0.3333333333333333, \"#9c179e\"], [0.4444444444444444, \"#bd3786\"], [0.5555555555555556, \"#d8576b\"], [0.6666666666666666, \"#ed7953\"], [0.7777777777777778, \"#fb9f3a\"], [0.8888888888888888, \"#fdca26\"], [1.0, \"#f0f921\"]], \"type\": \"contour\"}], \"contourcarpet\": [{\"colorbar\": {\"outlinewidth\": 0, \"ticks\": \"\"}, \"type\": \"contourcarpet\"}], \"heatmap\": [{\"colorbar\": {\"outlinewidth\": 0, \"ticks\": \"\"}, \"colorscale\": [[0.0, \"#0d0887\"], [0.1111111111111111, \"#46039f\"], [0.2222222222222222, \"#7201a8\"], [0.3333333333333333, \"#9c179e\"], [0.4444444444444444, \"#bd3786\"], [0.5555555555555556, \"#d8576b\"], [0.6666666666666666, \"#ed7953\"], [0.7777777777777778, \"#fb9f3a\"], [0.8888888888888888, \"#fdca26\"], [1.0, \"#f0f921\"]], \"type\": \"heatmap\"}], \"heatmapgl\": [{\"colorbar\": {\"outlinewidth\": 0, \"ticks\": \"\"}, \"colorscale\": [[0.0, \"#0d0887\"], [0.1111111111111111, \"#46039f\"], [0.2222222222222222, \"#7201a8\"], [0.3333333333333333, \"#9c179e\"], [0.4444444444444444, \"#bd3786\"], [0.5555555555555556, \"#d8576b\"], [0.6666666666666666, \"#ed7953\"], [0.7777777777777778, \"#fb9f3a\"], [0.8888888888888888, \"#fdca26\"], [1.0, \"#f0f921\"]], \"type\": \"heatmapgl\"}], \"histogram\": [{\"marker\": {\"colorbar\": {\"outlinewidth\": 0, \"ticks\": \"\"}}, \"type\": \"histogram\"}], \"histogram2d\": [{\"colorbar\": {\"outlinewidth\": 0, \"ticks\": \"\"}, \"colorscale\": [[0.0, \"#0d0887\"], [0.1111111111111111, \"#46039f\"], [0.2222222222222222, \"#7201a8\"], [0.3333333333333333, \"#9c179e\"], [0.4444444444444444, \"#bd3786\"], [0.5555555555555556, \"#d8576b\"], [0.6666666666666666, \"#ed7953\"], [0.7777777777777778, \"#fb9f3a\"], [0.8888888888888888, \"#fdca26\"], [1.0, \"#f0f921\"]], \"type\": \"histogram2d\"}], \"histogram2dcontour\": [{\"colorbar\": {\"outlinewidth\": 0, \"ticks\": \"\"}, \"colorscale\": [[0.0, \"#0d0887\"], [0.1111111111111111, \"#46039f\"], [0.2222222222222222, \"#7201a8\"], [0.3333333333333333, \"#9c179e\"], [0.4444444444444444, \"#bd3786\"], [0.5555555555555556, \"#d8576b\"], [0.6666666666666666, \"#ed7953\"], [0.7777777777777778, \"#fb9f3a\"], [0.8888888888888888, \"#fdca26\"], [1.0, \"#f0f921\"]], \"type\": \"histogram2dcontour\"}], \"mesh3d\": [{\"colorbar\": {\"outlinewidth\": 0, \"ticks\": \"\"}, \"type\": \"mesh3d\"}], \"parcoords\": [{\"line\": {\"colorbar\": {\"outlinewidth\": 0, \"ticks\": \"\"}}, \"type\": \"parcoords\"}], \"pie\": [{\"automargin\": true, \"type\": \"pie\"}], \"scatter\": [{\"marker\": {\"colorbar\": {\"outlinewidth\": 0, \"ticks\": \"\"}}, \"type\": \"scatter\"}], \"scatter3d\": [{\"line\": {\"colorbar\": {\"outlinewidth\": 0, \"ticks\": \"\"}}, \"marker\": {\"colorbar\": {\"outlinewidth\": 0, \"ticks\": \"\"}}, \"type\": \"scatter3d\"}], \"scattercarpet\": [{\"marker\": {\"colorbar\": {\"outlinewidth\": 0, \"ticks\": \"\"}}, \"type\": \"scattercarpet\"}], \"scattergeo\": [{\"marker\": {\"colorbar\": {\"outlinewidth\": 0, \"ticks\": \"\"}}, \"type\": \"scattergeo\"}], \"scattergl\": [{\"marker\": {\"colorbar\": {\"outlinewidth\": 0, \"ticks\": \"\"}}, \"type\": \"scattergl\"}], \"scattermapbox\": [{\"marker\": {\"colorbar\": {\"outlinewidth\": 0, \"ticks\": \"\"}}, \"type\": \"scattermapbox\"}], \"scatterpolar\": [{\"marker\": {\"colorbar\": {\"outlinewidth\": 0, \"ticks\": \"\"}}, \"type\": \"scatterpolar\"}], \"scatterpolargl\": [{\"marker\": {\"colorbar\": {\"outlinewidth\": 0, \"ticks\": \"\"}}, \"type\": \"scatterpolargl\"}], \"scatterternary\": [{\"marker\": {\"colorbar\": {\"outlinewidth\": 0, \"ticks\": \"\"}}, \"type\": \"scatterternary\"}], \"surface\": [{\"colorbar\": {\"outlinewidth\": 0, \"ticks\": \"\"}, \"colorscale\": [[0.0, \"#0d0887\"], [0.1111111111111111, \"#46039f\"], [0.2222222222222222, \"#7201a8\"], [0.3333333333333333, \"#9c179e\"], [0.4444444444444444, \"#bd3786\"], [0.5555555555555556, \"#d8576b\"], [0.6666666666666666, \"#ed7953\"], [0.7777777777777778, \"#fb9f3a\"], [0.8888888888888888, \"#fdca26\"], [1.0, \"#f0f921\"]], \"type\": \"surface\"}], \"table\": [{\"cells\": {\"fill\": {\"color\": \"#EBF0F8\"}, \"line\": {\"color\": \"white\"}}, \"header\": {\"fill\": {\"color\": \"#C8D4E3\"}, \"line\": {\"color\": \"white\"}}, \"type\": \"table\"}]}, \"layout\": {\"annotationdefaults\": {\"arrowcolor\": \"#2a3f5f\", \"arrowhead\": 0, \"arrowwidth\": 1}, \"coloraxis\": {\"colorbar\": {\"outlinewidth\": 0, \"ticks\": \"\"}}, \"colorscale\": {\"diverging\": [[0, \"#8e0152\"], [0.1, \"#c51b7d\"], [0.2, \"#de77ae\"], [0.3, \"#f1b6da\"], [0.4, \"#fde0ef\"], [0.5, \"#f7f7f7\"], [0.6, \"#e6f5d0\"], [0.7, \"#b8e186\"], [0.8, \"#7fbc41\"], [0.9, \"#4d9221\"], [1, \"#276419\"]], \"sequential\": [[0.0, \"#0d0887\"], [0.1111111111111111, \"#46039f\"], [0.2222222222222222, \"#7201a8\"], [0.3333333333333333, \"#9c179e\"], [0.4444444444444444, \"#bd3786\"], [0.5555555555555556, \"#d8576b\"], [0.6666666666666666, \"#ed7953\"], [0.7777777777777778, \"#fb9f3a\"], [0.8888888888888888, \"#fdca26\"], [1.0, \"#f0f921\"]], \"sequentialminus\": [[0.0, \"#0d0887\"], [0.1111111111111111, \"#46039f\"], [0.2222222222222222, \"#7201a8\"], [0.3333333333333333, \"#9c179e\"], [0.4444444444444444, \"#bd3786\"], [0.5555555555555556, \"#d8576b\"], [0.6666666666666666, \"#ed7953\"], [0.7777777777777778, \"#fb9f3a\"], [0.8888888888888888, \"#fdca26\"], [1.0, \"#f0f921\"]]}, \"colorway\": [\"#636efa\", \"#EF553B\", \"#00cc96\", \"#ab63fa\", \"#FFA15A\", \"#19d3f3\", \"#FF6692\", \"#B6E880\", \"#FF97FF\", \"#FECB52\"], \"font\": {\"color\": \"#2a3f5f\"}, \"geo\": {\"bgcolor\": \"white\", \"lakecolor\": \"white\", \"landcolor\": \"#E5ECF6\", \"showlakes\": true, \"showland\": true, \"subunitcolor\": \"white\"}, \"hoverlabel\": {\"align\": \"left\"}, \"hovermode\": \"closest\", \"mapbox\": {\"style\": \"light\"}, \"paper_bgcolor\": \"white\", \"plot_bgcolor\": \"#E5ECF6\", \"polar\": {\"angularaxis\": {\"gridcolor\": \"white\", \"linecolor\": \"white\", \"ticks\": \"\"}, \"bgcolor\": \"#E5ECF6\", \"radialaxis\": {\"gridcolor\": \"white\", \"linecolor\": \"white\", \"ticks\": \"\"}}, \"scene\": {\"xaxis\": {\"backgroundcolor\": \"#E5ECF6\", \"gridcolor\": \"white\", \"gridwidth\": 2, \"linecolor\": \"white\", \"showbackground\": true, \"ticks\": \"\", \"zerolinecolor\": \"white\"}, \"yaxis\": {\"backgroundcolor\": \"#E5ECF6\", \"gridcolor\": \"white\", \"gridwidth\": 2, \"linecolor\": \"white\", \"showbackground\": true, \"ticks\": \"\", \"zerolinecolor\": \"white\"}, \"zaxis\": {\"backgroundcolor\": \"#E5ECF6\", \"gridcolor\": \"white\", \"gridwidth\": 2, \"linecolor\": \"white\", \"showbackground\": true, \"ticks\": \"\", \"zerolinecolor\": \"white\"}}, \"shapedefaults\": {\"line\": {\"color\": \"#2a3f5f\"}}, \"ternary\": {\"aaxis\": {\"gridcolor\": \"white\", \"linecolor\": \"white\", \"ticks\": \"\"}, \"baxis\": {\"gridcolor\": \"white\", \"linecolor\": \"white\", \"ticks\": \"\"}, \"bgcolor\": \"#E5ECF6\", \"caxis\": {\"gridcolor\": \"white\", \"linecolor\": \"white\", \"ticks\": \"\"}}, \"title\": {\"x\": 0.05}, \"xaxis\": {\"automargin\": true, \"gridcolor\": \"white\", \"linecolor\": \"white\", \"ticks\": \"\", \"title\": {\"standoff\": 15}, \"zerolinecolor\": \"white\", \"zerolinewidth\": 2}, \"yaxis\": {\"automargin\": true, \"gridcolor\": \"white\", \"linecolor\": \"white\", \"ticks\": \"\", \"title\": {\"standoff\": 15}, \"zerolinecolor\": \"white\", \"zerolinewidth\": 2}}}, \"title\": {\"font\": {\"color\": \"#4D5663\"}, \"text\": \"Bar chart of Citation Type for all States\"}, \"xaxis\": {\"gridcolor\": \"#E1E5ED\", \"linecolor\": \"black\", \"showgrid\": true, \"tickfont\": {\"color\": \"#4D5663\"}, \"title\": {\"font\": {\"color\": \"#4D5663\"}, \"text\": \"Citation Type\"}, \"zerolinecolor\": \"#E1E5ED\"}, \"yaxis\": {\"gridcolor\": \"#E1E5ED\", \"linecolor\": \"black\", \"showgrid\": true, \"tickfont\": {\"color\": \"#4D5663\"}, \"title\": {\"font\": {\"color\": \"#4D5663\"}, \"text\": \"Count\"}, \"zerolinecolor\": \"#E1E5ED\"}},\n",
       "                        {\"showLink\": true, \"linkText\": \"Export to plot.ly\", \"plotlyServerURL\": \"https://plot.ly\", \"responsive\": true}\n",
       "                    ).then(function(){\n",
       "                            \n",
       "var gd = document.getElementById('34a41816-2559-4702-8869-e16c54227ea2');\n",
       "var x = new MutationObserver(function (mutations, observer) {{\n",
       "        var display = window.getComputedStyle(gd).display;\n",
       "        if (!display || display === 'none') {{\n",
       "            console.log([gd, 'removed!']);\n",
       "            Plotly.purge(gd);\n",
       "            observer.disconnect();\n",
       "        }}\n",
       "}});\n",
       "\n",
       "// Listen for the removal of the full notebook cells\n",
       "var notebookContainer = gd.closest('#notebook-container');\n",
       "if (notebookContainer) {{\n",
       "    x.observe(notebookContainer, {childList: true});\n",
       "}}\n",
       "\n",
       "// Listen for the clearing of the current output cell\n",
       "var outputEl = gd.closest('.output');\n",
       "if (outputEl) {{\n",
       "    x.observe(outputEl, {childList: true});\n",
       "}}\n",
       "\n",
       "                        })\n",
       "                };\n",
       "                });\n",
       "            </script>\n",
       "        </div>"
      ]
     },
     "metadata": {},
     "output_type": "display_data"
    },
    {
     "data": {
      "text/plain": [
       "<Figure size 432x288 with 0 Axes>"
      ]
     },
     "metadata": {},
     "output_type": "display_data"
    }
   ],
   "source": [
    "case_df.groupby('citation_type').count()['id'].sort_values(ascending=False).iplot(kind='bar',\n",
    "                                            yTitle='Count', linecolor='black', opacity=0.8,\n",
    "                                            title='Bar chart of Citation Type for all States', xTitle='Citation Type')\n",
    "plt.savefig('citations.png')"
   ]
  },
  {
   "cell_type": "markdown",
   "metadata": {},
   "source": [
    "We can see that official citations are much more common than nominative citations. If we look at the years that the nominative citation type occurs, it tends to be from very old case briefs. We can look at the decision years when the citation was nominative to prove this."
   ]
  },
  {
   "cell_type": "code",
   "execution_count": 10,
   "metadata": {},
   "outputs": [
    {
     "data": {
      "text/plain": [
       "array(['1778', '1779', '1780', '1784', '1787', '1789', '1790', '1791',\n",
       "       '1792', '1793', '1794', '1795', '1796', '1797', '1798', '1799',\n",
       "       '1800', '1801', '1802', '1803', '1804', '1805', '1806', '1807',\n",
       "       '1808', '1809', '1810', '1811', '1812', '1813', '1814', '1815',\n",
       "       '1816', '1817', '1818', '1819', '1820', '1821', '1822', '1823',\n",
       "       '1824', '1825', '1826', '1827', '1828', '1829', '1830', '1831',\n",
       "       '1832', '1833', '1834', '1835', '1836', '1837', '1838', '1839',\n",
       "       '1840', '1841', '1842', '1843', '1844', '1845', '1846', '1847',\n",
       "       '1848', '1849', '1850', '1851', '1852', '1853', '1854', '1855',\n",
       "       '1856', '1857', '1858', '1859', '1860', '1861', '1862', '1863',\n",
       "       '1864', '1866', '1867', '1868'], dtype=object)"
      ]
     },
     "execution_count": 10,
     "metadata": {},
     "output_type": "execute_result"
    }
   ],
   "source": [
    "case_df['decision_year'] = case_df['decision_date'].astype(str).str[0:4]\n",
    "np.sort(case_df['decision_year'][case_df['citation_type']=='nominative'].unique())"
   ]
  },
  {
   "cell_type": "markdown",
   "metadata": {},
   "source": [
    "As we can see, nominative citations were used from 1778 to 1868."
   ]
  },
  {
   "cell_type": "markdown",
   "metadata": {},
   "source": [
    "## Distribution of Courts\n",
    "Now we can look into how the the distribution of court names is amongst the various states. This would include courts like the Supreme Court of Illinois, Superior Court of Illinois, etc. "
   ]
  },
  {
   "cell_type": "code",
   "execution_count": 28,
   "metadata": {},
   "outputs": [],
   "source": [
    "# add a column to the dataset with the type of court that the case took place in\n",
    "case_df['court_name'] = case_df['court'].apply(lambda x: x['name_abbreviation'])"
   ]
  },
  {
   "cell_type": "code",
   "execution_count": 29,
   "metadata": {},
   "outputs": [
    {
     "data": {
      "application/vnd.plotly.v1+json": {
       "config": {
        "linkText": "Export to plot.ly",
        "plotlyServerURL": "https://plot.ly",
        "showLink": true
       },
       "data": [
        {
         "marker": {
          "color": "rgba(255, 153, 51, 0.8)",
          "line": {
           "color": "rgba(255, 153, 51, 1.0)",
           "width": 1
          }
         },
         "name": "id",
         "orientation": "v",
         "text": "",
         "type": "bar",
         "x": [
          "Ill. App. Ct.",
          "N.C.",
          "Ark.",
          "Ill.",
          "N.C. Ct. App.",
          "N.M.",
          "Ill. Ct. Cl.",
          "Ark. Ct. App.",
          "N.M. Ct. App.",
          "N.C. Super. Ct.",
          "C.C.D.N.C.",
          "Ark. Super. Ct.",
          "Ill. Cir. Ct.",
          "N.C. Ct. Conference",
          "Ark. Cir. Ct.",
          "Ark. Dist. Ct.",
          "N.C. Dist. Ct."
         ],
         "y": [
          123915,
          69323,
          50868,
          49182,
          26959,
          11442,
          9848,
          8506,
          6896,
          900,
          297,
          291,
          201,
          120,
          57,
          13,
          1
         ]
        }
       ],
       "layout": {
        "legend": {
         "bgcolor": "#F5F6F9",
         "font": {
          "color": "#4D5663"
         }
        },
        "paper_bgcolor": "#F5F6F9",
        "plot_bgcolor": "#F5F6F9",
        "template": {
         "data": {
          "bar": [
           {
            "error_x": {
             "color": "#2a3f5f"
            },
            "error_y": {
             "color": "#2a3f5f"
            },
            "marker": {
             "line": {
              "color": "#E5ECF6",
              "width": 0.5
             }
            },
            "type": "bar"
           }
          ],
          "barpolar": [
           {
            "marker": {
             "line": {
              "color": "#E5ECF6",
              "width": 0.5
             }
            },
            "type": "barpolar"
           }
          ],
          "carpet": [
           {
            "aaxis": {
             "endlinecolor": "#2a3f5f",
             "gridcolor": "white",
             "linecolor": "white",
             "minorgridcolor": "white",
             "startlinecolor": "#2a3f5f"
            },
            "baxis": {
             "endlinecolor": "#2a3f5f",
             "gridcolor": "white",
             "linecolor": "white",
             "minorgridcolor": "white",
             "startlinecolor": "#2a3f5f"
            },
            "type": "carpet"
           }
          ],
          "choropleth": [
           {
            "colorbar": {
             "outlinewidth": 0,
             "ticks": ""
            },
            "type": "choropleth"
           }
          ],
          "contour": [
           {
            "colorbar": {
             "outlinewidth": 0,
             "ticks": ""
            },
            "colorscale": [
             [
              0,
              "#0d0887"
             ],
             [
              0.1111111111111111,
              "#46039f"
             ],
             [
              0.2222222222222222,
              "#7201a8"
             ],
             [
              0.3333333333333333,
              "#9c179e"
             ],
             [
              0.4444444444444444,
              "#bd3786"
             ],
             [
              0.5555555555555556,
              "#d8576b"
             ],
             [
              0.6666666666666666,
              "#ed7953"
             ],
             [
              0.7777777777777778,
              "#fb9f3a"
             ],
             [
              0.8888888888888888,
              "#fdca26"
             ],
             [
              1,
              "#f0f921"
             ]
            ],
            "type": "contour"
           }
          ],
          "contourcarpet": [
           {
            "colorbar": {
             "outlinewidth": 0,
             "ticks": ""
            },
            "type": "contourcarpet"
           }
          ],
          "heatmap": [
           {
            "colorbar": {
             "outlinewidth": 0,
             "ticks": ""
            },
            "colorscale": [
             [
              0,
              "#0d0887"
             ],
             [
              0.1111111111111111,
              "#46039f"
             ],
             [
              0.2222222222222222,
              "#7201a8"
             ],
             [
              0.3333333333333333,
              "#9c179e"
             ],
             [
              0.4444444444444444,
              "#bd3786"
             ],
             [
              0.5555555555555556,
              "#d8576b"
             ],
             [
              0.6666666666666666,
              "#ed7953"
             ],
             [
              0.7777777777777778,
              "#fb9f3a"
             ],
             [
              0.8888888888888888,
              "#fdca26"
             ],
             [
              1,
              "#f0f921"
             ]
            ],
            "type": "heatmap"
           }
          ],
          "heatmapgl": [
           {
            "colorbar": {
             "outlinewidth": 0,
             "ticks": ""
            },
            "colorscale": [
             [
              0,
              "#0d0887"
             ],
             [
              0.1111111111111111,
              "#46039f"
             ],
             [
              0.2222222222222222,
              "#7201a8"
             ],
             [
              0.3333333333333333,
              "#9c179e"
             ],
             [
              0.4444444444444444,
              "#bd3786"
             ],
             [
              0.5555555555555556,
              "#d8576b"
             ],
             [
              0.6666666666666666,
              "#ed7953"
             ],
             [
              0.7777777777777778,
              "#fb9f3a"
             ],
             [
              0.8888888888888888,
              "#fdca26"
             ],
             [
              1,
              "#f0f921"
             ]
            ],
            "type": "heatmapgl"
           }
          ],
          "histogram": [
           {
            "marker": {
             "colorbar": {
              "outlinewidth": 0,
              "ticks": ""
             }
            },
            "type": "histogram"
           }
          ],
          "histogram2d": [
           {
            "colorbar": {
             "outlinewidth": 0,
             "ticks": ""
            },
            "colorscale": [
             [
              0,
              "#0d0887"
             ],
             [
              0.1111111111111111,
              "#46039f"
             ],
             [
              0.2222222222222222,
              "#7201a8"
             ],
             [
              0.3333333333333333,
              "#9c179e"
             ],
             [
              0.4444444444444444,
              "#bd3786"
             ],
             [
              0.5555555555555556,
              "#d8576b"
             ],
             [
              0.6666666666666666,
              "#ed7953"
             ],
             [
              0.7777777777777778,
              "#fb9f3a"
             ],
             [
              0.8888888888888888,
              "#fdca26"
             ],
             [
              1,
              "#f0f921"
             ]
            ],
            "type": "histogram2d"
           }
          ],
          "histogram2dcontour": [
           {
            "colorbar": {
             "outlinewidth": 0,
             "ticks": ""
            },
            "colorscale": [
             [
              0,
              "#0d0887"
             ],
             [
              0.1111111111111111,
              "#46039f"
             ],
             [
              0.2222222222222222,
              "#7201a8"
             ],
             [
              0.3333333333333333,
              "#9c179e"
             ],
             [
              0.4444444444444444,
              "#bd3786"
             ],
             [
              0.5555555555555556,
              "#d8576b"
             ],
             [
              0.6666666666666666,
              "#ed7953"
             ],
             [
              0.7777777777777778,
              "#fb9f3a"
             ],
             [
              0.8888888888888888,
              "#fdca26"
             ],
             [
              1,
              "#f0f921"
             ]
            ],
            "type": "histogram2dcontour"
           }
          ],
          "mesh3d": [
           {
            "colorbar": {
             "outlinewidth": 0,
             "ticks": ""
            },
            "type": "mesh3d"
           }
          ],
          "parcoords": [
           {
            "line": {
             "colorbar": {
              "outlinewidth": 0,
              "ticks": ""
             }
            },
            "type": "parcoords"
           }
          ],
          "pie": [
           {
            "automargin": true,
            "type": "pie"
           }
          ],
          "scatter": [
           {
            "marker": {
             "colorbar": {
              "outlinewidth": 0,
              "ticks": ""
             }
            },
            "type": "scatter"
           }
          ],
          "scatter3d": [
           {
            "line": {
             "colorbar": {
              "outlinewidth": 0,
              "ticks": ""
             }
            },
            "marker": {
             "colorbar": {
              "outlinewidth": 0,
              "ticks": ""
             }
            },
            "type": "scatter3d"
           }
          ],
          "scattercarpet": [
           {
            "marker": {
             "colorbar": {
              "outlinewidth": 0,
              "ticks": ""
             }
            },
            "type": "scattercarpet"
           }
          ],
          "scattergeo": [
           {
            "marker": {
             "colorbar": {
              "outlinewidth": 0,
              "ticks": ""
             }
            },
            "type": "scattergeo"
           }
          ],
          "scattergl": [
           {
            "marker": {
             "colorbar": {
              "outlinewidth": 0,
              "ticks": ""
             }
            },
            "type": "scattergl"
           }
          ],
          "scattermapbox": [
           {
            "marker": {
             "colorbar": {
              "outlinewidth": 0,
              "ticks": ""
             }
            },
            "type": "scattermapbox"
           }
          ],
          "scatterpolar": [
           {
            "marker": {
             "colorbar": {
              "outlinewidth": 0,
              "ticks": ""
             }
            },
            "type": "scatterpolar"
           }
          ],
          "scatterpolargl": [
           {
            "marker": {
             "colorbar": {
              "outlinewidth": 0,
              "ticks": ""
             }
            },
            "type": "scatterpolargl"
           }
          ],
          "scatterternary": [
           {
            "marker": {
             "colorbar": {
              "outlinewidth": 0,
              "ticks": ""
             }
            },
            "type": "scatterternary"
           }
          ],
          "surface": [
           {
            "colorbar": {
             "outlinewidth": 0,
             "ticks": ""
            },
            "colorscale": [
             [
              0,
              "#0d0887"
             ],
             [
              0.1111111111111111,
              "#46039f"
             ],
             [
              0.2222222222222222,
              "#7201a8"
             ],
             [
              0.3333333333333333,
              "#9c179e"
             ],
             [
              0.4444444444444444,
              "#bd3786"
             ],
             [
              0.5555555555555556,
              "#d8576b"
             ],
             [
              0.6666666666666666,
              "#ed7953"
             ],
             [
              0.7777777777777778,
              "#fb9f3a"
             ],
             [
              0.8888888888888888,
              "#fdca26"
             ],
             [
              1,
              "#f0f921"
             ]
            ],
            "type": "surface"
           }
          ],
          "table": [
           {
            "cells": {
             "fill": {
              "color": "#EBF0F8"
             },
             "line": {
              "color": "white"
             }
            },
            "header": {
             "fill": {
              "color": "#C8D4E3"
             },
             "line": {
              "color": "white"
             }
            },
            "type": "table"
           }
          ]
         },
         "layout": {
          "annotationdefaults": {
           "arrowcolor": "#2a3f5f",
           "arrowhead": 0,
           "arrowwidth": 1
          },
          "coloraxis": {
           "colorbar": {
            "outlinewidth": 0,
            "ticks": ""
           }
          },
          "colorscale": {
           "diverging": [
            [
             0,
             "#8e0152"
            ],
            [
             0.1,
             "#c51b7d"
            ],
            [
             0.2,
             "#de77ae"
            ],
            [
             0.3,
             "#f1b6da"
            ],
            [
             0.4,
             "#fde0ef"
            ],
            [
             0.5,
             "#f7f7f7"
            ],
            [
             0.6,
             "#e6f5d0"
            ],
            [
             0.7,
             "#b8e186"
            ],
            [
             0.8,
             "#7fbc41"
            ],
            [
             0.9,
             "#4d9221"
            ],
            [
             1,
             "#276419"
            ]
           ],
           "sequential": [
            [
             0,
             "#0d0887"
            ],
            [
             0.1111111111111111,
             "#46039f"
            ],
            [
             0.2222222222222222,
             "#7201a8"
            ],
            [
             0.3333333333333333,
             "#9c179e"
            ],
            [
             0.4444444444444444,
             "#bd3786"
            ],
            [
             0.5555555555555556,
             "#d8576b"
            ],
            [
             0.6666666666666666,
             "#ed7953"
            ],
            [
             0.7777777777777778,
             "#fb9f3a"
            ],
            [
             0.8888888888888888,
             "#fdca26"
            ],
            [
             1,
             "#f0f921"
            ]
           ],
           "sequentialminus": [
            [
             0,
             "#0d0887"
            ],
            [
             0.1111111111111111,
             "#46039f"
            ],
            [
             0.2222222222222222,
             "#7201a8"
            ],
            [
             0.3333333333333333,
             "#9c179e"
            ],
            [
             0.4444444444444444,
             "#bd3786"
            ],
            [
             0.5555555555555556,
             "#d8576b"
            ],
            [
             0.6666666666666666,
             "#ed7953"
            ],
            [
             0.7777777777777778,
             "#fb9f3a"
            ],
            [
             0.8888888888888888,
             "#fdca26"
            ],
            [
             1,
             "#f0f921"
            ]
           ]
          },
          "colorway": [
           "#636efa",
           "#EF553B",
           "#00cc96",
           "#ab63fa",
           "#FFA15A",
           "#19d3f3",
           "#FF6692",
           "#B6E880",
           "#FF97FF",
           "#FECB52"
          ],
          "font": {
           "color": "#2a3f5f"
          },
          "geo": {
           "bgcolor": "white",
           "lakecolor": "white",
           "landcolor": "#E5ECF6",
           "showlakes": true,
           "showland": true,
           "subunitcolor": "white"
          },
          "hoverlabel": {
           "align": "left"
          },
          "hovermode": "closest",
          "mapbox": {
           "style": "light"
          },
          "paper_bgcolor": "white",
          "plot_bgcolor": "#E5ECF6",
          "polar": {
           "angularaxis": {
            "gridcolor": "white",
            "linecolor": "white",
            "ticks": ""
           },
           "bgcolor": "#E5ECF6",
           "radialaxis": {
            "gridcolor": "white",
            "linecolor": "white",
            "ticks": ""
           }
          },
          "scene": {
           "xaxis": {
            "backgroundcolor": "#E5ECF6",
            "gridcolor": "white",
            "gridwidth": 2,
            "linecolor": "white",
            "showbackground": true,
            "ticks": "",
            "zerolinecolor": "white"
           },
           "yaxis": {
            "backgroundcolor": "#E5ECF6",
            "gridcolor": "white",
            "gridwidth": 2,
            "linecolor": "white",
            "showbackground": true,
            "ticks": "",
            "zerolinecolor": "white"
           },
           "zaxis": {
            "backgroundcolor": "#E5ECF6",
            "gridcolor": "white",
            "gridwidth": 2,
            "linecolor": "white",
            "showbackground": true,
            "ticks": "",
            "zerolinecolor": "white"
           }
          },
          "shapedefaults": {
           "line": {
            "color": "#2a3f5f"
           }
          },
          "ternary": {
           "aaxis": {
            "gridcolor": "white",
            "linecolor": "white",
            "ticks": ""
           },
           "baxis": {
            "gridcolor": "white",
            "linecolor": "white",
            "ticks": ""
           },
           "bgcolor": "#E5ECF6",
           "caxis": {
            "gridcolor": "white",
            "linecolor": "white",
            "ticks": ""
           }
          },
          "title": {
           "x": 0.05
          },
          "xaxis": {
           "automargin": true,
           "gridcolor": "white",
           "linecolor": "white",
           "ticks": "",
           "title": {
            "standoff": 15
           },
           "zerolinecolor": "white",
           "zerolinewidth": 2
          },
          "yaxis": {
           "automargin": true,
           "gridcolor": "white",
           "linecolor": "white",
           "ticks": "",
           "title": {
            "standoff": 15
           },
           "zerolinecolor": "white",
           "zerolinewidth": 2
          }
         }
        },
        "title": {
         "font": {
          "color": "#4D5663"
         },
         "text": "Bar chart of Courts for all States"
        },
        "xaxis": {
         "gridcolor": "#E1E5ED",
         "linecolor": "black",
         "showgrid": true,
         "tickfont": {
          "color": "#4D5663"
         },
         "title": {
          "font": {
           "color": "#4D5663"
          },
          "text": "Court Name"
         },
         "zerolinecolor": "#E1E5ED"
        },
        "yaxis": {
         "gridcolor": "#E1E5ED",
         "linecolor": "black",
         "showgrid": true,
         "tickfont": {
          "color": "#4D5663"
         },
         "title": {
          "font": {
           "color": "#4D5663"
          },
          "text": "Count"
         },
         "zerolinecolor": "#E1E5ED"
        }
       }
      },
      "text/html": [
       "<div>\n",
       "        \n",
       "        \n",
       "            <div id=\"fec707f8-95b3-498b-a11f-b8e8945c3d95\" class=\"plotly-graph-div\" style=\"height:525px; width:100%;\"></div>\n",
       "            <script type=\"text/javascript\">\n",
       "                require([\"plotly\"], function(Plotly) {\n",
       "                    window.PLOTLYENV=window.PLOTLYENV || {};\n",
       "                    window.PLOTLYENV.BASE_URL='https://plot.ly';\n",
       "                    \n",
       "                if (document.getElementById(\"fec707f8-95b3-498b-a11f-b8e8945c3d95\")) {\n",
       "                    Plotly.newPlot(\n",
       "                        'fec707f8-95b3-498b-a11f-b8e8945c3d95',\n",
       "                        [{\"marker\": {\"color\": \"rgba(255, 153, 51, 0.8)\", \"line\": {\"color\": \"rgba(255, 153, 51, 1.0)\", \"width\": 1}}, \"name\": \"id\", \"orientation\": \"v\", \"text\": \"\", \"type\": \"bar\", \"x\": [\"Ill. App. Ct.\", \"N.C.\", \"Ark.\", \"Ill.\", \"N.C. Ct. App.\", \"N.M.\", \"Ill. Ct. Cl.\", \"Ark. Ct. App.\", \"N.M. Ct. App.\", \"N.C. Super. Ct.\", \"C.C.D.N.C.\", \"Ark. Super. Ct.\", \"Ill. Cir. Ct.\", \"N.C. Ct. Conference\", \"Ark. Cir. Ct.\", \"Ark. Dist. Ct.\", \"N.C. Dist. Ct.\"], \"y\": [123915, 69323, 50868, 49182, 26959, 11442, 9848, 8506, 6896, 900, 297, 291, 201, 120, 57, 13, 1]}],\n",
       "                        {\"legend\": {\"bgcolor\": \"#F5F6F9\", \"font\": {\"color\": \"#4D5663\"}}, \"paper_bgcolor\": \"#F5F6F9\", \"plot_bgcolor\": \"#F5F6F9\", \"template\": {\"data\": {\"bar\": [{\"error_x\": {\"color\": \"#2a3f5f\"}, \"error_y\": {\"color\": \"#2a3f5f\"}, \"marker\": {\"line\": {\"color\": \"#E5ECF6\", \"width\": 0.5}}, \"type\": \"bar\"}], \"barpolar\": [{\"marker\": {\"line\": {\"color\": \"#E5ECF6\", \"width\": 0.5}}, \"type\": \"barpolar\"}], \"carpet\": [{\"aaxis\": {\"endlinecolor\": \"#2a3f5f\", \"gridcolor\": \"white\", \"linecolor\": \"white\", \"minorgridcolor\": \"white\", \"startlinecolor\": \"#2a3f5f\"}, \"baxis\": {\"endlinecolor\": \"#2a3f5f\", \"gridcolor\": \"white\", \"linecolor\": \"white\", \"minorgridcolor\": \"white\", \"startlinecolor\": \"#2a3f5f\"}, \"type\": \"carpet\"}], \"choropleth\": [{\"colorbar\": {\"outlinewidth\": 0, \"ticks\": \"\"}, \"type\": \"choropleth\"}], \"contour\": [{\"colorbar\": {\"outlinewidth\": 0, \"ticks\": \"\"}, \"colorscale\": [[0.0, \"#0d0887\"], [0.1111111111111111, \"#46039f\"], [0.2222222222222222, \"#7201a8\"], [0.3333333333333333, \"#9c179e\"], [0.4444444444444444, \"#bd3786\"], [0.5555555555555556, \"#d8576b\"], [0.6666666666666666, \"#ed7953\"], [0.7777777777777778, \"#fb9f3a\"], [0.8888888888888888, \"#fdca26\"], [1.0, \"#f0f921\"]], \"type\": \"contour\"}], \"contourcarpet\": [{\"colorbar\": {\"outlinewidth\": 0, \"ticks\": \"\"}, \"type\": \"contourcarpet\"}], \"heatmap\": [{\"colorbar\": {\"outlinewidth\": 0, \"ticks\": \"\"}, \"colorscale\": [[0.0, \"#0d0887\"], [0.1111111111111111, \"#46039f\"], [0.2222222222222222, \"#7201a8\"], [0.3333333333333333, \"#9c179e\"], [0.4444444444444444, \"#bd3786\"], [0.5555555555555556, \"#d8576b\"], [0.6666666666666666, \"#ed7953\"], [0.7777777777777778, \"#fb9f3a\"], [0.8888888888888888, \"#fdca26\"], [1.0, \"#f0f921\"]], \"type\": \"heatmap\"}], \"heatmapgl\": [{\"colorbar\": {\"outlinewidth\": 0, \"ticks\": \"\"}, \"colorscale\": [[0.0, \"#0d0887\"], [0.1111111111111111, \"#46039f\"], [0.2222222222222222, \"#7201a8\"], [0.3333333333333333, \"#9c179e\"], [0.4444444444444444, \"#bd3786\"], [0.5555555555555556, \"#d8576b\"], [0.6666666666666666, \"#ed7953\"], [0.7777777777777778, \"#fb9f3a\"], [0.8888888888888888, \"#fdca26\"], [1.0, \"#f0f921\"]], \"type\": \"heatmapgl\"}], \"histogram\": [{\"marker\": {\"colorbar\": {\"outlinewidth\": 0, \"ticks\": \"\"}}, \"type\": \"histogram\"}], \"histogram2d\": [{\"colorbar\": {\"outlinewidth\": 0, \"ticks\": \"\"}, \"colorscale\": [[0.0, \"#0d0887\"], [0.1111111111111111, \"#46039f\"], [0.2222222222222222, \"#7201a8\"], [0.3333333333333333, \"#9c179e\"], [0.4444444444444444, \"#bd3786\"], [0.5555555555555556, \"#d8576b\"], [0.6666666666666666, \"#ed7953\"], [0.7777777777777778, \"#fb9f3a\"], [0.8888888888888888, \"#fdca26\"], [1.0, \"#f0f921\"]], \"type\": \"histogram2d\"}], \"histogram2dcontour\": [{\"colorbar\": {\"outlinewidth\": 0, \"ticks\": \"\"}, \"colorscale\": [[0.0, \"#0d0887\"], [0.1111111111111111, \"#46039f\"], [0.2222222222222222, \"#7201a8\"], [0.3333333333333333, \"#9c179e\"], [0.4444444444444444, \"#bd3786\"], [0.5555555555555556, \"#d8576b\"], [0.6666666666666666, \"#ed7953\"], [0.7777777777777778, \"#fb9f3a\"], [0.8888888888888888, \"#fdca26\"], [1.0, \"#f0f921\"]], \"type\": \"histogram2dcontour\"}], \"mesh3d\": [{\"colorbar\": {\"outlinewidth\": 0, \"ticks\": \"\"}, \"type\": \"mesh3d\"}], \"parcoords\": [{\"line\": {\"colorbar\": {\"outlinewidth\": 0, \"ticks\": \"\"}}, \"type\": \"parcoords\"}], \"pie\": [{\"automargin\": true, \"type\": \"pie\"}], \"scatter\": [{\"marker\": {\"colorbar\": {\"outlinewidth\": 0, \"ticks\": \"\"}}, \"type\": \"scatter\"}], \"scatter3d\": [{\"line\": {\"colorbar\": {\"outlinewidth\": 0, \"ticks\": \"\"}}, \"marker\": {\"colorbar\": {\"outlinewidth\": 0, \"ticks\": \"\"}}, \"type\": \"scatter3d\"}], \"scattercarpet\": [{\"marker\": {\"colorbar\": {\"outlinewidth\": 0, \"ticks\": \"\"}}, \"type\": \"scattercarpet\"}], \"scattergeo\": [{\"marker\": {\"colorbar\": {\"outlinewidth\": 0, \"ticks\": \"\"}}, \"type\": \"scattergeo\"}], \"scattergl\": [{\"marker\": {\"colorbar\": {\"outlinewidth\": 0, \"ticks\": \"\"}}, \"type\": \"scattergl\"}], \"scattermapbox\": [{\"marker\": {\"colorbar\": {\"outlinewidth\": 0, \"ticks\": \"\"}}, \"type\": \"scattermapbox\"}], \"scatterpolar\": [{\"marker\": {\"colorbar\": {\"outlinewidth\": 0, \"ticks\": \"\"}}, \"type\": \"scatterpolar\"}], \"scatterpolargl\": [{\"marker\": {\"colorbar\": {\"outlinewidth\": 0, \"ticks\": \"\"}}, \"type\": \"scatterpolargl\"}], \"scatterternary\": [{\"marker\": {\"colorbar\": {\"outlinewidth\": 0, \"ticks\": \"\"}}, \"type\": \"scatterternary\"}], \"surface\": [{\"colorbar\": {\"outlinewidth\": 0, \"ticks\": \"\"}, \"colorscale\": [[0.0, \"#0d0887\"], [0.1111111111111111, \"#46039f\"], [0.2222222222222222, \"#7201a8\"], [0.3333333333333333, \"#9c179e\"], [0.4444444444444444, \"#bd3786\"], [0.5555555555555556, \"#d8576b\"], [0.6666666666666666, \"#ed7953\"], [0.7777777777777778, \"#fb9f3a\"], [0.8888888888888888, \"#fdca26\"], [1.0, \"#f0f921\"]], \"type\": \"surface\"}], \"table\": [{\"cells\": {\"fill\": {\"color\": \"#EBF0F8\"}, \"line\": {\"color\": \"white\"}}, \"header\": {\"fill\": {\"color\": \"#C8D4E3\"}, \"line\": {\"color\": \"white\"}}, \"type\": \"table\"}]}, \"layout\": {\"annotationdefaults\": {\"arrowcolor\": \"#2a3f5f\", \"arrowhead\": 0, \"arrowwidth\": 1}, \"coloraxis\": {\"colorbar\": {\"outlinewidth\": 0, \"ticks\": \"\"}}, \"colorscale\": {\"diverging\": [[0, \"#8e0152\"], [0.1, \"#c51b7d\"], [0.2, \"#de77ae\"], [0.3, \"#f1b6da\"], [0.4, \"#fde0ef\"], [0.5, \"#f7f7f7\"], [0.6, \"#e6f5d0\"], [0.7, \"#b8e186\"], [0.8, \"#7fbc41\"], [0.9, \"#4d9221\"], [1, \"#276419\"]], \"sequential\": [[0.0, \"#0d0887\"], [0.1111111111111111, \"#46039f\"], [0.2222222222222222, \"#7201a8\"], [0.3333333333333333, \"#9c179e\"], [0.4444444444444444, \"#bd3786\"], [0.5555555555555556, \"#d8576b\"], [0.6666666666666666, \"#ed7953\"], [0.7777777777777778, \"#fb9f3a\"], [0.8888888888888888, \"#fdca26\"], [1.0, \"#f0f921\"]], \"sequentialminus\": [[0.0, \"#0d0887\"], [0.1111111111111111, \"#46039f\"], [0.2222222222222222, \"#7201a8\"], [0.3333333333333333, \"#9c179e\"], [0.4444444444444444, \"#bd3786\"], [0.5555555555555556, \"#d8576b\"], [0.6666666666666666, \"#ed7953\"], [0.7777777777777778, \"#fb9f3a\"], [0.8888888888888888, \"#fdca26\"], [1.0, \"#f0f921\"]]}, \"colorway\": [\"#636efa\", \"#EF553B\", \"#00cc96\", \"#ab63fa\", \"#FFA15A\", \"#19d3f3\", \"#FF6692\", \"#B6E880\", \"#FF97FF\", \"#FECB52\"], \"font\": {\"color\": \"#2a3f5f\"}, \"geo\": {\"bgcolor\": \"white\", \"lakecolor\": \"white\", \"landcolor\": \"#E5ECF6\", \"showlakes\": true, \"showland\": true, \"subunitcolor\": \"white\"}, \"hoverlabel\": {\"align\": \"left\"}, \"hovermode\": \"closest\", \"mapbox\": {\"style\": \"light\"}, \"paper_bgcolor\": \"white\", \"plot_bgcolor\": \"#E5ECF6\", \"polar\": {\"angularaxis\": {\"gridcolor\": \"white\", \"linecolor\": \"white\", \"ticks\": \"\"}, \"bgcolor\": \"#E5ECF6\", \"radialaxis\": {\"gridcolor\": \"white\", \"linecolor\": \"white\", \"ticks\": \"\"}}, \"scene\": {\"xaxis\": {\"backgroundcolor\": \"#E5ECF6\", \"gridcolor\": \"white\", \"gridwidth\": 2, \"linecolor\": \"white\", \"showbackground\": true, \"ticks\": \"\", \"zerolinecolor\": \"white\"}, \"yaxis\": {\"backgroundcolor\": \"#E5ECF6\", \"gridcolor\": \"white\", \"gridwidth\": 2, \"linecolor\": \"white\", \"showbackground\": true, \"ticks\": \"\", \"zerolinecolor\": \"white\"}, \"zaxis\": {\"backgroundcolor\": \"#E5ECF6\", \"gridcolor\": \"white\", \"gridwidth\": 2, \"linecolor\": \"white\", \"showbackground\": true, \"ticks\": \"\", \"zerolinecolor\": \"white\"}}, \"shapedefaults\": {\"line\": {\"color\": \"#2a3f5f\"}}, \"ternary\": {\"aaxis\": {\"gridcolor\": \"white\", \"linecolor\": \"white\", \"ticks\": \"\"}, \"baxis\": {\"gridcolor\": \"white\", \"linecolor\": \"white\", \"ticks\": \"\"}, \"bgcolor\": \"#E5ECF6\", \"caxis\": {\"gridcolor\": \"white\", \"linecolor\": \"white\", \"ticks\": \"\"}}, \"title\": {\"x\": 0.05}, \"xaxis\": {\"automargin\": true, \"gridcolor\": \"white\", \"linecolor\": \"white\", \"ticks\": \"\", \"title\": {\"standoff\": 15}, \"zerolinecolor\": \"white\", \"zerolinewidth\": 2}, \"yaxis\": {\"automargin\": true, \"gridcolor\": \"white\", \"linecolor\": \"white\", \"ticks\": \"\", \"title\": {\"standoff\": 15}, \"zerolinecolor\": \"white\", \"zerolinewidth\": 2}}}, \"title\": {\"font\": {\"color\": \"#4D5663\"}, \"text\": \"Bar chart of Courts for all States\"}, \"xaxis\": {\"gridcolor\": \"#E1E5ED\", \"linecolor\": \"black\", \"showgrid\": true, \"tickfont\": {\"color\": \"#4D5663\"}, \"title\": {\"font\": {\"color\": \"#4D5663\"}, \"text\": \"Court Name\"}, \"zerolinecolor\": \"#E1E5ED\"}, \"yaxis\": {\"gridcolor\": \"#E1E5ED\", \"linecolor\": \"black\", \"showgrid\": true, \"tickfont\": {\"color\": \"#4D5663\"}, \"title\": {\"font\": {\"color\": \"#4D5663\"}, \"text\": \"Count\"}, \"zerolinecolor\": \"#E1E5ED\"}},\n",
       "                        {\"showLink\": true, \"linkText\": \"Export to plot.ly\", \"plotlyServerURL\": \"https://plot.ly\", \"responsive\": true}\n",
       "                    ).then(function(){\n",
       "                            \n",
       "var gd = document.getElementById('fec707f8-95b3-498b-a11f-b8e8945c3d95');\n",
       "var x = new MutationObserver(function (mutations, observer) {{\n",
       "        var display = window.getComputedStyle(gd).display;\n",
       "        if (!display || display === 'none') {{\n",
       "            console.log([gd, 'removed!']);\n",
       "            Plotly.purge(gd);\n",
       "            observer.disconnect();\n",
       "        }}\n",
       "}});\n",
       "\n",
       "// Listen for the removal of the full notebook cells\n",
       "var notebookContainer = gd.closest('#notebook-container');\n",
       "if (notebookContainer) {{\n",
       "    x.observe(notebookContainer, {childList: true});\n",
       "}}\n",
       "\n",
       "// Listen for the clearing of the current output cell\n",
       "var outputEl = gd.closest('.output');\n",
       "if (outputEl) {{\n",
       "    x.observe(outputEl, {childList: true});\n",
       "}}\n",
       "\n",
       "                        })\n",
       "                };\n",
       "                });\n",
       "            </script>\n",
       "        </div>"
      ]
     },
     "metadata": {},
     "output_type": "display_data"
    },
    {
     "data": {
      "text/plain": [
       "<Figure size 432x288 with 0 Axes>"
      ]
     },
     "metadata": {},
     "output_type": "display_data"
    }
   ],
   "source": [
    "# make plot for the distribution of courts for all states\n",
    "case_df.groupby('court_name').count()['id'].sort_values(ascending=False).iplot(kind='bar',\n",
    "                                            yTitle='Count', linecolor='black', opacity=0.8,\n",
    "                                            title='Bar chart of Courts for all States', xTitle='Court Name')\n",
    "plt.savefig('courts.png')"
   ]
  },
  {
   "cell_type": "markdown",
   "metadata": {},
   "source": [
    "As we can see, Illinois Appellate Court had the most cases, followed by North Carolina, Arkansas, Illinois, and North Carolina Circuit Appellate Court. This is not terribly informative because Illinois is that largest state with the most cases, so it makes sense that one of its courts has the most cases. It also appears that the district courts tend to have a low number of cases, indicating that either the cases didn't go to court and settled outside of court or there just aren't as many cases."
   ]
  },
  {
   "cell_type": "markdown",
   "metadata": {},
   "source": [
    "## Distribution of Types of Cases\n",
    "Now we wanted to investigate how often certain kinds of cases occur. In our case, we thought it would be interesting to see how many cases are against the state versus other entities since this could perhaps provide insight into potential satisfaction with the state."
   ]
  },
  {
   "cell_type": "code",
   "execution_count": 5,
   "metadata": {},
   "outputs": [],
   "source": [
    "case_df['case_vs_state'] = 1*(case_df.name_abbreviation.str.contains(\"State\") | case_df.name_abbreviation.str.contains(\"state\")) "
   ]
  },
  {
   "cell_type": "code",
   "execution_count": 6,
   "metadata": {},
   "outputs": [
    {
     "data": {
      "image/png": "[encoded data removed]",
      "text/plain": [
       "<Figure size 432x288 with 1 Axes>"
      ]
     },
     "metadata": {
      "image/png": {
       "height": 340,
       "width": 433
      },
      "needs_background": "light"
     },
     "output_type": "display_data"
    },
    {
     "data": {
      "text/plain": [
       "<Figure size 432x288 with 0 Axes>"
      ]
     },
     "metadata": {},
     "output_type": "display_data"
    }
   ],
   "source": [
    "df=case_df.groupby(['state','case_vs_state']).size()\n",
    "df=df.unstack()\n",
    "df.plot(kind='bar')\n",
    "plt.ylabel('Count')\n",
    "plt.title('Number of Cases Against or Not Against the State in Each State')\n",
    "plt.show()\n",
    "plt.savefig('Cases_against_state.png')"
   ]
  },
  {
   "cell_type": "markdown",
   "metadata": {},
   "source": [
    "As one would likely suspect, most cases are not against the respective state that the case took place, but rather against entities outside of the state. Some states have a higher ratio than others of cases versus the state, such as North Carolina, but they are typically significantly less than the other types of cases. "
   ]
  },
  {
   "cell_type": "markdown",
   "metadata": {},
   "source": [
    "## Distribution of Cases Over Time\n",
    "Lastly, we wanted to look at how the total number of cases has changed over time by looking at the distribution of cases for all of the states."
   ]
  },
  {
   "cell_type": "code",
   "execution_count": 11,
   "metadata": {},
   "outputs": [
    {
     "data": {
      "application/vnd.plotly.v1+json": {
       "config": {
        "linkText": "Export to plot.ly",
        "plotlyServerURL": "https://plot.ly",
        "showLink": true
       },
       "data": [
        {
         "marker": {
          "color": "rgba(255, 153, 51, 0.8)",
          "line": {
           "color": "rgba(255, 153, 51, 1.0)",
           "width": 1
          }
         },
         "name": "id",
         "orientation": "v",
         "text": "",
         "type": "bar",
         "x": [
          "1974",
          "1980",
          "1975",
          "1973",
          "1972",
          "1979",
          "1981",
          "1985",
          "1991",
          "1986",
          "1987",
          "1978",
          "1984",
          "1990",
          "1993",
          "1989",
          "1992",
          "1982",
          "1983",
          "1988",
          "1994",
          "1977",
          "1976",
          "1971",
          "2002",
          "2005",
          "1996",
          "1997",
          "1995",
          "1998",
          "2001",
          "2003",
          "2000",
          "1970",
          "1917",
          "1999",
          "2007",
          "2006",
          "1914",
          "1927",
          "1916",
          "1969",
          "2004",
          "1913",
          "1915",
          "1925",
          "1968",
          "1930",
          "1912",
          "1928",
          "1924",
          "1923",
          "1920",
          "1922",
          "1929",
          "1931",
          "1926",
          "1918",
          "1911",
          "1908",
          "1934",
          "1935",
          "1921",
          "1967",
          "1932",
          "1966",
          "1907",
          "2008",
          "1905",
          "1906",
          "1933",
          "2009",
          "1910",
          "1919",
          "1909",
          "1896",
          "1898",
          "1937",
          "1900",
          "1936",
          "1899",
          "2010",
          "1938",
          "1902",
          "1897",
          "1901",
          "1965",
          "1903",
          "1904",
          "1939",
          "2013",
          "1895",
          "1940",
          "1963",
          "1964",
          "1941",
          "1942",
          "1894",
          "2014",
          "1962",
          "1892",
          "1889",
          "1890",
          "2016",
          "2015",
          "1886",
          "1961",
          "1950",
          "1891",
          "1947",
          "2012",
          "1943",
          "1952",
          "1949",
          "2011",
          "1951",
          "1944",
          "1960",
          "1893",
          "1953",
          "1948",
          "1956",
          "1954",
          "1958",
          "1959",
          "1887",
          "1878",
          "1888",
          "1955",
          "1957",
          "1945",
          "1946",
          "1882",
          "1880",
          "1884",
          "1885",
          "1874",
          "1881",
          "1875",
          "1883",
          "2017",
          "1873",
          "1876",
          "1872",
          "1877",
          "1871",
          "1879",
          "1870",
          "1860",
          "1859",
          "1867",
          "1869",
          "1853",
          "1868",
          "1857",
          "1850",
          "1858",
          "1861",
          "1854",
          "1855",
          "1856",
          "1864",
          "1866",
          "1851",
          "1849",
          "1842",
          "1852",
          "1845",
          "1862",
          "1847",
          "1848",
          "1844",
          "1843",
          "1840",
          "1846",
          "1841",
          "1863",
          "1865",
          "1793",
          "1839",
          "1830",
          "1838",
          "1828",
          "1837",
          "1831",
          "1832",
          "1833",
          "1835",
          "1829",
          "1836",
          "1834",
          "1819",
          "1796",
          "1824",
          "1825",
          "1826",
          "1827",
          "1822",
          "1801",
          "1802",
          "1804",
          "1799",
          "1816",
          "1805",
          "1823",
          "1797",
          "1800",
          "1821",
          "1795",
          "1811",
          "1803",
          "1814",
          "1818",
          "1817",
          "1798",
          "1806",
          "1820",
          "1813",
          "1810",
          "1815",
          "1812",
          "1794",
          "1809",
          "1792",
          "1791",
          "2018",
          "1808",
          "1790",
          "1789",
          "1807",
          "1787",
          "1779",
          "1778",
          "1784",
          "1780",
          "1771"
         ],
         "y": [
          5081,
          5017,
          4847,
          4548,
          4440,
          4400,
          4308,
          4148,
          4135,
          4135,
          4065,
          4006,
          4003,
          3969,
          3966,
          3920,
          3906,
          3894,
          3885,
          3858,
          3828,
          3775,
          3683,
          3431,
          3212,
          3146,
          3092,
          3003,
          3000,
          2991,
          2983,
          2978,
          2945,
          2921,
          2895,
          2841,
          2825,
          2815,
          2742,
          2721,
          2706,
          2701,
          2636,
          2633,
          2630,
          2622,
          2609,
          2605,
          2573,
          2556,
          2532,
          2500,
          2477,
          2433,
          2433,
          2426,
          2406,
          2400,
          2394,
          2368,
          2365,
          2338,
          2333,
          2320,
          2305,
          2289,
          2259,
          2250,
          2250,
          2243,
          2232,
          2213,
          2212,
          2198,
          2192,
          2165,
          2057,
          2056,
          2001,
          1992,
          1986,
          1968,
          1959,
          1940,
          1936,
          1918,
          1909,
          1901,
          1891,
          1872,
          1865,
          1841,
          1814,
          1805,
          1799,
          1714,
          1675,
          1674,
          1658,
          1574,
          1566,
          1557,
          1551,
          1532,
          1531,
          1517,
          1499,
          1491,
          1489,
          1486,
          1477,
          1474,
          1463,
          1460,
          1447,
          1440,
          1434,
          1433,
          1427,
          1417,
          1393,
          1385,
          1380,
          1373,
          1345,
          1343,
          1332,
          1322,
          1320,
          1307,
          1269,
          1237,
          1161,
          1159,
          1133,
          1127,
          1085,
          1080,
          1074,
          1070,
          1017,
          998,
          989,
          952,
          941,
          921,
          881,
          837,
          818,
          701,
          689,
          640,
          543,
          534,
          534,
          509,
          501,
          492,
          491,
          488,
          488,
          464,
          463,
          447,
          446,
          421,
          407,
          388,
          383,
          373,
          371,
          356,
          355,
          332,
          331,
          310,
          303,
          259,
          253,
          252,
          233,
          201,
          188,
          159,
          157,
          154,
          152,
          149,
          148,
          144,
          141,
          119,
          117,
          112,
          110,
          107,
          104,
          99,
          97,
          94,
          89,
          87,
          87,
          87,
          85,
          77,
          73,
          71,
          67,
          67,
          66,
          65,
          64,
          57,
          57,
          56,
          55,
          53,
          49,
          46,
          43,
          40,
          38,
          29,
          19,
          17,
          14,
          12,
          12,
          11,
          3,
          2,
          2,
          1,
          1,
          1
         ]
        }
       ],
       "layout": {
        "legend": {
         "bgcolor": "#F5F6F9",
         "font": {
          "color": "#4D5663"
         }
        },
        "paper_bgcolor": "#F5F6F9",
        "plot_bgcolor": "#F5F6F9",
        "template": {
         "data": {
          "bar": [
           {
            "error_x": {
             "color": "#2a3f5f"
            },
            "error_y": {
             "color": "#2a3f5f"
            },
            "marker": {
             "line": {
              "color": "#E5ECF6",
              "width": 0.5
             }
            },
            "type": "bar"
           }
          ],
          "barpolar": [
           {
            "marker": {
             "line": {
              "color": "#E5ECF6",
              "width": 0.5
             }
            },
            "type": "barpolar"
           }
          ],
          "carpet": [
           {
            "aaxis": {
             "endlinecolor": "#2a3f5f",
             "gridcolor": "white",
             "linecolor": "white",
             "minorgridcolor": "white",
             "startlinecolor": "#2a3f5f"
            },
            "baxis": {
             "endlinecolor": "#2a3f5f",
             "gridcolor": "white",
             "linecolor": "white",
             "minorgridcolor": "white",
             "startlinecolor": "#2a3f5f"
            },
            "type": "carpet"
           }
          ],
          "choropleth": [
           {
            "colorbar": {
             "outlinewidth": 0,
             "ticks": ""
            },
            "type": "choropleth"
           }
          ],
          "contour": [
           {
            "colorbar": {
             "outlinewidth": 0,
             "ticks": ""
            },
            "colorscale": [
             [
              0,
              "#0d0887"
             ],
             [
              0.1111111111111111,
              "#46039f"
             ],
             [
              0.2222222222222222,
              "#7201a8"
             ],
             [
              0.3333333333333333,
              "#9c179e"
             ],
             [
              0.4444444444444444,
              "#bd3786"
             ],
             [
              0.5555555555555556,
              "#d8576b"
             ],
             [
              0.6666666666666666,
              "#ed7953"
             ],
             [
              0.7777777777777778,
              "#fb9f3a"
             ],
             [
              0.8888888888888888,
              "#fdca26"
             ],
             [
              1,
              "#f0f921"
             ]
            ],
            "type": "contour"
           }
          ],
          "contourcarpet": [
           {
            "colorbar": {
             "outlinewidth": 0,
             "ticks": ""
            },
            "type": "contourcarpet"
           }
          ],
          "heatmap": [
           {
            "colorbar": {
             "outlinewidth": 0,
             "ticks": ""
            },
            "colorscale": [
             [
              0,
              "#0d0887"
             ],
             [
              0.1111111111111111,
              "#46039f"
             ],
             [
              0.2222222222222222,
              "#7201a8"
             ],
             [
              0.3333333333333333,
              "#9c179e"
             ],
             [
              0.4444444444444444,
              "#bd3786"
             ],
             [
              0.5555555555555556,
              "#d8576b"
             ],
             [
              0.6666666666666666,
              "#ed7953"
             ],
             [
              0.7777777777777778,
              "#fb9f3a"
             ],
             [
              0.8888888888888888,
              "#fdca26"
             ],
             [
              1,
              "#f0f921"
             ]
            ],
            "type": "heatmap"
           }
          ],
          "heatmapgl": [
           {
            "colorbar": {
             "outlinewidth": 0,
             "ticks": ""
            },
            "colorscale": [
             [
              0,
              "#0d0887"
             ],
             [
              0.1111111111111111,
              "#46039f"
             ],
             [
              0.2222222222222222,
              "#7201a8"
             ],
             [
              0.3333333333333333,
              "#9c179e"
             ],
             [
              0.4444444444444444,
              "#bd3786"
             ],
             [
              0.5555555555555556,
              "#d8576b"
             ],
             [
              0.6666666666666666,
              "#ed7953"
             ],
             [
              0.7777777777777778,
              "#fb9f3a"
             ],
             [
              0.8888888888888888,
              "#fdca26"
             ],
             [
              1,
              "#f0f921"
             ]
            ],
            "type": "heatmapgl"
           }
          ],
          "histogram": [
           {
            "marker": {
             "colorbar": {
              "outlinewidth": 0,
              "ticks": ""
             }
            },
            "type": "histogram"
           }
          ],
          "histogram2d": [
           {
            "colorbar": {
             "outlinewidth": 0,
             "ticks": ""
            },
            "colorscale": [
             [
              0,
              "#0d0887"
             ],
             [
              0.1111111111111111,
              "#46039f"
             ],
             [
              0.2222222222222222,
              "#7201a8"
             ],
             [
              0.3333333333333333,
              "#9c179e"
             ],
             [
              0.4444444444444444,
              "#bd3786"
             ],
             [
              0.5555555555555556,
              "#d8576b"
             ],
             [
              0.6666666666666666,
              "#ed7953"
             ],
             [
              0.7777777777777778,
              "#fb9f3a"
             ],
             [
              0.8888888888888888,
              "#fdca26"
             ],
             [
              1,
              "#f0f921"
             ]
            ],
            "type": "histogram2d"
           }
          ],
          "histogram2dcontour": [
           {
            "colorbar": {
             "outlinewidth": 0,
             "ticks": ""
            },
            "colorscale": [
             [
              0,
              "#0d0887"
             ],
             [
              0.1111111111111111,
              "#46039f"
             ],
             [
              0.2222222222222222,
              "#7201a8"
             ],
             [
              0.3333333333333333,
              "#9c179e"
             ],
             [
              0.4444444444444444,
              "#bd3786"
             ],
             [
              0.5555555555555556,
              "#d8576b"
             ],
             [
              0.6666666666666666,
              "#ed7953"
             ],
             [
              0.7777777777777778,
              "#fb9f3a"
             ],
             [
              0.8888888888888888,
              "#fdca26"
             ],
             [
              1,
              "#f0f921"
             ]
            ],
            "type": "histogram2dcontour"
           }
          ],
          "mesh3d": [
           {
            "colorbar": {
             "outlinewidth": 0,
             "ticks": ""
            },
            "type": "mesh3d"
           }
          ],
          "parcoords": [
           {
            "line": {
             "colorbar": {
              "outlinewidth": 0,
              "ticks": ""
             }
            },
            "type": "parcoords"
           }
          ],
          "pie": [
           {
            "automargin": true,
            "type": "pie"
           }
          ],
          "scatter": [
           {
            "marker": {
             "colorbar": {
              "outlinewidth": 0,
              "ticks": ""
             }
            },
            "type": "scatter"
           }
          ],
          "scatter3d": [
           {
            "line": {
             "colorbar": {
              "outlinewidth": 0,
              "ticks": ""
             }
            },
            "marker": {
             "colorbar": {
              "outlinewidth": 0,
              "ticks": ""
             }
            },
            "type": "scatter3d"
           }
          ],
          "scattercarpet": [
           {
            "marker": {
             "colorbar": {
              "outlinewidth": 0,
              "ticks": ""
             }
            },
            "type": "scattercarpet"
           }
          ],
          "scattergeo": [
           {
            "marker": {
             "colorbar": {
              "outlinewidth": 0,
              "ticks": ""
             }
            },
            "type": "scattergeo"
           }
          ],
          "scattergl": [
           {
            "marker": {
             "colorbar": {
              "outlinewidth": 0,
              "ticks": ""
             }
            },
            "type": "scattergl"
           }
          ],
          "scattermapbox": [
           {
            "marker": {
             "colorbar": {
              "outlinewidth": 0,
              "ticks": ""
             }
            },
            "type": "scattermapbox"
           }
          ],
          "scatterpolar": [
           {
            "marker": {
             "colorbar": {
              "outlinewidth": 0,
              "ticks": ""
             }
            },
            "type": "scatterpolar"
           }
          ],
          "scatterpolargl": [
           {
            "marker": {
             "colorbar": {
              "outlinewidth": 0,
              "ticks": ""
             }
            },
            "type": "scatterpolargl"
           }
          ],
          "scatterternary": [
           {
            "marker": {
             "colorbar": {
              "outlinewidth": 0,
              "ticks": ""
             }
            },
            "type": "scatterternary"
           }
          ],
          "surface": [
           {
            "colorbar": {
             "outlinewidth": 0,
             "ticks": ""
            },
            "colorscale": [
             [
              0,
              "#0d0887"
             ],
             [
              0.1111111111111111,
              "#46039f"
             ],
             [
              0.2222222222222222,
              "#7201a8"
             ],
             [
              0.3333333333333333,
              "#9c179e"
             ],
             [
              0.4444444444444444,
              "#bd3786"
             ],
             [
              0.5555555555555556,
              "#d8576b"
             ],
             [
              0.6666666666666666,
              "#ed7953"
             ],
             [
              0.7777777777777778,
              "#fb9f3a"
             ],
             [
              0.8888888888888888,
              "#fdca26"
             ],
             [
              1,
              "#f0f921"
             ]
            ],
            "type": "surface"
           }
          ],
          "table": [
           {
            "cells": {
             "fill": {
              "color": "#EBF0F8"
             },
             "line": {
              "color": "white"
             }
            },
            "header": {
             "fill": {
              "color": "#C8D4E3"
             },
             "line": {
              "color": "white"
             }
            },
            "type": "table"
           }
          ]
         },
         "layout": {
          "annotationdefaults": {
           "arrowcolor": "#2a3f5f",
           "arrowhead": 0,
           "arrowwidth": 1
          },
          "coloraxis": {
           "colorbar": {
            "outlinewidth": 0,
            "ticks": ""
           }
          },
          "colorscale": {
           "diverging": [
            [
             0,
             "#8e0152"
            ],
            [
             0.1,
             "#c51b7d"
            ],
            [
             0.2,
             "#de77ae"
            ],
            [
             0.3,
             "#f1b6da"
            ],
            [
             0.4,
             "#fde0ef"
            ],
            [
             0.5,
             "#f7f7f7"
            ],
            [
             0.6,
             "#e6f5d0"
            ],
            [
             0.7,
             "#b8e186"
            ],
            [
             0.8,
             "#7fbc41"
            ],
            [
             0.9,
             "#4d9221"
            ],
            [
             1,
             "#276419"
            ]
           ],
           "sequential": [
            [
             0,
             "#0d0887"
            ],
            [
             0.1111111111111111,
             "#46039f"
            ],
            [
             0.2222222222222222,
             "#7201a8"
            ],
            [
             0.3333333333333333,
             "#9c179e"
            ],
            [
             0.4444444444444444,
             "#bd3786"
            ],
            [
             0.5555555555555556,
             "#d8576b"
            ],
            [
             0.6666666666666666,
             "#ed7953"
            ],
            [
             0.7777777777777778,
             "#fb9f3a"
            ],
            [
             0.8888888888888888,
             "#fdca26"
            ],
            [
             1,
             "#f0f921"
            ]
           ],
           "sequentialminus": [
            [
             0,
             "#0d0887"
            ],
            [
             0.1111111111111111,
             "#46039f"
            ],
            [
             0.2222222222222222,
             "#7201a8"
            ],
            [
             0.3333333333333333,
             "#9c179e"
            ],
            [
             0.4444444444444444,
             "#bd3786"
            ],
            [
             0.5555555555555556,
             "#d8576b"
            ],
            [
             0.6666666666666666,
             "#ed7953"
            ],
            [
             0.7777777777777778,
             "#fb9f3a"
            ],
            [
             0.8888888888888888,
             "#fdca26"
            ],
            [
             1,
             "#f0f921"
            ]
           ]
          },
          "colorway": [
           "#636efa",
           "#EF553B",
           "#00cc96",
           "#ab63fa",
           "#FFA15A",
           "#19d3f3",
           "#FF6692",
           "#B6E880",
           "#FF97FF",
           "#FECB52"
          ],
          "font": {
           "color": "#2a3f5f"
          },
          "geo": {
           "bgcolor": "white",
           "lakecolor": "white",
           "landcolor": "#E5ECF6",
           "showlakes": true,
           "showland": true,
           "subunitcolor": "white"
          },
          "hoverlabel": {
           "align": "left"
          },
          "hovermode": "closest",
          "mapbox": {
           "style": "light"
          },
          "paper_bgcolor": "white",
          "plot_bgcolor": "#E5ECF6",
          "polar": {
           "angularaxis": {
            "gridcolor": "white",
            "linecolor": "white",
            "ticks": ""
           },
           "bgcolor": "#E5ECF6",
           "radialaxis": {
            "gridcolor": "white",
            "linecolor": "white",
            "ticks": ""
           }
          },
          "scene": {
           "xaxis": {
            "backgroundcolor": "#E5ECF6",
            "gridcolor": "white",
            "gridwidth": 2,
            "linecolor": "white",
            "showbackground": true,
            "ticks": "",
            "zerolinecolor": "white"
           },
           "yaxis": {
            "backgroundcolor": "#E5ECF6",
            "gridcolor": "white",
            "gridwidth": 2,
            "linecolor": "white",
            "showbackground": true,
            "ticks": "",
            "zerolinecolor": "white"
           },
           "zaxis": {
            "backgroundcolor": "#E5ECF6",
            "gridcolor": "white",
            "gridwidth": 2,
            "linecolor": "white",
            "showbackground": true,
            "ticks": "",
            "zerolinecolor": "white"
           }
          },
          "shapedefaults": {
           "line": {
            "color": "#2a3f5f"
           }
          },
          "ternary": {
           "aaxis": {
            "gridcolor": "white",
            "linecolor": "white",
            "ticks": ""
           },
           "baxis": {
            "gridcolor": "white",
            "linecolor": "white",
            "ticks": ""
           },
           "bgcolor": "#E5ECF6",
           "caxis": {
            "gridcolor": "white",
            "linecolor": "white",
            "ticks": ""
           }
          },
          "title": {
           "x": 0.05
          },
          "xaxis": {
           "automargin": true,
           "gridcolor": "white",
           "linecolor": "white",
           "ticks": "",
           "title": {
            "standoff": 15
           },
           "zerolinecolor": "white",
           "zerolinewidth": 2
          },
          "yaxis": {
           "automargin": true,
           "gridcolor": "white",
           "linecolor": "white",
           "ticks": "",
           "title": {
            "standoff": 15
           },
           "zerolinecolor": "white",
           "zerolinewidth": 2
          }
         }
        },
        "title": {
         "font": {
          "color": "#4D5663"
         },
         "text": "Bar Chart of Number of Cases per Year"
        },
        "xaxis": {
         "gridcolor": "#E1E5ED",
         "linecolor": "black",
         "showgrid": true,
         "tickfont": {
          "color": "#4D5663"
         },
         "title": {
          "font": {
           "color": "#4D5663"
          },
          "text": "Year"
         },
         "zerolinecolor": "#E1E5ED"
        },
        "yaxis": {
         "gridcolor": "#E1E5ED",
         "linecolor": "black",
         "showgrid": true,
         "tickfont": {
          "color": "#4D5663"
         },
         "title": {
          "font": {
           "color": "#4D5663"
          },
          "text": "Count"
         },
         "zerolinecolor": "#E1E5ED"
        }
       }
      },
      "text/html": [
       "<div>\n",
       "        \n",
       "        \n",
       "            <div id=\"9a4209d8-7ed5-4c5c-9630-dffb835f9a7e\" class=\"plotly-graph-div\" style=\"height:525px; width:100%;\"></div>\n",
       "            <script type=\"text/javascript\">\n",
       "                require([\"plotly\"], function(Plotly) {\n",
       "                    window.PLOTLYENV=window.PLOTLYENV || {};\n",
       "                    window.PLOTLYENV.BASE_URL='https://plot.ly';\n",
       "                    \n",
       "                if (document.getElementById(\"9a4209d8-7ed5-4c5c-9630-dffb835f9a7e\")) {\n",
       "                    Plotly.newPlot(\n",
       "                        '9a4209d8-7ed5-4c5c-9630-dffb835f9a7e',\n",
       "                        [{\"marker\": {\"color\": \"rgba(255, 153, 51, 0.8)\", \"line\": {\"color\": \"rgba(255, 153, 51, 1.0)\", \"width\": 1}}, \"name\": \"id\", \"orientation\": \"v\", \"text\": \"\", \"type\": \"bar\", \"x\": [\"1974\", \"1980\", \"1975\", \"1973\", \"1972\", \"1979\", \"1981\", \"1985\", \"1991\", \"1986\", \"1987\", \"1978\", \"1984\", \"1990\", \"1993\", \"1989\", \"1992\", \"1982\", \"1983\", \"1988\", \"1994\", \"1977\", \"1976\", \"1971\", \"2002\", \"2005\", \"1996\", \"1997\", \"1995\", \"1998\", \"2001\", \"2003\", \"2000\", \"1970\", \"1917\", \"1999\", \"2007\", \"2006\", \"1914\", \"1927\", \"1916\", \"1969\", \"2004\", \"1913\", \"1915\", \"1925\", \"1968\", \"1930\", \"1912\", \"1928\", \"1924\", \"1923\", \"1920\", \"1922\", \"1929\", \"1931\", \"1926\", \"1918\", \"1911\", \"1908\", \"1934\", \"1935\", \"1921\", \"1967\", \"1932\", \"1966\", \"1907\", \"2008\", \"1905\", \"1906\", \"1933\", \"2009\", \"1910\", \"1919\", \"1909\", \"1896\", \"1898\", \"1937\", \"1900\", \"1936\", \"1899\", \"2010\", \"1938\", \"1902\", \"1897\", \"1901\", \"1965\", \"1903\", \"1904\", \"1939\", \"2013\", \"1895\", \"1940\", \"1963\", \"1964\", \"1941\", \"1942\", \"1894\", \"2014\", \"1962\", \"1892\", \"1889\", \"1890\", \"2016\", \"2015\", \"1886\", \"1961\", \"1950\", \"1891\", \"1947\", \"2012\", \"1943\", \"1952\", \"1949\", \"2011\", \"1951\", \"1944\", \"1960\", \"1893\", \"1953\", \"1948\", \"1956\", \"1954\", \"1958\", \"1959\", \"1887\", \"1878\", \"1888\", \"1955\", \"1957\", \"1945\", \"1946\", \"1882\", \"1880\", \"1884\", \"1885\", \"1874\", \"1881\", \"1875\", \"1883\", \"2017\", \"1873\", \"1876\", \"1872\", \"1877\", \"1871\", \"1879\", \"1870\", \"1860\", \"1859\", \"1867\", \"1869\", \"1853\", \"1868\", \"1857\", \"1850\", \"1858\", \"1861\", \"1854\", \"1855\", \"1856\", \"1864\", \"1866\", \"1851\", \"1849\", \"1842\", \"1852\", \"1845\", \"1862\", \"1847\", \"1848\", \"1844\", \"1843\", \"1840\", \"1846\", \"1841\", \"1863\", \"1865\", \"1793\", \"1839\", \"1830\", \"1838\", \"1828\", \"1837\", \"1831\", \"1832\", \"1833\", \"1835\", \"1829\", \"1836\", \"1834\", \"1819\", \"1796\", \"1824\", \"1825\", \"1826\", \"1827\", \"1822\", \"1801\", \"1802\", \"1804\", \"1799\", \"1816\", \"1805\", \"1823\", \"1797\", \"1800\", \"1821\", \"1795\", \"1811\", \"1803\", \"1814\", \"1818\", \"1817\", \"1798\", \"1806\", \"1820\", \"1813\", \"1810\", \"1815\", \"1812\", \"1794\", \"1809\", \"1792\", \"1791\", \"2018\", \"1808\", \"1790\", \"1789\", \"1807\", \"1787\", \"1779\", \"1778\", \"1784\", \"1780\", \"1771\"], \"y\": [5081, 5017, 4847, 4548, 4440, 4400, 4308, 4148, 4135, 4135, 4065, 4006, 4003, 3969, 3966, 3920, 3906, 3894, 3885, 3858, 3828, 3775, 3683, 3431, 3212, 3146, 3092, 3003, 3000, 2991, 2983, 2978, 2945, 2921, 2895, 2841, 2825, 2815, 2742, 2721, 2706, 2701, 2636, 2633, 2630, 2622, 2609, 2605, 2573, 2556, 2532, 2500, 2477, 2433, 2433, 2426, 2406, 2400, 2394, 2368, 2365, 2338, 2333, 2320, 2305, 2289, 2259, 2250, 2250, 2243, 2232, 2213, 2212, 2198, 2192, 2165, 2057, 2056, 2001, 1992, 1986, 1968, 1959, 1940, 1936, 1918, 1909, 1901, 1891, 1872, 1865, 1841, 1814, 1805, 1799, 1714, 1675, 1674, 1658, 1574, 1566, 1557, 1551, 1532, 1531, 1517, 1499, 1491, 1489, 1486, 1477, 1474, 1463, 1460, 1447, 1440, 1434, 1433, 1427, 1417, 1393, 1385, 1380, 1373, 1345, 1343, 1332, 1322, 1320, 1307, 1269, 1237, 1161, 1159, 1133, 1127, 1085, 1080, 1074, 1070, 1017, 998, 989, 952, 941, 921, 881, 837, 818, 701, 689, 640, 543, 534, 534, 509, 501, 492, 491, 488, 488, 464, 463, 447, 446, 421, 407, 388, 383, 373, 371, 356, 355, 332, 331, 310, 303, 259, 253, 252, 233, 201, 188, 159, 157, 154, 152, 149, 148, 144, 141, 119, 117, 112, 110, 107, 104, 99, 97, 94, 89, 87, 87, 87, 85, 77, 73, 71, 67, 67, 66, 65, 64, 57, 57, 56, 55, 53, 49, 46, 43, 40, 38, 29, 19, 17, 14, 12, 12, 11, 3, 2, 2, 1, 1, 1]}],\n",
       "                        {\"legend\": {\"bgcolor\": \"#F5F6F9\", \"font\": {\"color\": \"#4D5663\"}}, \"paper_bgcolor\": \"#F5F6F9\", \"plot_bgcolor\": \"#F5F6F9\", \"template\": {\"data\": {\"bar\": [{\"error_x\": {\"color\": \"#2a3f5f\"}, \"error_y\": {\"color\": \"#2a3f5f\"}, \"marker\": {\"line\": {\"color\": \"#E5ECF6\", \"width\": 0.5}}, \"type\": \"bar\"}], \"barpolar\": [{\"marker\": {\"line\": {\"color\": \"#E5ECF6\", \"width\": 0.5}}, \"type\": \"barpolar\"}], \"carpet\": [{\"aaxis\": {\"endlinecolor\": \"#2a3f5f\", \"gridcolor\": \"white\", \"linecolor\": \"white\", \"minorgridcolor\": \"white\", \"startlinecolor\": \"#2a3f5f\"}, \"baxis\": {\"endlinecolor\": \"#2a3f5f\", \"gridcolor\": \"white\", \"linecolor\": \"white\", \"minorgridcolor\": \"white\", \"startlinecolor\": \"#2a3f5f\"}, \"type\": \"carpet\"}], \"choropleth\": [{\"colorbar\": {\"outlinewidth\": 0, \"ticks\": \"\"}, \"type\": \"choropleth\"}], \"contour\": [{\"colorbar\": {\"outlinewidth\": 0, \"ticks\": \"\"}, \"colorscale\": [[0.0, \"#0d0887\"], [0.1111111111111111, \"#46039f\"], [0.2222222222222222, \"#7201a8\"], [0.3333333333333333, \"#9c179e\"], [0.4444444444444444, \"#bd3786\"], [0.5555555555555556, \"#d8576b\"], [0.6666666666666666, \"#ed7953\"], [0.7777777777777778, \"#fb9f3a\"], [0.8888888888888888, \"#fdca26\"], [1.0, \"#f0f921\"]], \"type\": \"contour\"}], \"contourcarpet\": [{\"colorbar\": {\"outlinewidth\": 0, \"ticks\": \"\"}, \"type\": \"contourcarpet\"}], \"heatmap\": [{\"colorbar\": {\"outlinewidth\": 0, \"ticks\": \"\"}, \"colorscale\": [[0.0, \"#0d0887\"], [0.1111111111111111, \"#46039f\"], [0.2222222222222222, \"#7201a8\"], [0.3333333333333333, \"#9c179e\"], [0.4444444444444444, \"#bd3786\"], [0.5555555555555556, \"#d8576b\"], [0.6666666666666666, \"#ed7953\"], [0.7777777777777778, \"#fb9f3a\"], [0.8888888888888888, \"#fdca26\"], [1.0, \"#f0f921\"]], \"type\": \"heatmap\"}], \"heatmapgl\": [{\"colorbar\": {\"outlinewidth\": 0, \"ticks\": \"\"}, \"colorscale\": [[0.0, \"#0d0887\"], [0.1111111111111111, \"#46039f\"], [0.2222222222222222, \"#7201a8\"], [0.3333333333333333, \"#9c179e\"], [0.4444444444444444, \"#bd3786\"], [0.5555555555555556, \"#d8576b\"], [0.6666666666666666, \"#ed7953\"], [0.7777777777777778, \"#fb9f3a\"], [0.8888888888888888, \"#fdca26\"], [1.0, \"#f0f921\"]], \"type\": \"heatmapgl\"}], \"histogram\": [{\"marker\": {\"colorbar\": {\"outlinewidth\": 0, \"ticks\": \"\"}}, \"type\": \"histogram\"}], \"histogram2d\": [{\"colorbar\": {\"outlinewidth\": 0, \"ticks\": \"\"}, \"colorscale\": [[0.0, \"#0d0887\"], [0.1111111111111111, \"#46039f\"], [0.2222222222222222, \"#7201a8\"], [0.3333333333333333, \"#9c179e\"], [0.4444444444444444, \"#bd3786\"], [0.5555555555555556, \"#d8576b\"], [0.6666666666666666, \"#ed7953\"], [0.7777777777777778, \"#fb9f3a\"], [0.8888888888888888, \"#fdca26\"], [1.0, \"#f0f921\"]], \"type\": \"histogram2d\"}], \"histogram2dcontour\": [{\"colorbar\": {\"outlinewidth\": 0, \"ticks\": \"\"}, \"colorscale\": [[0.0, \"#0d0887\"], [0.1111111111111111, \"#46039f\"], [0.2222222222222222, \"#7201a8\"], [0.3333333333333333, \"#9c179e\"], [0.4444444444444444, \"#bd3786\"], [0.5555555555555556, \"#d8576b\"], [0.6666666666666666, \"#ed7953\"], [0.7777777777777778, \"#fb9f3a\"], [0.8888888888888888, \"#fdca26\"], [1.0, \"#f0f921\"]], \"type\": \"histogram2dcontour\"}], \"mesh3d\": [{\"colorbar\": {\"outlinewidth\": 0, \"ticks\": \"\"}, \"type\": \"mesh3d\"}], \"parcoords\": [{\"line\": {\"colorbar\": {\"outlinewidth\": 0, \"ticks\": \"\"}}, \"type\": \"parcoords\"}], \"pie\": [{\"automargin\": true, \"type\": \"pie\"}], \"scatter\": [{\"marker\": {\"colorbar\": {\"outlinewidth\": 0, \"ticks\": \"\"}}, \"type\": \"scatter\"}], \"scatter3d\": [{\"line\": {\"colorbar\": {\"outlinewidth\": 0, \"ticks\": \"\"}}, \"marker\": {\"colorbar\": {\"outlinewidth\": 0, \"ticks\": \"\"}}, \"type\": \"scatter3d\"}], \"scattercarpet\": [{\"marker\": {\"colorbar\": {\"outlinewidth\": 0, \"ticks\": \"\"}}, \"type\": \"scattercarpet\"}], \"scattergeo\": [{\"marker\": {\"colorbar\": {\"outlinewidth\": 0, \"ticks\": \"\"}}, \"type\": \"scattergeo\"}], \"scattergl\": [{\"marker\": {\"colorbar\": {\"outlinewidth\": 0, \"ticks\": \"\"}}, \"type\": \"scattergl\"}], \"scattermapbox\": [{\"marker\": {\"colorbar\": {\"outlinewidth\": 0, \"ticks\": \"\"}}, \"type\": \"scattermapbox\"}], \"scatterpolar\": [{\"marker\": {\"colorbar\": {\"outlinewidth\": 0, \"ticks\": \"\"}}, \"type\": \"scatterpolar\"}], \"scatterpolargl\": [{\"marker\": {\"colorbar\": {\"outlinewidth\": 0, \"ticks\": \"\"}}, \"type\": \"scatterpolargl\"}], \"scatterternary\": [{\"marker\": {\"colorbar\": {\"outlinewidth\": 0, \"ticks\": \"\"}}, \"type\": \"scatterternary\"}], \"surface\": [{\"colorbar\": {\"outlinewidth\": 0, \"ticks\": \"\"}, \"colorscale\": [[0.0, \"#0d0887\"], [0.1111111111111111, \"#46039f\"], [0.2222222222222222, \"#7201a8\"], [0.3333333333333333, \"#9c179e\"], [0.4444444444444444, \"#bd3786\"], [0.5555555555555556, \"#d8576b\"], [0.6666666666666666, \"#ed7953\"], [0.7777777777777778, \"#fb9f3a\"], [0.8888888888888888, \"#fdca26\"], [1.0, \"#f0f921\"]], \"type\": \"surface\"}], \"table\": [{\"cells\": {\"fill\": {\"color\": \"#EBF0F8\"}, \"line\": {\"color\": \"white\"}}, \"header\": {\"fill\": {\"color\": \"#C8D4E3\"}, \"line\": {\"color\": \"white\"}}, \"type\": \"table\"}]}, \"layout\": {\"annotationdefaults\": {\"arrowcolor\": \"#2a3f5f\", \"arrowhead\": 0, \"arrowwidth\": 1}, \"coloraxis\": {\"colorbar\": {\"outlinewidth\": 0, \"ticks\": \"\"}}, \"colorscale\": {\"diverging\": [[0, \"#8e0152\"], [0.1, \"#c51b7d\"], [0.2, \"#de77ae\"], [0.3, \"#f1b6da\"], [0.4, \"#fde0ef\"], [0.5, \"#f7f7f7\"], [0.6, \"#e6f5d0\"], [0.7, \"#b8e186\"], [0.8, \"#7fbc41\"], [0.9, \"#4d9221\"], [1, \"#276419\"]], \"sequential\": [[0.0, \"#0d0887\"], [0.1111111111111111, \"#46039f\"], [0.2222222222222222, \"#7201a8\"], [0.3333333333333333, \"#9c179e\"], [0.4444444444444444, \"#bd3786\"], [0.5555555555555556, \"#d8576b\"], [0.6666666666666666, \"#ed7953\"], [0.7777777777777778, \"#fb9f3a\"], [0.8888888888888888, \"#fdca26\"], [1.0, \"#f0f921\"]], \"sequentialminus\": [[0.0, \"#0d0887\"], [0.1111111111111111, \"#46039f\"], [0.2222222222222222, \"#7201a8\"], [0.3333333333333333, \"#9c179e\"], [0.4444444444444444, \"#bd3786\"], [0.5555555555555556, \"#d8576b\"], [0.6666666666666666, \"#ed7953\"], [0.7777777777777778, \"#fb9f3a\"], [0.8888888888888888, \"#fdca26\"], [1.0, \"#f0f921\"]]}, \"colorway\": [\"#636efa\", \"#EF553B\", \"#00cc96\", \"#ab63fa\", \"#FFA15A\", \"#19d3f3\", \"#FF6692\", \"#B6E880\", \"#FF97FF\", \"#FECB52\"], \"font\": {\"color\": \"#2a3f5f\"}, \"geo\": {\"bgcolor\": \"white\", \"lakecolor\": \"white\", \"landcolor\": \"#E5ECF6\", \"showlakes\": true, \"showland\": true, \"subunitcolor\": \"white\"}, \"hoverlabel\": {\"align\": \"left\"}, \"hovermode\": \"closest\", \"mapbox\": {\"style\": \"light\"}, \"paper_bgcolor\": \"white\", \"plot_bgcolor\": \"#E5ECF6\", \"polar\": {\"angularaxis\": {\"gridcolor\": \"white\", \"linecolor\": \"white\", \"ticks\": \"\"}, \"bgcolor\": \"#E5ECF6\", \"radialaxis\": {\"gridcolor\": \"white\", \"linecolor\": \"white\", \"ticks\": \"\"}}, \"scene\": {\"xaxis\": {\"backgroundcolor\": \"#E5ECF6\", \"gridcolor\": \"white\", \"gridwidth\": 2, \"linecolor\": \"white\", \"showbackground\": true, \"ticks\": \"\", \"zerolinecolor\": \"white\"}, \"yaxis\": {\"backgroundcolor\": \"#E5ECF6\", \"gridcolor\": \"white\", \"gridwidth\": 2, \"linecolor\": \"white\", \"showbackground\": true, \"ticks\": \"\", \"zerolinecolor\": \"white\"}, \"zaxis\": {\"backgroundcolor\": \"#E5ECF6\", \"gridcolor\": \"white\", \"gridwidth\": 2, \"linecolor\": \"white\", \"showbackground\": true, \"ticks\": \"\", \"zerolinecolor\": \"white\"}}, \"shapedefaults\": {\"line\": {\"color\": \"#2a3f5f\"}}, \"ternary\": {\"aaxis\": {\"gridcolor\": \"white\", \"linecolor\": \"white\", \"ticks\": \"\"}, \"baxis\": {\"gridcolor\": \"white\", \"linecolor\": \"white\", \"ticks\": \"\"}, \"bgcolor\": \"#E5ECF6\", \"caxis\": {\"gridcolor\": \"white\", \"linecolor\": \"white\", \"ticks\": \"\"}}, \"title\": {\"x\": 0.05}, \"xaxis\": {\"automargin\": true, \"gridcolor\": \"white\", \"linecolor\": \"white\", \"ticks\": \"\", \"title\": {\"standoff\": 15}, \"zerolinecolor\": \"white\", \"zerolinewidth\": 2}, \"yaxis\": {\"automargin\": true, \"gridcolor\": \"white\", \"linecolor\": \"white\", \"ticks\": \"\", \"title\": {\"standoff\": 15}, \"zerolinecolor\": \"white\", \"zerolinewidth\": 2}}}, \"title\": {\"font\": {\"color\": \"#4D5663\"}, \"text\": \"Bar Chart of Number of Cases per Year\"}, \"xaxis\": {\"gridcolor\": \"#E1E5ED\", \"linecolor\": \"black\", \"showgrid\": true, \"tickfont\": {\"color\": \"#4D5663\"}, \"title\": {\"font\": {\"color\": \"#4D5663\"}, \"text\": \"Year\"}, \"zerolinecolor\": \"#E1E5ED\"}, \"yaxis\": {\"gridcolor\": \"#E1E5ED\", \"linecolor\": \"black\", \"showgrid\": true, \"tickfont\": {\"color\": \"#4D5663\"}, \"title\": {\"font\": {\"color\": \"#4D5663\"}, \"text\": \"Count\"}, \"zerolinecolor\": \"#E1E5ED\"}},\n",
       "                        {\"showLink\": true, \"linkText\": \"Export to plot.ly\", \"plotlyServerURL\": \"https://plot.ly\", \"responsive\": true}\n",
       "                    ).then(function(){\n",
       "                            \n",
       "var gd = document.getElementById('9a4209d8-7ed5-4c5c-9630-dffb835f9a7e');\n",
       "var x = new MutationObserver(function (mutations, observer) {{\n",
       "        var display = window.getComputedStyle(gd).display;\n",
       "        if (!display || display === 'none') {{\n",
       "            console.log([gd, 'removed!']);\n",
       "            Plotly.purge(gd);\n",
       "            observer.disconnect();\n",
       "        }}\n",
       "}});\n",
       "\n",
       "// Listen for the removal of the full notebook cells\n",
       "var notebookContainer = gd.closest('#notebook-container');\n",
       "if (notebookContainer) {{\n",
       "    x.observe(notebookContainer, {childList: true});\n",
       "}}\n",
       "\n",
       "// Listen for the clearing of the current output cell\n",
       "var outputEl = gd.closest('.output');\n",
       "if (outputEl) {{\n",
       "    x.observe(outputEl, {childList: true});\n",
       "}}\n",
       "\n",
       "                        })\n",
       "                };\n",
       "                });\n",
       "            </script>\n",
       "        </div>"
      ]
     },
     "metadata": {},
     "output_type": "display_data"
    },
    {
     "data": {
      "text/plain": [
       "<Figure size 432x288 with 0 Axes>"
      ]
     },
     "metadata": {},
     "output_type": "display_data"
    }
   ],
   "source": [
    "case_df.groupby('decision_year').count()['id'].sort_values(ascending=False).iplot(kind='bar',\n",
    "                                            yTitle='Count', linecolor='black', opacity=0.8,\n",
    "                                            title='Bar Chart of Number of Cases per Year', xTitle='Year')\n",
    "plt.savefig('cases_per_year.png')"
   ]
  },
  {
   "cell_type": "markdown",
   "metadata": {},
   "source": [
    "We see peaks in the number of cases per year in the 1920s and into the 1970s. This could be due to potential economic issues where in the 1920s the United States suffered from the Great Depression and massive inflation and unemployment in the the 1970s. In order to financially survive, people were likely trying to get money through the court systems or perhaps there was more wrongdoings occuring during that time leading people to seek legal redress."
   ]
  },
  {
   "cell_type": "code",
   "execution_count": null,
   "metadata": {},
   "outputs": [],
   "source": []
  }
 ],
 "metadata": {
  "kernelspec": {
   "display_name": "python3",
   "language": "python",
   "name": "python3"
  },
  "language_info": {
   "codemirror_mode": {
    "name": "ipython",
    "version": 3
   },
   "file_extension": ".py",
   "mimetype": "text/x-python",
   "name": "python",
   "nbconvert_exporter": "python",
   "pygments_lexer": "ipython3",
   "version": "3.7.4"
  }
 },
 "nbformat": 4,
 "nbformat_minor": 2
}
